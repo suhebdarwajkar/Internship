{
 "cells": [
  {
   "cell_type": "markdown",
   "id": "e3a7fb81",
   "metadata": {},
   "source": [
    "# PYTHON WORKSHEET-1"
   ]
  },
  {
   "cell_type": "markdown",
   "id": "81a904aa",
   "metadata": {},
   "source": [
    "Q11. Write a python program to find the factorial of a number."
   ]
  },
  {
   "cell_type": "code",
   "execution_count": 1,
   "id": "abd4eca6",
   "metadata": {},
   "outputs": [
    {
     "name": "stdout",
     "output_type": "stream",
     "text": [
      "Enter number:8\n",
      "Factorial= 40320\n"
     ]
    }
   ],
   "source": [
    "#factorial of  8\n",
    "\n",
    "i=int(input(\"Enter number:\"))\n",
    "fact=1\n",
    "while(i>0):\n",
    "    fact=fact*i\n",
    "    i=i-1\n",
    "print(\"Factorial=\",fact)"
   ]
  },
  {
   "cell_type": "markdown",
   "id": "1657f43c",
   "metadata": {},
   "source": [
    "Q12. Write a python program to find whether a number is prime or composite."
   ]
  },
  {
   "cell_type": "code",
   "execution_count": 2,
   "id": "24617e86",
   "metadata": {},
   "outputs": [
    {
     "name": "stdout",
     "output_type": "stream",
     "text": [
      "Enter Number: 53\n",
      "Prime Number\n"
     ]
    }
   ],
   "source": [
    "#finding number is 53\n",
    "\n",
    "n=int(input(\"Enter Number: \"))\n",
    "count=0\n",
    "i=1\n",
    "while(i<=n):\n",
    "    if(n%i==0):\n",
    "        count=count+1\n",
    "    i=i+1\n",
    "if(count==2):\n",
    "    print(\"Prime Number\")\n",
    "else:\n",
    "    print(\"Composite Number\")"
   ]
  },
  {
   "cell_type": "markdown",
   "id": "c80a2281",
   "metadata": {},
   "source": [
    "Q13. Write a python program to check whether a given string is palindrome or not."
   ]
  },
  {
   "cell_type": "code",
   "execution_count": 3,
   "id": "30033cbd",
   "metadata": {},
   "outputs": [
    {
     "name": "stdout",
     "output_type": "stream",
     "text": [
      "Enter a String: racecar\n",
      "String Palindrome\n"
     ]
    }
   ],
   "source": [
    "#taaking string as \"racecar\"\n",
    "\n",
    "str=input(\"Enter a String: \")\n",
    "revstr=(str[::-1])\n",
    "if revstr==str:\n",
    "    print(\"String Palindrome\")\n",
    "else:\n",
    "    print(\"String Not Palindrome\")"
   ]
  },
  {
   "cell_type": "markdown",
   "id": "9a66d19e",
   "metadata": {},
   "source": [
    "Q14. Write a Python program to get the third side of right-angled triangle from two given sides."
   ]
  },
  {
   "cell_type": "code",
   "execution_count": 4,
   "id": "f681c177",
   "metadata": {},
   "outputs": [
    {
     "name": "stdout",
     "output_type": "stream",
     "text": [
      "Side a= 8\n",
      "Side b= 12\n",
      "The third side of right-angled triangle from two given sides=  14.422205101855956\n"
     ]
    }
   ],
   "source": [
    "#taking side a and b as 8 and 12\n",
    "\n",
    "from math import sqrt\n",
    "\n",
    "a=int(input(\"Side a= \"))\n",
    "b=int(input(\"Side b= \"))\n",
    "c=sqrt(a**2+b**2)\n",
    "\n",
    "print(\"The third side of right-angled triangle from two given sides= \",c)"
   ]
  },
  {
   "cell_type": "markdown",
   "id": "1070bdc0",
   "metadata": {},
   "source": [
    "Q15. Write a python program to print the frequency of each of the characters present in a given string."
   ]
  },
  {
   "cell_type": "code",
   "execution_count": 5,
   "id": "4eae6f31",
   "metadata": {},
   "outputs": [
    {
     "name": "stdout",
     "output_type": "stream",
     "text": [
      "Enter String: PYTHON WORKSHEET\n",
      "{'P': 1, 'Y': 1, 'T': 2, 'H': 2, 'O': 2, 'N': 1, ' ': 1, 'W': 1, 'R': 1, 'K': 1, 'S': 1, 'E': 2}\n"
     ]
    }
   ],
   "source": [
    "#taking string as \"PYTHON WORKSHEET\"\n",
    "\n",
    "str=input(\"Enter String: \")\n",
    "d=dict()\n",
    "for c in str:\n",
    "    if c in d:\n",
    "        d[c]=d[c]+1\n",
    "    else:\n",
    "        d[c]=1\n",
    "print(d)"
   ]
  },
  {
   "cell_type": "code",
   "execution_count": null,
   "id": "2f3471fd",
   "metadata": {},
   "outputs": [],
   "source": []
  }
 ],
 "metadata": {
  "kernelspec": {
   "display_name": "Python 3",
   "language": "python",
   "name": "python3"
  },
  "language_info": {
   "codemirror_mode": {
    "name": "ipython",
    "version": 3
   },
   "file_extension": ".py",
   "mimetype": "text/x-python",
   "name": "python",
   "nbconvert_exporter": "python",
   "pygments_lexer": "ipython3",
   "version": "3.8.8"
  }
 },
 "nbformat": 4,
 "nbformat_minor": 5
}
