{
 "cells": [
  {
   "cell_type": "markdown",
   "metadata": {},
   "source": [
    "Q1: program"
   ]
  },
  {
   "cell_type": "code",
   "execution_count": null,
   "metadata": {},
   "outputs": [],
   "source": [
    "#import all the required libraries\n",
    "import pandas as pd\n",
    "import selenium\n",
    "from selenium import webdriver\n",
    "from selenium.common.exceptions import StaleElementReferenceException, NoSuchElementException\n",
    "import warnings\n",
    "warnings.filterwarnings('ignore')"
   ]
  },
  {
   "cell_type": "code",
   "execution_count": 48,
   "metadata": {},
   "outputs": [],
   "source": [
    "import requests\n",
    "from selenium import webdriver\n",
    "\n",
    "driver =  webdriver.Chrome(r\"chromedriver.exe\")\n",
    "\n",
    "driver.get(\"https://www.Amazon.in/\")\n",
    "from bs4 import BeautifulSoup\n",
    "driver.maximize_window()"
   ]
  },
  {
   "cell_type": "code",
   "execution_count": 49,
   "metadata": {},
   "outputs": [],
   "source": [
    "#creating the empty list\n",
    "Title=[]\n",
    "Ratings=[]\n",
    "price=[]\n",
    "Rated=[]\n",
    "Delivery=[]\n",
    "images=[]\n",
    "brands=[]"
   ]
  },
  {
   "cell_type": "code",
   "execution_count": 50,
   "metadata": {},
   "outputs": [],
   "source": [
    "#locating the search bar\n",
    "search_bar = driver.find_element_by_id(\"twotabsearchtextbox\")    \n",
    "search_bar.clear()                                               \n",
    "search_bar.send_keys(\"guitar\")                                 \n",
    "search_button = driver.find_element_by_xpath('//span[@id=\"nav-search-submit-text\"]')       \n",
    "search_button.click()  "
   ]
  },
  {
   "cell_type": "code",
   "execution_count": 51,
   "metadata": {},
   "outputs": [
    {
     "data": {
      "text/plain": [
       "['7,499', '7,499', '9,999', '3,999', '2,695']"
      ]
     },
     "execution_count": 51,
     "metadata": {},
     "output_type": "execute_result"
    }
   ],
   "source": [
    "prices=driver.find_elements_by_xpath(\"//span[@class='a-price-whole']\")\n",
    "for i in prices:\n",
    "    price.append(i.text)\n",
    "\n",
    "price[0:5]"
   ]
  },
  {
   "cell_type": "code",
   "execution_count": 52,
   "metadata": {},
   "outputs": [
    {
     "data": {
      "text/plain": [
       "[]"
      ]
     },
     "execution_count": 52,
     "metadata": {},
     "output_type": "execute_result"
    }
   ],
   "source": [
    "titles=driver.find_elements_by_xpath(\"//h2[@class='a-size-mini a-spacing-none a-color-base s-line-clamp-3']\")\n",
    "for i in titles:\n",
    "    Title.append(i.text)\n",
    "Title[0:5]"
   ]
  },
  {
   "cell_type": "code",
   "execution_count": 53,
   "metadata": {},
   "outputs": [],
   "source": [
    "urls=driver.find_elements_by_xpath(\"//a[@class='a-link-normal a-text-normal']\")\n",
    "UR=[]\n",
    "for i in urls:\n",
    "    UR.append(i.get_attribute('href'))\n",
    "for url in UR:\n",
    "    driver.get(url)\n",
    "    try:\n",
    "        deliveries=driver.find_element_by_xpath(\"//div[@class='a-section a-spacing-mini']\")\n",
    "        Delivery.append(deliveries.text)\n",
    "        rate=driver.find_element_by_xpath(\"//span[@id='acrCustomerReviewText']\")\n",
    "        rate.click()\n",
    "        rating=driver.find_element_by_xpath(\"//span[@class='a-size-medium a-color-base']\")\n",
    "        Ratings.append(rating.text)\n",
    "        rates=driver.find_element_by_xpath(\"//span[@class='a-size-base a-color-secondary']\")\n",
    "        Rated.append(rates.text)\n",
    "    except NoSuchElementException   as e:\n",
    "        Ratings.append(\"NO rating\")#appending the No rating if no rating is there\n",
    "        Rated.append(\"No rating\")\n",
    "        brands.append(\"No rating\")\n",
    "        Delivery.append(\"No rating\")"
   ]
  },
  {
   "cell_type": "code",
   "execution_count": 54,
   "metadata": {},
   "outputs": [],
   "source": [
    "url=\"https://www.amazon.in/s?k=guitar&ref=nb_sb_noss\"\n",
    "driver.get(url)\n",
    "urls=driver.find_elements_by_xpath(\"//img[@class='s-image']\")\n",
    "images=[]\n",
    "for i in urls:\n",
    "    images.append(i.get_attribute('src'))\n",
    "for url in images:\n",
    "    driver.get(url)"
   ]
  },
  {
   "cell_type": "code",
   "execution_count": 55,
   "metadata": {},
   "outputs": [
    {
     "data": {
      "text/plain": [
       "['3.9 out of 5']"
      ]
     },
     "execution_count": 55,
     "metadata": {},
     "output_type": "execute_result"
    }
   ],
   "source": [
    "Ratings"
   ]
  },
  {
   "cell_type": "code",
   "execution_count": 56,
   "metadata": {},
   "outputs": [
    {
     "data": {
      "text/plain": [
       "['Size:']"
      ]
     },
     "execution_count": 56,
     "metadata": {},
     "output_type": "execute_result"
    }
   ],
   "source": [
    "Rated"
   ]
  },
  {
   "cell_type": "code",
   "execution_count": 57,
   "metadata": {},
   "outputs": [
    {
     "data": {
      "text/plain": [
       "['Ends in 01h 25m 39s']"
      ]
     },
     "execution_count": 57,
     "metadata": {},
     "output_type": "execute_result"
    }
   ],
   "source": [
    "Delivery"
   ]
  },
  {
   "cell_type": "code",
   "execution_count": 79,
   "metadata": {},
   "outputs": [],
   "source": [
    "import pandas as pd\n",
    "amazon=pd.DataFrame({})\n",
    "amazon['Titles']=Title[0:1]\n",
    "amazon['Price']=price[0:1]\n",
    "amazon['Ratings']=Ratings[0:1]\n",
    "amazon['rates']=Rated[0:1]\n",
    "amazon['delivery']=Delivery[0:1]\n",
    "amazon['images']=images[0:1]"
   ]
  },
  {
   "cell_type": "code",
   "execution_count": 80,
   "metadata": {},
   "outputs": [
    {
     "data": {
      "text/html": [
       "<div>\n",
       "<style scoped>\n",
       "    .dataframe tbody tr th:only-of-type {\n",
       "        vertical-align: middle;\n",
       "    }\n",
       "\n",
       "    .dataframe tbody tr th {\n",
       "        vertical-align: top;\n",
       "    }\n",
       "\n",
       "    .dataframe thead th {\n",
       "        text-align: right;\n",
       "    }\n",
       "</style>\n",
       "<table border=\"1\" class=\"dataframe\">\n",
       "  <thead>\n",
       "    <tr style=\"text-align: right;\">\n",
       "      <th></th>\n",
       "      <th>Titles</th>\n",
       "      <th>Price</th>\n",
       "      <th>Ratings</th>\n",
       "      <th>rates</th>\n",
       "      <th>delivery</th>\n",
       "      <th>images</th>\n",
       "    </tr>\n",
       "  </thead>\n",
       "  <tbody>\n",
       "    <tr>\n",
       "      <th>0</th>\n",
       "      <td>NaN</td>\n",
       "      <td>7,499</td>\n",
       "      <td>3.9 out of 5</td>\n",
       "      <td>Size:</td>\n",
       "      <td>Ends in 01h 25m 39s</td>\n",
       "      <td>https://m.media-amazon.com/images/I/61YjrJJeKQ...</td>\n",
       "    </tr>\n",
       "  </tbody>\n",
       "</table>\n",
       "</div>"
      ],
      "text/plain": [
       "   Titles  Price       Ratings  rates             delivery  \\\n",
       "0     NaN  7,499  3.9 out of 5  Size:  Ends in 01h 25m 39s   \n",
       "\n",
       "                                              images  \n",
       "0  https://m.media-amazon.com/images/I/61YjrJJeKQ...  "
      ]
     },
     "execution_count": 80,
     "metadata": {},
     "output_type": "execute_result"
    }
   ],
   "source": [
    "amazon"
   ]
  },
  {
   "cell_type": "markdown",
   "metadata": {},
   "source": [
    "Q2 : program"
   ]
  },
  {
   "cell_type": "code",
   "execution_count": 61,
   "metadata": {},
   "outputs": [],
   "source": [
    "url=\"https://www.amazon.in/s?k=guitar&page=2&qid=1619266454&ref=sr_pg_2\""
   ]
  },
  {
   "cell_type": "code",
   "execution_count": 62,
   "metadata": {},
   "outputs": [],
   "source": [
    "driver.get(url)"
   ]
  },
  {
   "cell_type": "code",
   "execution_count": 64,
   "metadata": {},
   "outputs": [
    {
     "data": {
      "text/plain": [
       "['7,499', '7,499', '9,999', '3,999', '2,695']"
      ]
     },
     "execution_count": 64,
     "metadata": {},
     "output_type": "execute_result"
    }
   ],
   "source": [
    "prices=driver.find_elements_by_xpath(\"//span[@class='a-price-whole']\")\n",
    "for i in prices:\n",
    "    price.append(i.text)\n",
    "price[0:5]"
   ]
  },
  {
   "cell_type": "code",
   "execution_count": 65,
   "metadata": {},
   "outputs": [
    {
     "data": {
      "text/plain": [
       "[]"
      ]
     },
     "execution_count": 65,
     "metadata": {},
     "output_type": "execute_result"
    }
   ],
   "source": [
    "titles=driver.find_elements_by_xpath(\"//h2[@class='a-size-mini a-spacing-none a-color-base s-line-clamp-4']\")\n",
    "for i in titles:\n",
    "    Title.append(i.text)\n",
    "Title[0:5]"
   ]
  },
  {
   "cell_type": "code",
   "execution_count": 66,
   "metadata": {},
   "outputs": [],
   "source": [
    "urls=driver.find_elements_by_xpath(\"//a[@class='a-link-normal a-text-normal']\")\n",
    "UR=[]\n",
    "for i in urls:\n",
    "    UR.append(i.get_attribute('href'))\n",
    "for url in UR:\n",
    "    driver.get(url)\n",
    "    try:\n",
    "        deliveries=driver.find_element_by_xpath(\"//div[@class='a-section a-spacing-mini']\")\n",
    "        Delivery.append(deliveries.text)\n",
    "        rate=driver.find_element_by_xpath(\"//span[@id='acrCustomerReviewText']\")\n",
    "        rate.click()\n",
    "        rating=driver.find_element_by_xpath(\"//span[@class='a-size-medium a-color-base']\")\n",
    "        Ratings.append(rating.text)\n",
    "        rates=driver.find_element_by_xpath(\"//span[@class='a-size-base a-color-secondary']\")\n",
    "        Rated.append(rates.text)\n",
    "    except NoSuchElementException   as e:\n",
    "        Ratings.append(\"NO rating\")#appending the No rating if no rating is there\n",
    "        Rated.append(\"No rating\")\n",
    "        brands.append(\"No rating\")\n",
    "        Delivery.append(\"No rating\")"
   ]
  },
  {
   "cell_type": "code",
   "execution_count": 76,
   "metadata": {},
   "outputs": [
    {
     "data": {
      "text/plain": [
       "['https://m.media-amazon.com/images/I/61YjrJJeKQL._AC_UL320_.jpg']"
      ]
     },
     "execution_count": 76,
     "metadata": {},
     "output_type": "execute_result"
    }
   ],
   "source": [
    "url=\"https://www.amazon.in/s?k=guitar&ref=nb_sb_noss\"\n",
    "driver.get(url)\n",
    "urls=driver.find_elements_by_xpath(\"//img[@class='s-image']\")\n",
    "images=[]\n",
    "for i in urls:\n",
    "    images.append(i.get_attribute('src'))\n",
    "for url in images:\n",
    "    driver.get(url)\n",
    "images[0:1]"
   ]
  },
  {
   "cell_type": "code",
   "execution_count": 68,
   "metadata": {},
   "outputs": [
    {
     "data": {
      "text/plain": [
       "['3.9 out of 5', '3.9 out of 5']"
      ]
     },
     "execution_count": 68,
     "metadata": {},
     "output_type": "execute_result"
    }
   ],
   "source": [
    "Ratings"
   ]
  },
  {
   "cell_type": "code",
   "execution_count": 69,
   "metadata": {},
   "outputs": [
    {
     "data": {
      "text/plain": [
       "['Size:', 'Size:']"
      ]
     },
     "execution_count": 69,
     "metadata": {},
     "output_type": "execute_result"
    }
   ],
   "source": [
    "Rated"
   ]
  },
  {
   "cell_type": "code",
   "execution_count": 70,
   "metadata": {},
   "outputs": [
    {
     "data": {
      "text/plain": [
       "['Ends in 01h 25m 39s', 'Ends in 01h 22m 15s']"
      ]
     },
     "execution_count": 70,
     "metadata": {},
     "output_type": "execute_result"
    }
   ],
   "source": [
    "Delivery"
   ]
  },
  {
   "cell_type": "code",
   "execution_count": 77,
   "metadata": {},
   "outputs": [],
   "source": [
    "import pandas as pd\n",
    "amazon=pd.DataFrame({})\n",
    "amazon['Titles']=Title[0:1]\n",
    "amazon['Price']=price[0:1]\n",
    "amazon['Ratings']=Ratings[0:1]\n",
    "amazon['rates']=Rated[0:1]\n",
    "amazon['delivery']=Delivery[0:1]\n",
    "amazon['product link']=images[0:1]"
   ]
  },
  {
   "cell_type": "code",
   "execution_count": 78,
   "metadata": {},
   "outputs": [
    {
     "data": {
      "text/html": [
       "<div>\n",
       "<style scoped>\n",
       "    .dataframe tbody tr th:only-of-type {\n",
       "        vertical-align: middle;\n",
       "    }\n",
       "\n",
       "    .dataframe tbody tr th {\n",
       "        vertical-align: top;\n",
       "    }\n",
       "\n",
       "    .dataframe thead th {\n",
       "        text-align: right;\n",
       "    }\n",
       "</style>\n",
       "<table border=\"1\" class=\"dataframe\">\n",
       "  <thead>\n",
       "    <tr style=\"text-align: right;\">\n",
       "      <th></th>\n",
       "      <th>Titles</th>\n",
       "      <th>Price</th>\n",
       "      <th>Ratings</th>\n",
       "      <th>rates</th>\n",
       "      <th>delivery</th>\n",
       "      <th>product link</th>\n",
       "    </tr>\n",
       "  </thead>\n",
       "  <tbody>\n",
       "    <tr>\n",
       "      <th>0</th>\n",
       "      <td>NaN</td>\n",
       "      <td>7,499</td>\n",
       "      <td>3.9 out of 5</td>\n",
       "      <td>Size:</td>\n",
       "      <td>Ends in 01h 25m 39s</td>\n",
       "      <td>https://m.media-amazon.com/images/I/61YjrJJeKQ...</td>\n",
       "    </tr>\n",
       "  </tbody>\n",
       "</table>\n",
       "</div>"
      ],
      "text/plain": [
       "   Titles  Price       Ratings  rates             delivery  \\\n",
       "0     NaN  7,499  3.9 out of 5  Size:  Ends in 01h 25m 39s   \n",
       "\n",
       "                                        product link  \n",
       "0  https://m.media-amazon.com/images/I/61YjrJJeKQ...  "
      ]
     },
     "execution_count": 78,
     "metadata": {},
     "output_type": "execute_result"
    }
   ],
   "source": [
    "amazon"
   ]
  },
  {
   "cell_type": "markdown",
   "metadata": {},
   "source": [
    "Q3: program"
   ]
  },
  {
   "cell_type": "code",
   "execution_count": 73,
   "metadata": {},
   "outputs": [],
   "source": [
    "import pandas as pd\n",
    "import selenium\n",
    "from selenium import webdriver\n",
    "from selenium.common.exceptions import StaleElementReferenceException, NoSuchElementException"
   ]
  },
  {
   "cell_type": "code",
   "execution_count": 81,
   "metadata": {},
   "outputs": [],
   "source": [
    "import requests\n",
    "from selenium import webdriver\n",
    "\n",
    "browser =  driver\n",
    "browser.get(\"https://images.google.com\")"
   ]
  },
  {
   "cell_type": "code",
   "execution_count": 84,
   "metadata": {},
   "outputs": [],
   "source": [
    "search_field_destination = browser.find_element_by_xpath('/html/body/div[1]/div[3]/form/div[1]/div[1]/div[1]/div/div[2]/input')\n",
    "search_field_destination.send_keys(\"Fruits\")"
   ]
  },
  {
   "cell_type": "code",
   "execution_count": 86,
   "metadata": {},
   "outputs": [],
   "source": [
    "search_button = driver.find_element_by_xpath('/html/body/div[1]/div[3]/form/div[1]/div[1]/div[1]/button/div/span')\n",
    "search_button.click()"
   ]
  },
  {
   "cell_type": "code",
   "execution_count": 103,
   "metadata": {},
   "outputs": [
    {
     "data": {
      "text/plain": [
       "[<selenium.webdriver.remote.webelement.WebElement (session=\"4890e543faad385872dd36a250c21e63\", element=\"51fde15b-945d-4ad9-963f-e02b793ea08e\")>,\n",
       " <selenium.webdriver.remote.webelement.WebElement (session=\"4890e543faad385872dd36a250c21e63\", element=\"25992afd-aeb1-4367-b5f3-4102251877b0\")>,\n",
       " <selenium.webdriver.remote.webelement.WebElement (session=\"4890e543faad385872dd36a250c21e63\", element=\"d81507ed-d96b-426d-9f09-a58c11f6d9b3\")>,\n",
       " <selenium.webdriver.remote.webelement.WebElement (session=\"4890e543faad385872dd36a250c21e63\", element=\"d3306460-a6b9-4076-9fb1-58e2f1d8ef62\")>,\n",
       " <selenium.webdriver.remote.webelement.WebElement (session=\"4890e543faad385872dd36a250c21e63\", element=\"e96f045d-f097-4873-b60d-d5706aeb5950\")>,\n",
       " <selenium.webdriver.remote.webelement.WebElement (session=\"4890e543faad385872dd36a250c21e63\", element=\"bcb83ce4-7720-4376-8c57-8594b4ad743c\")>,\n",
       " <selenium.webdriver.remote.webelement.WebElement (session=\"4890e543faad385872dd36a250c21e63\", element=\"8249cc54-19d7-4b28-b055-ac2733bc0e74\")>,\n",
       " <selenium.webdriver.remote.webelement.WebElement (session=\"4890e543faad385872dd36a250c21e63\", element=\"47e03fe0-ab50-4edc-9bb2-61e73d8d6445\")>,\n",
       " <selenium.webdriver.remote.webelement.WebElement (session=\"4890e543faad385872dd36a250c21e63\", element=\"36949284-8029-4d82-b055-9931394cb403\")>,\n",
       " <selenium.webdriver.remote.webelement.WebElement (session=\"4890e543faad385872dd36a250c21e63\", element=\"9b3dbd8b-d8e0-40af-afb4-0afa58e11a90\")>]"
      ]
     },
     "execution_count": 103,
     "metadata": {},
     "output_type": "execute_result"
    }
   ],
   "source": [
    "Fruits = []\n",
    "\n",
    "fruits_tags=browser.find_elements_by_xpath(\"//img[@class='rg_i Q4LuWd']\")\n",
    "fruits_tags[0:10]"
   ]
  },
  {
   "cell_type": "code",
   "execution_count": 107,
   "metadata": {},
   "outputs": [],
   "source": [
    "for i in fruits_tags:\n",
    "    Fruits.append(i.get_attribute('src'))"
   ]
  },
  {
   "cell_type": "code",
   "execution_count": 110,
   "metadata": {},
   "outputs": [],
   "source": [
    "search_field_destination = browser.find_element_by_xpath('/html/body/div[1]/div[3]/form/div[1]/div[1]/div[1]/div/div[2]/input')\n",
    "search_field_destination.send_keys(\"cars\")"
   ]
  },
  {
   "cell_type": "code",
   "execution_count": 112,
   "metadata": {},
   "outputs": [],
   "source": [
    "search_button = driver.find_element_by_xpath('/html/body/div[1]/div[3]/form/div[1]/div[1]/div[1]/button/div/span')\n",
    "search_button.click()"
   ]
  },
  {
   "cell_type": "code",
   "execution_count": 113,
   "metadata": {},
   "outputs": [
    {
     "data": {
      "text/plain": [
       "[<selenium.webdriver.remote.webelement.WebElement (session=\"4890e543faad385872dd36a250c21e63\", element=\"2f478d3d-c272-4833-b51d-8c8476b194f8\")>,\n",
       " <selenium.webdriver.remote.webelement.WebElement (session=\"4890e543faad385872dd36a250c21e63\", element=\"43cef345-6498-46db-ba64-bc20b1cffaee\")>,\n",
       " <selenium.webdriver.remote.webelement.WebElement (session=\"4890e543faad385872dd36a250c21e63\", element=\"4df6e8e7-92d6-4f98-822c-b068fecbc573\")>,\n",
       " <selenium.webdriver.remote.webelement.WebElement (session=\"4890e543faad385872dd36a250c21e63\", element=\"6eb35017-e246-40ca-865e-d0956eb881e8\")>,\n",
       " <selenium.webdriver.remote.webelement.WebElement (session=\"4890e543faad385872dd36a250c21e63\", element=\"78390700-76f8-4dfc-bc80-536d2d06cc81\")>,\n",
       " <selenium.webdriver.remote.webelement.WebElement (session=\"4890e543faad385872dd36a250c21e63\", element=\"c939634f-b616-4210-ba5e-24ab45045f8a\")>,\n",
       " <selenium.webdriver.remote.webelement.WebElement (session=\"4890e543faad385872dd36a250c21e63\", element=\"52a0b5e2-12ec-4d27-b325-b5aacd70e1e5\")>,\n",
       " <selenium.webdriver.remote.webelement.WebElement (session=\"4890e543faad385872dd36a250c21e63\", element=\"06079089-ffa4-4fcf-9004-a37da94bc8aa\")>,\n",
       " <selenium.webdriver.remote.webelement.WebElement (session=\"4890e543faad385872dd36a250c21e63\", element=\"121e14c6-e145-4fcc-8284-0a32539029f3\")>,\n",
       " <selenium.webdriver.remote.webelement.WebElement (session=\"4890e543faad385872dd36a250c21e63\", element=\"dac0f784-000d-4541-8eb3-c103c684e2f4\")>]"
      ]
     },
     "execution_count": 113,
     "metadata": {},
     "output_type": "execute_result"
    }
   ],
   "source": [
    "cars = []\n",
    "\n",
    "cars_tags=browser.find_elements_by_xpath(\"//img[@class='rg_i Q4LuWd']\")\n",
    "cars_tags[0:10]"
   ]
  },
  {
   "cell_type": "code",
   "execution_count": 115,
   "metadata": {},
   "outputs": [],
   "source": [
    "for i in cars_tags:\n",
    "    cars.append(i.get_attribute('src'))\n"
   ]
  },
  {
   "cell_type": "code",
   "execution_count": 116,
   "metadata": {},
   "outputs": [],
   "source": [
    "machine_learning = []\n",
    "search_field_destination = browser.find_element_by_xpath('/html/body/div[1]/div[3]/form/div[1]/div[1]/div[1]/div/div[2]/input')\n",
    "search_field_destination.send_keys(\"machine learning\")"
   ]
  },
  {
   "cell_type": "code",
   "execution_count": 117,
   "metadata": {},
   "outputs": [],
   "source": [
    "search_button = driver.find_element_by_xpath('/html/body/div[1]/div[3]/form/div[1]/div[1]/div[1]/button/div/span')\n",
    "search_button.click()"
   ]
  },
  {
   "cell_type": "code",
   "execution_count": 121,
   "metadata": {},
   "outputs": [
    {
     "data": {
      "text/plain": [
       "[<selenium.webdriver.remote.webelement.WebElement (session=\"4890e543faad385872dd36a250c21e63\", element=\"b41d8f6f-ff80-476b-85a4-e144e1f4ef36\")>,\n",
       " <selenium.webdriver.remote.webelement.WebElement (session=\"4890e543faad385872dd36a250c21e63\", element=\"25e5813b-b124-43f7-8446-4179ff112d9b\")>,\n",
       " <selenium.webdriver.remote.webelement.WebElement (session=\"4890e543faad385872dd36a250c21e63\", element=\"c896fa21-4567-493b-9cb1-e57d19d69428\")>,\n",
       " <selenium.webdriver.remote.webelement.WebElement (session=\"4890e543faad385872dd36a250c21e63\", element=\"63a6840c-d94f-47f6-8dab-fe227b38db76\")>,\n",
       " <selenium.webdriver.remote.webelement.WebElement (session=\"4890e543faad385872dd36a250c21e63\", element=\"6c5f46b4-ba46-480f-b36e-efa92420a36e\")>,\n",
       " <selenium.webdriver.remote.webelement.WebElement (session=\"4890e543faad385872dd36a250c21e63\", element=\"1b3288e5-1c0f-438c-97b7-17e0919a7ff6\")>,\n",
       " <selenium.webdriver.remote.webelement.WebElement (session=\"4890e543faad385872dd36a250c21e63\", element=\"6a9d27ea-da5a-4aae-bcd8-6efb27647a60\")>,\n",
       " <selenium.webdriver.remote.webelement.WebElement (session=\"4890e543faad385872dd36a250c21e63\", element=\"6a9e28b3-7335-4e85-8306-eaeb13234fae\")>,\n",
       " <selenium.webdriver.remote.webelement.WebElement (session=\"4890e543faad385872dd36a250c21e63\", element=\"535a27a2-5132-497c-b585-5e8b99cf0461\")>,\n",
       " <selenium.webdriver.remote.webelement.WebElement (session=\"4890e543faad385872dd36a250c21e63\", element=\"4d6f9c1a-b2c7-4e14-a7e4-83bb90fa3bb6\")>]"
      ]
     },
     "execution_count": 121,
     "metadata": {},
     "output_type": "execute_result"
    }
   ],
   "source": [
    "\n",
    "machine_tags=browser.find_elements_by_xpath(\"//div[@class='bRMDJf islir']/img[1]\")\n",
    "machine_tags[0:10]"
   ]
  },
  {
   "cell_type": "code",
   "execution_count": 124,
   "metadata": {},
   "outputs": [],
   "source": [
    "for i in machine_tags:\n",
    "    machine_learning.append(i.get_attribute('src'))\n"
   ]
  },
  {
   "cell_type": "code",
   "execution_count": 125,
   "metadata": {},
   "outputs": [],
   "source": [
    "search_field_destination = browser.find_element_by_xpath('/html/body/div[1]/div[3]/form/div[1]/div[1]/div[1]/div/div[2]/input')\n",
    "search_field_destination.send_keys(\"guitar\")"
   ]
  },
  {
   "cell_type": "code",
   "execution_count": 126,
   "metadata": {},
   "outputs": [],
   "source": [
    "search_button = driver.find_element_by_xpath('/html/body/div[1]/div[3]/form/div[1]/div[1]/div[1]/button/div/span')\n",
    "search_button.click()"
   ]
  },
  {
   "cell_type": "code",
   "execution_count": 127,
   "metadata": {},
   "outputs": [
    {
     "data": {
      "text/plain": [
       "[<selenium.webdriver.remote.webelement.WebElement (session=\"4890e543faad385872dd36a250c21e63\", element=\"5e67b6b9-45bd-4660-ac2a-7f01649d4eda\")>,\n",
       " <selenium.webdriver.remote.webelement.WebElement (session=\"4890e543faad385872dd36a250c21e63\", element=\"15a2b4e7-fb84-4e79-a439-f560c3b045c7\")>,\n",
       " <selenium.webdriver.remote.webelement.WebElement (session=\"4890e543faad385872dd36a250c21e63\", element=\"8defda2e-1f8c-46a5-ab52-55818e23df6d\")>,\n",
       " <selenium.webdriver.remote.webelement.WebElement (session=\"4890e543faad385872dd36a250c21e63\", element=\"f576bcba-1f01-4edf-9fbb-8fde19e1c7fd\")>,\n",
       " <selenium.webdriver.remote.webelement.WebElement (session=\"4890e543faad385872dd36a250c21e63\", element=\"ec8c904f-77ac-4372-aa3b-ccc3206f1738\")>,\n",
       " <selenium.webdriver.remote.webelement.WebElement (session=\"4890e543faad385872dd36a250c21e63\", element=\"baf44861-38e5-4479-aaba-40a39fff1271\")>,\n",
       " <selenium.webdriver.remote.webelement.WebElement (session=\"4890e543faad385872dd36a250c21e63\", element=\"a20e43df-5b0c-47da-9298-720c8e884f5a\")>,\n",
       " <selenium.webdriver.remote.webelement.WebElement (session=\"4890e543faad385872dd36a250c21e63\", element=\"8145ccdb-1dc7-4e4c-b2a6-7c510843a389\")>,\n",
       " <selenium.webdriver.remote.webelement.WebElement (session=\"4890e543faad385872dd36a250c21e63\", element=\"ff3bf356-6f6a-4cc1-964f-f7e416249463\")>,\n",
       " <selenium.webdriver.remote.webelement.WebElement (session=\"4890e543faad385872dd36a250c21e63\", element=\"86a43c68-d6d8-40eb-82c1-9250d32cd810\")>]"
      ]
     },
     "execution_count": 127,
     "metadata": {},
     "output_type": "execute_result"
    }
   ],
   "source": [
    "guitar_tags=browser.find_elements_by_xpath(\"//img[@class='rg_i Q4LuWd']\")\n",
    "guitar_tags[0:10]"
   ]
  },
  {
   "cell_type": "code",
   "execution_count": 128,
   "metadata": {},
   "outputs": [],
   "source": [
    "guitar = []\n",
    "for i in guitar_tags:\n",
    "    guitar.append(i.get_attribute('src'))"
   ]
  },
  {
   "cell_type": "code",
   "execution_count": 130,
   "metadata": {},
   "outputs": [],
   "source": [
    "search_field_destination = browser.find_element_by_xpath('/html/body/div[1]/div[3]/form/div[1]/div[1]/div[1]/div/div[2]/input')\n",
    "search_field_destination.send_keys(\"cakes\")"
   ]
  },
  {
   "cell_type": "code",
   "execution_count": 131,
   "metadata": {},
   "outputs": [],
   "source": [
    "search_button = driver.find_element_by_xpath('/html/body/div[1]/div[3]/form/div[1]/div[1]/div[1]/button/div/span')\n",
    "search_button.click()"
   ]
  },
  {
   "cell_type": "code",
   "execution_count": 132,
   "metadata": {},
   "outputs": [
    {
     "data": {
      "text/plain": [
       "[<selenium.webdriver.remote.webelement.WebElement (session=\"4890e543faad385872dd36a250c21e63\", element=\"30a784d7-b1cb-456f-a238-e5f13604157a\")>,\n",
       " <selenium.webdriver.remote.webelement.WebElement (session=\"4890e543faad385872dd36a250c21e63\", element=\"7266de94-0afc-4ec3-87c9-3da3aef0c72f\")>,\n",
       " <selenium.webdriver.remote.webelement.WebElement (session=\"4890e543faad385872dd36a250c21e63\", element=\"251a882e-e15d-4541-9cfb-0fa2c171369e\")>,\n",
       " <selenium.webdriver.remote.webelement.WebElement (session=\"4890e543faad385872dd36a250c21e63\", element=\"fd6e432a-60f5-4746-af74-addfb00ebb2f\")>,\n",
       " <selenium.webdriver.remote.webelement.WebElement (session=\"4890e543faad385872dd36a250c21e63\", element=\"ea258852-5217-4c80-af1c-2dd0a0297438\")>,\n",
       " <selenium.webdriver.remote.webelement.WebElement (session=\"4890e543faad385872dd36a250c21e63\", element=\"55c22dd5-c35a-430e-a75c-9b87abe5abb4\")>,\n",
       " <selenium.webdriver.remote.webelement.WebElement (session=\"4890e543faad385872dd36a250c21e63\", element=\"8ca0043c-1c67-490d-a282-62e48db3b0f7\")>,\n",
       " <selenium.webdriver.remote.webelement.WebElement (session=\"4890e543faad385872dd36a250c21e63\", element=\"fa3eaba2-cace-439d-a44f-d652bd7d93e6\")>,\n",
       " <selenium.webdriver.remote.webelement.WebElement (session=\"4890e543faad385872dd36a250c21e63\", element=\"fc4a11db-83c6-477c-9f6b-8e1b0be2178e\")>,\n",
       " <selenium.webdriver.remote.webelement.WebElement (session=\"4890e543faad385872dd36a250c21e63\", element=\"475b7622-71b0-4b8f-9b5d-e913f97d8f6b\")>]"
      ]
     },
     "execution_count": 132,
     "metadata": {},
     "output_type": "execute_result"
    }
   ],
   "source": [
    "cakes = []\n",
    "cakes_tags=browser.find_elements_by_xpath(\"//img[@class='rg_i Q4LuWd']\")\n",
    "cakes_tags[0:10]"
   ]
  },
  {
   "cell_type": "code",
   "execution_count": 133,
   "metadata": {},
   "outputs": [],
   "source": [
    "for i in cakes_tags:\n",
    "    cakes.append(i.get_attribute('src'))"
   ]
  },
  {
   "cell_type": "code",
   "execution_count": 135,
   "metadata": {},
   "outputs": [],
   "source": [
    "df_fruits = pd.DataFrame()\n",
    "df_fruits['Fruits'] = Fruits[0:10]\n",
    "df_fruits['cars'] = cars[0:10]\n",
    "df_fruits['machine learning'] = machine_learning[0:10]\n",
    "df_fruits['guitar'] = guitar[0:10]\n",
    "df_fruits['cakes'] = cakes[0:10]"
   ]
  },
  {
   "cell_type": "code",
   "execution_count": 136,
   "metadata": {},
   "outputs": [
    {
     "data": {
      "text/html": [
       "<div>\n",
       "<style scoped>\n",
       "    .dataframe tbody tr th:only-of-type {\n",
       "        vertical-align: middle;\n",
       "    }\n",
       "\n",
       "    .dataframe tbody tr th {\n",
       "        vertical-align: top;\n",
       "    }\n",
       "\n",
       "    .dataframe thead th {\n",
       "        text-align: right;\n",
       "    }\n",
       "</style>\n",
       "<table border=\"1\" class=\"dataframe\">\n",
       "  <thead>\n",
       "    <tr style=\"text-align: right;\">\n",
       "      <th></th>\n",
       "      <th>Fruits</th>\n",
       "      <th>cars</th>\n",
       "      <th>machine learning</th>\n",
       "      <th>guitar</th>\n",
       "      <th>cakes</th>\n",
       "    </tr>\n",
       "  </thead>\n",
       "  <tbody>\n",
       "    <tr>\n",
       "      <th>0</th>\n",
       "      <td></td>\n",
       "      <td>data:image/jpeg;base64,/9j/4AAQSkZJRgABAQAAAQA...</td>\n",
       "      <td>data:image/png;base64,iVBORw0KGgoAAAANSUhEUgAA...</td>\n",
       "      <td>data:image/jpeg;base64,/9j/4AAQSkZJRgABAQAAAQA...</td>\n",
       "      <td>data:image/jpeg;base64,/9j/4AAQSkZJRgABAQAAAQA...</td>\n",
       "    </tr>\n",
       "    <tr>\n",
       "      <th>1</th>\n",
       "      <td></td>\n",
       "      <td>data:image/jpeg;base64,/9j/4AAQSkZJRgABAQAAAQA...</td>\n",
       "      <td>data:image/jpeg;base64,/9j/4AAQSkZJRgABAQAAAQA...</td>\n",
       "      <td>data:image/jpeg;base64,/9j/4AAQSkZJRgABAQAAAQA...</td>\n",
       "      <td>data:image/jpeg;base64,/9j/4AAQSkZJRgABAQAAAQA...</td>\n",
       "    </tr>\n",
       "    <tr>\n",
       "      <th>2</th>\n",
       "      <td></td>\n",
       "      <td>data:image/jpeg;base64,/9j/4AAQSkZJRgABAQAAAQA...</td>\n",
       "      <td>data:image/jpeg;base64,/9j/4AAQSkZJRgABAQAAAQA...</td>\n",
       "      <td>data:image/jpeg;base64,/9j/4AAQSkZJRgABAQAAAQA...</td>\n",
       "      <td>data:image/jpeg;base64,/9j/4AAQSkZJRgABAQAAAQA...</td>\n",
       "    </tr>\n",
       "    <tr>\n",
       "      <th>3</th>\n",
       "      <td></td>\n",
       "      <td>data:image/jpeg;base64,/9j/4AAQSkZJRgABAQAAAQA...</td>\n",
       "      <td>data:image/jpeg;base64,/9j/4AAQSkZJRgABAQAAAQA...</td>\n",
       "      <td>data:image/jpeg;base64,/9j/4AAQSkZJRgABAQAAAQA...</td>\n",
       "      <td>data:image/jpeg;base64,/9j/4AAQSkZJRgABAQAAAQA...</td>\n",
       "    </tr>\n",
       "    <tr>\n",
       "      <th>4</th>\n",
       "      <td></td>\n",
       "      <td>data:image/jpeg;base64,/9j/4AAQSkZJRgABAQAAAQA...</td>\n",
       "      <td>data:image/jpeg;base64,/9j/4AAQSkZJRgABAQAAAQA...</td>\n",
       "      <td>data:image/jpeg;base64,/9j/4AAQSkZJRgABAQAAAQA...</td>\n",
       "      <td>data:image/jpeg;base64,/9j/4AAQSkZJRgABAQAAAQA...</td>\n",
       "    </tr>\n",
       "    <tr>\n",
       "      <th>5</th>\n",
       "      <td></td>\n",
       "      <td>data:image/jpeg;base64,/9j/4AAQSkZJRgABAQAAAQA...</td>\n",
       "      <td>data:image/jpeg;base64,/9j/4AAQSkZJRgABAQAAAQA...</td>\n",
       "      <td>data:image/jpeg;base64,/9j/4AAQSkZJRgABAQAAAQA...</td>\n",
       "      <td>data:image/jpeg;base64,/9j/4AAQSkZJRgABAQAAAQA...</td>\n",
       "    </tr>\n",
       "    <tr>\n",
       "      <th>6</th>\n",
       "      <td></td>\n",
       "      <td>data:image/jpeg;base64,/9j/4AAQSkZJRgABAQAAAQA...</td>\n",
       "      <td>data:image/jpeg;base64,/9j/4AAQSkZJRgABAQAAAQA...</td>\n",
       "      <td>data:image/jpeg;base64,/9j/4AAQSkZJRgABAQAAAQA...</td>\n",
       "      <td>data:image/jpeg;base64,/9j/4AAQSkZJRgABAQAAAQA...</td>\n",
       "    </tr>\n",
       "    <tr>\n",
       "      <th>7</th>\n",
       "      <td></td>\n",
       "      <td>data:image/jpeg;base64,/9j/4AAQSkZJRgABAQAAAQA...</td>\n",
       "      <td>data:image/jpeg;base64,/9j/4AAQSkZJRgABAQAAAQA...</td>\n",
       "      <td>data:image/jpeg;base64,/9j/4AAQSkZJRgABAQAAAQA...</td>\n",
       "      <td>data:image/jpeg;base64,/9j/4AAQSkZJRgABAQAAAQA...</td>\n",
       "    </tr>\n",
       "    <tr>\n",
       "      <th>8</th>\n",
       "      <td></td>\n",
       "      <td>data:image/jpeg;base64,/9j/4AAQSkZJRgABAQAAAQA...</td>\n",
       "      <td>data:image/jpeg;base64,/9j/4AAQSkZJRgABAQAAAQA...</td>\n",
       "      <td>data:image/jpeg;base64,/9j/4AAQSkZJRgABAQAAAQA...</td>\n",
       "      <td>data:image/jpeg;base64,/9j/4AAQSkZJRgABAQAAAQA...</td>\n",
       "    </tr>\n",
       "    <tr>\n",
       "      <th>9</th>\n",
       "      <td></td>\n",
       "      <td>data:image/jpeg;base64,/9j/4AAQSkZJRgABAQAAAQA...</td>\n",
       "      <td>data:image/png;base64,iVBORw0KGgoAAAANSUhEUgAA...</td>\n",
       "      <td>data:image/jpeg;base64,/9j/4AAQSkZJRgABAQAAAQA...</td>\n",
       "      <td>data:image/jpeg;base64,/9j/4AAQSkZJRgABAQAAAQA...</td>\n",
       "    </tr>\n",
       "  </tbody>\n",
       "</table>\n",
       "</div>"
      ],
      "text/plain": [
       "  Fruits                                               cars  \\\n",
       "0         data:image/jpeg;base64,/9j/4AAQSkZJRgABAQAAAQA...   \n",
       "1         data:image/jpeg;base64,/9j/4AAQSkZJRgABAQAAAQA...   \n",
       "2         data:image/jpeg;base64,/9j/4AAQSkZJRgABAQAAAQA...   \n",
       "3         data:image/jpeg;base64,/9j/4AAQSkZJRgABAQAAAQA...   \n",
       "4         data:image/jpeg;base64,/9j/4AAQSkZJRgABAQAAAQA...   \n",
       "5         data:image/jpeg;base64,/9j/4AAQSkZJRgABAQAAAQA...   \n",
       "6         data:image/jpeg;base64,/9j/4AAQSkZJRgABAQAAAQA...   \n",
       "7         data:image/jpeg;base64,/9j/4AAQSkZJRgABAQAAAQA...   \n",
       "8         data:image/jpeg;base64,/9j/4AAQSkZJRgABAQAAAQA...   \n",
       "9         data:image/jpeg;base64,/9j/4AAQSkZJRgABAQAAAQA...   \n",
       "\n",
       "                                    machine learning  \\\n",
       "0  data:image/png;base64,iVBORw0KGgoAAAANSUhEUgAA...   \n",
       "1  data:image/jpeg;base64,/9j/4AAQSkZJRgABAQAAAQA...   \n",
       "2  data:image/jpeg;base64,/9j/4AAQSkZJRgABAQAAAQA...   \n",
       "3  data:image/jpeg;base64,/9j/4AAQSkZJRgABAQAAAQA...   \n",
       "4  data:image/jpeg;base64,/9j/4AAQSkZJRgABAQAAAQA...   \n",
       "5  data:image/jpeg;base64,/9j/4AAQSkZJRgABAQAAAQA...   \n",
       "6  data:image/jpeg;base64,/9j/4AAQSkZJRgABAQAAAQA...   \n",
       "7  data:image/jpeg;base64,/9j/4AAQSkZJRgABAQAAAQA...   \n",
       "8  data:image/jpeg;base64,/9j/4AAQSkZJRgABAQAAAQA...   \n",
       "9  data:image/png;base64,iVBORw0KGgoAAAANSUhEUgAA...   \n",
       "\n",
       "                                              guitar  \\\n",
       "0  data:image/jpeg;base64,/9j/4AAQSkZJRgABAQAAAQA...   \n",
       "1  data:image/jpeg;base64,/9j/4AAQSkZJRgABAQAAAQA...   \n",
       "2  data:image/jpeg;base64,/9j/4AAQSkZJRgABAQAAAQA...   \n",
       "3  data:image/jpeg;base64,/9j/4AAQSkZJRgABAQAAAQA...   \n",
       "4  data:image/jpeg;base64,/9j/4AAQSkZJRgABAQAAAQA...   \n",
       "5  data:image/jpeg;base64,/9j/4AAQSkZJRgABAQAAAQA...   \n",
       "6  data:image/jpeg;base64,/9j/4AAQSkZJRgABAQAAAQA...   \n",
       "7  data:image/jpeg;base64,/9j/4AAQSkZJRgABAQAAAQA...   \n",
       "8  data:image/jpeg;base64,/9j/4AAQSkZJRgABAQAAAQA...   \n",
       "9  data:image/jpeg;base64,/9j/4AAQSkZJRgABAQAAAQA...   \n",
       "\n",
       "                                               cakes  \n",
       "0  data:image/jpeg;base64,/9j/4AAQSkZJRgABAQAAAQA...  \n",
       "1  data:image/jpeg;base64,/9j/4AAQSkZJRgABAQAAAQA...  \n",
       "2  data:image/jpeg;base64,/9j/4AAQSkZJRgABAQAAAQA...  \n",
       "3  data:image/jpeg;base64,/9j/4AAQSkZJRgABAQAAAQA...  \n",
       "4  data:image/jpeg;base64,/9j/4AAQSkZJRgABAQAAAQA...  \n",
       "5  data:image/jpeg;base64,/9j/4AAQSkZJRgABAQAAAQA...  \n",
       "6  data:image/jpeg;base64,/9j/4AAQSkZJRgABAQAAAQA...  \n",
       "7  data:image/jpeg;base64,/9j/4AAQSkZJRgABAQAAAQA...  \n",
       "8  data:image/jpeg;base64,/9j/4AAQSkZJRgABAQAAAQA...  \n",
       "9  data:image/jpeg;base64,/9j/4AAQSkZJRgABAQAAAQA...  "
      ]
     },
     "execution_count": 136,
     "metadata": {},
     "output_type": "execute_result"
    }
   ],
   "source": [
    "df_fruits"
   ]
  },
  {
   "cell_type": "markdown",
   "metadata": {},
   "source": [
    "Q4 : program"
   ]
  },
  {
   "cell_type": "code",
   "execution_count": 138,
   "metadata": {},
   "outputs": [],
   "source": [
    "driver = webdriver.Chrome(r'chromedriver.exe')\n",
    "\n",
    "url = \"https://www.flipkart.com/\"\n",
    "\n",
    "driver.get(url)\n",
    "\n",
    "driver.maximize_window() # to maximise the chrome window\n",
    "\n",
    "#entering \"Data Analyst\" in job search bar using selenium driver\n",
    "search_glass = driver.find_element_by_class_name('_3704LK')\n",
    "search_glass.send_keys(\"Vivo Mobile Phone\")\n",
    "#clicking submit button using selenium deriver\n",
    "button_1 = driver.find_element_by_xpath('/html/body/div[2]/div/div/button')\n",
    "button_1.click()\n",
    "driver.implicitly_wait(3)\n",
    "click_button = driver.find_element_by_class_name(\"L0Z3Pu\")\n",
    "click_button.click()"
   ]
  },
  {
   "cell_type": "code",
   "execution_count": 139,
   "metadata": {},
   "outputs": [],
   "source": [
    "Brand =[]\n",
    "br = driver.find_elements_by_xpath(\"//div[@class='_4rR01T']\")\n",
    "for i in br:\n",
    "    try:\n",
    "        Brand.append(i.text)#appending the ratings in Ratings list\n",
    "\n",
    "        \n",
    "\n",
    "    except:\n",
    "        Brand.append(\"_\")"
   ]
  },
  {
   "cell_type": "code",
   "execution_count": 140,
   "metadata": {},
   "outputs": [],
   "source": [
    "ratings=[]\n",
    "rating=driver.find_elements_by_class_name('_1lRcqv')#scraping description by class name = '_2mylT6'\n",
    "for i in rating:\n",
    "    try:\n",
    "        ratings.append(i.text)#appending the ratings in Ratings list\n",
    "\n",
    "        \n",
    "\n",
    "    except:\n",
    "        ratings.append(\"_\")"
   ]
  },
  {
   "cell_type": "code",
   "execution_count": 141,
   "metadata": {},
   "outputs": [],
   "source": [
    "RAM=[]\n",
    "RM=driver.find_elements_by_xpath(\"//ul[@class='_1xgFaf']/li[1]\")\n",
    "for i in RM:\n",
    "    try:\n",
    "        RAM.append(i.text)#appending the ratings in Ratings list\n",
    "\n",
    "        \n",
    "\n",
    "    except:\n",
    "        RAM.append"
   ]
  },
  {
   "cell_type": "code",
   "execution_count": 142,
   "metadata": {},
   "outputs": [],
   "source": [
    "Display_Size=[]\n",
    "DS=driver.find_elements_by_xpath(\"//ul[@class='_1xgFaf']/li[2]\")\n",
    "for i in DS:\n",
    "    try:\n",
    "        Display_Size.append(i.text)#appending the ratings in Ratings list\n",
    "\n",
    "        \n",
    "\n",
    "    except:\n",
    "        Display_Size.append(\"_\")"
   ]
  },
  {
   "cell_type": "code",
   "execution_count": 143,
   "metadata": {},
   "outputs": [],
   "source": [
    "Camera=[]\n",
    "cm=driver.find_elements_by_xpath(\"//ul[@class='_1xgFaf']/li[3]\")\n",
    "for i in cm:\n",
    "    try:\n",
    "        Camera.append(i.text)#appending the ratings in Ratings list\n",
    "\n",
    "        \n",
    "\n",
    "    except:\n",
    "        Camera.append(\"_\")"
   ]
  },
  {
   "cell_type": "code",
   "execution_count": 144,
   "metadata": {},
   "outputs": [],
   "source": [
    "Battery=[]\n",
    "bt=driver.find_elements_by_xpath(\"//ul[@class='_1xgFaf']/li[4]\")\n",
    "for i in bt:\n",
    "    try:\n",
    "        Battery.append(i.text)#appending the ratings in Ratings list\n",
    "\n",
    "        \n",
    "\n",
    "    except:\n",
    "        Battery.append(\"_\")"
   ]
  },
  {
   "cell_type": "code",
   "execution_count": 145,
   "metadata": {},
   "outputs": [],
   "source": [
    "Warranty=[]\n",
    "wy=driver.find_elements_by_xpath(\"//ul[@class='_1xgFaf']/li[5]\")\n",
    "for i in wy:\n",
    "    try:\n",
    "        Warranty.append(i.text)#appending the ratings in Ratings list\n",
    "\n",
    "        \n",
    "\n",
    "    except:\n",
    "        Warranty.append(\"_\")"
   ]
  },
  {
   "cell_type": "code",
   "execution_count": 146,
   "metadata": {},
   "outputs": [],
   "source": [
    "Prices=[]\n",
    "pr=driver.find_elements_by_xpath(\"//div[@class='_30jeq3 _1_WHN1']\")\n",
    "for i in pr:\n",
    "    try:\n",
    "        Prices.append(i.text)#appending the ratings in Ratings list\n",
    "\n",
    "        \n",
    "\n",
    "    except:\n",
    "        Prices.append(\"_\")"
   ]
  },
  {
   "cell_type": "code",
   "execution_count": 147,
   "metadata": {},
   "outputs": [],
   "source": [
    "flipkart=pd.DataFrame({})\n",
    "flipkart['brand']=Brand[0:22]\n",
    "flipkart['ratings']=ratings[0:22]\n",
    "flipkart['inches']=Display_Size[0:22]\n",
    "flipkart['camera']=Camera[0:22]\n",
    "flipkart['price']=Prices[0:22]\n",
    "flipkart['Ram']=RAM[0:22]\n",
    "flipkart['battery']=Battery[0:22]\n",
    "flipkart['warranty']=Warranty[0:22]"
   ]
  },
  {
   "cell_type": "code",
   "execution_count": 148,
   "metadata": {},
   "outputs": [
    {
     "data": {
      "text/html": [
       "<div>\n",
       "<style scoped>\n",
       "    .dataframe tbody tr th:only-of-type {\n",
       "        vertical-align: middle;\n",
       "    }\n",
       "\n",
       "    .dataframe tbody tr th {\n",
       "        vertical-align: top;\n",
       "    }\n",
       "\n",
       "    .dataframe thead th {\n",
       "        text-align: right;\n",
       "    }\n",
       "</style>\n",
       "<table border=\"1\" class=\"dataframe\">\n",
       "  <thead>\n",
       "    <tr style=\"text-align: right;\">\n",
       "      <th></th>\n",
       "      <th>brand</th>\n",
       "      <th>ratings</th>\n",
       "      <th>inches</th>\n",
       "      <th>camera</th>\n",
       "      <th>price</th>\n",
       "      <th>Ram</th>\n",
       "      <th>battery</th>\n",
       "      <th>warranty</th>\n",
       "    </tr>\n",
       "  </thead>\n",
       "  <tbody>\n",
       "    <tr>\n",
       "      <th>0</th>\n",
       "      <td>vivo T1 5G (Starlight Black, 128 GB)</td>\n",
       "      <td>4.4</td>\n",
       "      <td>16.71 cm (6.58 inch) Full HD+ Display</td>\n",
       "      <td>50MP + 2MP + 2MP | 16MP Front Camera</td>\n",
       "      <td>₹16,990</td>\n",
       "      <td>6 GB RAM | 128 GB ROM | Expandable Upto 1 TB</td>\n",
       "      <td>5000 mAh Lithium Battery</td>\n",
       "      <td>Qualcomm Snapdragon 695 Processor</td>\n",
       "    </tr>\n",
       "    <tr>\n",
       "      <th>1</th>\n",
       "      <td>vivo T1 5G (Rainbow Fantasy, 128 GB)</td>\n",
       "      <td>4.4</td>\n",
       "      <td>16.71 cm (6.58 inch) Full HD+ Display</td>\n",
       "      <td>50MP + 2MP + 2MP | 16MP Front Camera</td>\n",
       "      <td>₹16,990</td>\n",
       "      <td>6 GB RAM | 128 GB ROM | Expandable Upto 1 TB</td>\n",
       "      <td>5000 mAh Lithium Battery</td>\n",
       "      <td>Qualcomm Snapdragon 695 Processor</td>\n",
       "    </tr>\n",
       "    <tr>\n",
       "      <th>2</th>\n",
       "      <td>vivo T1 5G (Rainbow Fantasy, 128 GB)</td>\n",
       "      <td>4.3</td>\n",
       "      <td>16.71 cm (6.58 inch) Full HD+ Display</td>\n",
       "      <td>50MP + 2MP + 2MP | 16MP Front Camera</td>\n",
       "      <td>₹15,990</td>\n",
       "      <td>4 GB RAM | 128 GB ROM | Expandable Upto 1 TB</td>\n",
       "      <td>5000 mAh Lithium Battery</td>\n",
       "      <td>Qualcomm Snapdragon 695 Processor</td>\n",
       "    </tr>\n",
       "    <tr>\n",
       "      <th>3</th>\n",
       "      <td>vivo T1 5G (Starlight Black, 128 GB)</td>\n",
       "      <td>4.3</td>\n",
       "      <td>16.71 cm (6.58 inch) Full HD+ Display</td>\n",
       "      <td>50MP + 2MP + 2MP | 16MP Front Camera</td>\n",
       "      <td>₹15,990</td>\n",
       "      <td>4 GB RAM | 128 GB ROM | Expandable Upto 1 TB</td>\n",
       "      <td>5000 mAh Lithium Battery</td>\n",
       "      <td>Qualcomm Snapdragon 695 Processor</td>\n",
       "    </tr>\n",
       "    <tr>\n",
       "      <th>4</th>\n",
       "      <td>vivo T1 44W (Ice Dawn, 128 GB)</td>\n",
       "      <td>4.3</td>\n",
       "      <td>16.36 cm (6.44 inch) Full HD+ AMOLED Display</td>\n",
       "      <td>50MP + 2MP + 2MP | 16MP Front Camera</td>\n",
       "      <td>₹17,999</td>\n",
       "      <td>8 GB RAM | 128 GB ROM | Expandable Upto 1 TB</td>\n",
       "      <td>5000 mAh Lithium Battery</td>\n",
       "      <td>Qualcomm Snapdragon 680 Processor</td>\n",
       "    </tr>\n",
       "    <tr>\n",
       "      <th>5</th>\n",
       "      <td>vivo T1 44W (Midnight Galaxy, 128 GB)</td>\n",
       "      <td>4.5</td>\n",
       "      <td>16.36 cm (6.44 inch) Full HD+ AMOLED Display</td>\n",
       "      <td>50MP + 2MP + 2MP | 16MP Front Camera</td>\n",
       "      <td>₹15,999</td>\n",
       "      <td>6 GB RAM | 128 GB ROM | Expandable Upto 1 TB</td>\n",
       "      <td>5000 mAh Lithium Battery</td>\n",
       "      <td>Qualcomm Snapdragon 680 Processor</td>\n",
       "    </tr>\n",
       "    <tr>\n",
       "      <th>6</th>\n",
       "      <td>vivo T1 44W (Starry Sky, 128 GB)</td>\n",
       "      <td>4.6</td>\n",
       "      <td>16.36 cm (6.44 inch) Full HD+ AMOLED Display</td>\n",
       "      <td>50MP + 2MP + 2MP | 16MP Front Camera</td>\n",
       "      <td>₹14,499</td>\n",
       "      <td>4 GB RAM | 128 GB ROM | Expandable Upto 1 TB</td>\n",
       "      <td>5000 mAh Lithium Battery</td>\n",
       "      <td>Qualcomm Snapdragon 680 Processor</td>\n",
       "    </tr>\n",
       "    <tr>\n",
       "      <th>7</th>\n",
       "      <td>vivo T1 44W (Midnight Galaxy, 128 GB)</td>\n",
       "      <td>4.6</td>\n",
       "      <td>16.36 cm (6.44 inch) Full HD+ AMOLED Display</td>\n",
       "      <td>50MP + 2MP + 2MP | 16MP Front Camera</td>\n",
       "      <td>₹14,499</td>\n",
       "      <td>4 GB RAM | 128 GB ROM | Expandable Upto 1 TB</td>\n",
       "      <td>5000 mAh Lithium Battery</td>\n",
       "      <td>Qualcomm Snapdragon 680 Processor</td>\n",
       "    </tr>\n",
       "    <tr>\n",
       "      <th>8</th>\n",
       "      <td>vivo T1 44W (Starry Sky, 128 GB)</td>\n",
       "      <td>4.5</td>\n",
       "      <td>16.36 cm (6.44 inch) Full HD+ AMOLED Display</td>\n",
       "      <td>50MP + 2MP + 2MP | 16MP Front Camera</td>\n",
       "      <td>₹15,999</td>\n",
       "      <td>6 GB RAM | 128 GB ROM | Expandable Upto 1 TB</td>\n",
       "      <td>5000 mAh Lithium Battery</td>\n",
       "      <td>Qualcomm Snapdragon 680 Processor</td>\n",
       "    </tr>\n",
       "    <tr>\n",
       "      <th>9</th>\n",
       "      <td>vivo T1 44W (Ice Dawn, 128 GB)</td>\n",
       "      <td>4.6</td>\n",
       "      <td>16.36 cm (6.44 inch) Full HD+ AMOLED Display</td>\n",
       "      <td>50MP + 2MP + 2MP | 16MP Front Camera</td>\n",
       "      <td>₹14,499</td>\n",
       "      <td>4 GB RAM | 128 GB ROM | Expandable Upto 1 TB</td>\n",
       "      <td>5000 mAh Lithium Battery</td>\n",
       "      <td>Qualcomm Snapdragon 680 Processor</td>\n",
       "    </tr>\n",
       "    <tr>\n",
       "      <th>10</th>\n",
       "      <td>vivo T1 44W (Starry Sky, 128 GB)</td>\n",
       "      <td>4.3</td>\n",
       "      <td>16.36 cm (6.44 inch) Full HD+ AMOLED Display</td>\n",
       "      <td>50MP + 2MP + 2MP | 16MP Front Camera</td>\n",
       "      <td>₹17,999</td>\n",
       "      <td>8 GB RAM | 128 GB ROM | Expandable Upto 1 TB</td>\n",
       "      <td>5000 mAh Lithium Battery</td>\n",
       "      <td>Qualcomm Snapdragon 680 Processor</td>\n",
       "    </tr>\n",
       "    <tr>\n",
       "      <th>11</th>\n",
       "      <td>vivo T1 44W (Midnight Galaxy, 128 GB)</td>\n",
       "      <td>4.3</td>\n",
       "      <td>16.36 cm (6.44 inch) Full HD+ AMOLED Display</td>\n",
       "      <td>50MP + 2MP + 2MP | 16MP Front Camera</td>\n",
       "      <td>₹17,999</td>\n",
       "      <td>8 GB RAM | 128 GB ROM | Expandable Upto 1 TB</td>\n",
       "      <td>5000 mAh Lithium Battery</td>\n",
       "      <td>Qualcomm Snapdragon 680 Processor</td>\n",
       "    </tr>\n",
       "    <tr>\n",
       "      <th>12</th>\n",
       "      <td>vivo Y53s (Deep Sea Blue, 128 GB)</td>\n",
       "      <td>4.3</td>\n",
       "      <td>16.71 cm (6.58 inch) Full HD+ Display</td>\n",
       "      <td>64MP + 2MP + 2MP | 16MP Front Camera</td>\n",
       "      <td>₹15,990</td>\n",
       "      <td>8 GB RAM | 128 GB ROM | Expandable Upto 1 TB</td>\n",
       "      <td>5000 mAh Battery</td>\n",
       "      <td>MediaTek Helio G80 Processor</td>\n",
       "    </tr>\n",
       "    <tr>\n",
       "      <th>13</th>\n",
       "      <td>vivo T1 5G (Starlight Black, 128 GB)</td>\n",
       "      <td>4.3</td>\n",
       "      <td>16.71 cm (6.58 inch) Full HD+ Display</td>\n",
       "      <td>50MP + 2MP + 2MP | 16MP Front Camera</td>\n",
       "      <td>₹19,990</td>\n",
       "      <td>8 GB RAM | 128 GB ROM | Expandable Upto 1 TB</td>\n",
       "      <td>5000 mAh Lithium Battery</td>\n",
       "      <td>Qualcomm Snapdragon 695 Processor</td>\n",
       "    </tr>\n",
       "    <tr>\n",
       "      <th>14</th>\n",
       "      <td>vivo T1 5G (Rainbow Fantasy, 128 GB)</td>\n",
       "      <td>4.3</td>\n",
       "      <td>16.71 cm (6.58 inch) Full HD+ Display</td>\n",
       "      <td>50MP + 2MP + 2MP | 16MP Front Camera</td>\n",
       "      <td>₹19,990</td>\n",
       "      <td>8 GB RAM | 128 GB ROM | Expandable Upto 1 TB</td>\n",
       "      <td>5000 mAh Lithium Battery</td>\n",
       "      <td>Qualcomm Snapdragon 695 Processor</td>\n",
       "    </tr>\n",
       "    <tr>\n",
       "      <th>15</th>\n",
       "      <td>vivo Y53s (Fantastic Rainbow, 128 GB)</td>\n",
       "      <td>4.3</td>\n",
       "      <td>16.71 cm (6.58 inch) Full HD+ Display</td>\n",
       "      <td>64MP + 2MP + 2MP | 16MP Front Camera</td>\n",
       "      <td>₹15,990</td>\n",
       "      <td>8 GB RAM | 128 GB ROM | Expandable Upto 1 TB</td>\n",
       "      <td>5000 mAh Battery</td>\n",
       "      <td>MediaTek Helio G80 Processor</td>\n",
       "    </tr>\n",
       "    <tr>\n",
       "      <th>16</th>\n",
       "      <td>vivo T1 Pro 5G (Turbo Black, 128 GB)</td>\n",
       "      <td>4.4</td>\n",
       "      <td>16.36 cm (6.44 inch) Full HD+ AMOLED Display</td>\n",
       "      <td>64MP + 8MP + 2MP | 16MP Front Camera</td>\n",
       "      <td>₹24,999</td>\n",
       "      <td>8 GB RAM | 128 GB ROM</td>\n",
       "      <td>4700 mAh Lithium Battery</td>\n",
       "      <td>Qualcomm Snapdragon 778G 5G Mobile Platform Pr...</td>\n",
       "    </tr>\n",
       "    <tr>\n",
       "      <th>17</th>\n",
       "      <td>vivo T1 Pro 5G (Turbo Cyan, 128 GB)</td>\n",
       "      <td>4.4</td>\n",
       "      <td>16.36 cm (6.44 inch) Full HD+ AMOLED Display</td>\n",
       "      <td>64MP + 8MP + 2MP | 16MP Front Camera</td>\n",
       "      <td>₹24,999</td>\n",
       "      <td>8 GB RAM | 128 GB ROM</td>\n",
       "      <td>4700 mAh Lithium Battery</td>\n",
       "      <td>Qualcomm Snapdragon 778G 5G Mobile Platform Pr...</td>\n",
       "    </tr>\n",
       "    <tr>\n",
       "      <th>18</th>\n",
       "      <td>vivo T1 Pro 5G (Turbo Cyan, 128 GB)</td>\n",
       "      <td>4.3</td>\n",
       "      <td>16.36 cm (6.44 inch) Full HD+ AMOLED Display</td>\n",
       "      <td>64MP + 8MP + 2MP | 16MP Front Camera</td>\n",
       "      <td>₹23,999</td>\n",
       "      <td>6 GB RAM | 128 GB ROM</td>\n",
       "      <td>4700 mAh Lithium Battery</td>\n",
       "      <td>Qualcomm Snapdragon 778G 5G Mobile Platform Pr...</td>\n",
       "    </tr>\n",
       "    <tr>\n",
       "      <th>19</th>\n",
       "      <td>vivo Y21G (Midnight Blue, 64 GB)</td>\n",
       "      <td>4.4</td>\n",
       "      <td>16.54 cm (6.51 inch) HD+ Display</td>\n",
       "      <td>13MP + 2MP | 8MP Front Camera</td>\n",
       "      <td>₹13,499</td>\n",
       "      <td>4 GB RAM | 64 GB ROM | Expandable Upto 1 TB</td>\n",
       "      <td>5000 mAh Lithium Battery</td>\n",
       "      <td>Mediatek MT6769 Helio G70 Processor</td>\n",
       "    </tr>\n",
       "    <tr>\n",
       "      <th>20</th>\n",
       "      <td>vivo T1 Pro 5G (Turbo Black, 128 GB)</td>\n",
       "      <td>4.3</td>\n",
       "      <td>16.36 cm (6.44 inch) Full HD+ AMOLED Display</td>\n",
       "      <td>64MP + 8MP + 2MP | 16MP Front Camera</td>\n",
       "      <td>₹23,999</td>\n",
       "      <td>6 GB RAM | 128 GB ROM</td>\n",
       "      <td>4700 mAh Lithium Battery</td>\n",
       "      <td>Qualcomm Snapdragon 778G 5G Mobile Platform Pr...</td>\n",
       "    </tr>\n",
       "    <tr>\n",
       "      <th>21</th>\n",
       "      <td>vivo Y15s (Mystic Blue, 32 GB)</td>\n",
       "      <td>4.3</td>\n",
       "      <td>16.54 cm (6.51 inch) HD+ Display</td>\n",
       "      <td>13MP + 2MP | 8MP Front Camera</td>\n",
       "      <td>₹10,490</td>\n",
       "      <td>3 GB RAM | 32 GB ROM | Expandable Upto 1 TB</td>\n",
       "      <td>5000 mAh Lithium Battery Battery</td>\n",
       "      <td>Mediatek Helio P35 Processor</td>\n",
       "    </tr>\n",
       "  </tbody>\n",
       "</table>\n",
       "</div>"
      ],
      "text/plain": [
       "                                    brand ratings  \\\n",
       "0    vivo T1 5G (Starlight Black, 128 GB)     4.4   \n",
       "1    vivo T1 5G (Rainbow Fantasy, 128 GB)     4.4   \n",
       "2    vivo T1 5G (Rainbow Fantasy, 128 GB)     4.3   \n",
       "3    vivo T1 5G (Starlight Black, 128 GB)     4.3   \n",
       "4          vivo T1 44W (Ice Dawn, 128 GB)     4.3   \n",
       "5   vivo T1 44W (Midnight Galaxy, 128 GB)     4.5   \n",
       "6        vivo T1 44W (Starry Sky, 128 GB)     4.6   \n",
       "7   vivo T1 44W (Midnight Galaxy, 128 GB)     4.6   \n",
       "8        vivo T1 44W (Starry Sky, 128 GB)     4.5   \n",
       "9          vivo T1 44W (Ice Dawn, 128 GB)     4.6   \n",
       "10       vivo T1 44W (Starry Sky, 128 GB)     4.3   \n",
       "11  vivo T1 44W (Midnight Galaxy, 128 GB)     4.3   \n",
       "12      vivo Y53s (Deep Sea Blue, 128 GB)     4.3   \n",
       "13   vivo T1 5G (Starlight Black, 128 GB)     4.3   \n",
       "14   vivo T1 5G (Rainbow Fantasy, 128 GB)     4.3   \n",
       "15  vivo Y53s (Fantastic Rainbow, 128 GB)     4.3   \n",
       "16   vivo T1 Pro 5G (Turbo Black, 128 GB)     4.4   \n",
       "17    vivo T1 Pro 5G (Turbo Cyan, 128 GB)     4.4   \n",
       "18    vivo T1 Pro 5G (Turbo Cyan, 128 GB)     4.3   \n",
       "19       vivo Y21G (Midnight Blue, 64 GB)     4.4   \n",
       "20   vivo T1 Pro 5G (Turbo Black, 128 GB)     4.3   \n",
       "21         vivo Y15s (Mystic Blue, 32 GB)     4.3   \n",
       "\n",
       "                                          inches  \\\n",
       "0          16.71 cm (6.58 inch) Full HD+ Display   \n",
       "1          16.71 cm (6.58 inch) Full HD+ Display   \n",
       "2          16.71 cm (6.58 inch) Full HD+ Display   \n",
       "3          16.71 cm (6.58 inch) Full HD+ Display   \n",
       "4   16.36 cm (6.44 inch) Full HD+ AMOLED Display   \n",
       "5   16.36 cm (6.44 inch) Full HD+ AMOLED Display   \n",
       "6   16.36 cm (6.44 inch) Full HD+ AMOLED Display   \n",
       "7   16.36 cm (6.44 inch) Full HD+ AMOLED Display   \n",
       "8   16.36 cm (6.44 inch) Full HD+ AMOLED Display   \n",
       "9   16.36 cm (6.44 inch) Full HD+ AMOLED Display   \n",
       "10  16.36 cm (6.44 inch) Full HD+ AMOLED Display   \n",
       "11  16.36 cm (6.44 inch) Full HD+ AMOLED Display   \n",
       "12         16.71 cm (6.58 inch) Full HD+ Display   \n",
       "13         16.71 cm (6.58 inch) Full HD+ Display   \n",
       "14         16.71 cm (6.58 inch) Full HD+ Display   \n",
       "15         16.71 cm (6.58 inch) Full HD+ Display   \n",
       "16  16.36 cm (6.44 inch) Full HD+ AMOLED Display   \n",
       "17  16.36 cm (6.44 inch) Full HD+ AMOLED Display   \n",
       "18  16.36 cm (6.44 inch) Full HD+ AMOLED Display   \n",
       "19              16.54 cm (6.51 inch) HD+ Display   \n",
       "20  16.36 cm (6.44 inch) Full HD+ AMOLED Display   \n",
       "21              16.54 cm (6.51 inch) HD+ Display   \n",
       "\n",
       "                                  camera    price  \\\n",
       "0   50MP + 2MP + 2MP | 16MP Front Camera  ₹16,990   \n",
       "1   50MP + 2MP + 2MP | 16MP Front Camera  ₹16,990   \n",
       "2   50MP + 2MP + 2MP | 16MP Front Camera  ₹15,990   \n",
       "3   50MP + 2MP + 2MP | 16MP Front Camera  ₹15,990   \n",
       "4   50MP + 2MP + 2MP | 16MP Front Camera  ₹17,999   \n",
       "5   50MP + 2MP + 2MP | 16MP Front Camera  ₹15,999   \n",
       "6   50MP + 2MP + 2MP | 16MP Front Camera  ₹14,499   \n",
       "7   50MP + 2MP + 2MP | 16MP Front Camera  ₹14,499   \n",
       "8   50MP + 2MP + 2MP | 16MP Front Camera  ₹15,999   \n",
       "9   50MP + 2MP + 2MP | 16MP Front Camera  ₹14,499   \n",
       "10  50MP + 2MP + 2MP | 16MP Front Camera  ₹17,999   \n",
       "11  50MP + 2MP + 2MP | 16MP Front Camera  ₹17,999   \n",
       "12  64MP + 2MP + 2MP | 16MP Front Camera  ₹15,990   \n",
       "13  50MP + 2MP + 2MP | 16MP Front Camera  ₹19,990   \n",
       "14  50MP + 2MP + 2MP | 16MP Front Camera  ₹19,990   \n",
       "15  64MP + 2MP + 2MP | 16MP Front Camera  ₹15,990   \n",
       "16  64MP + 8MP + 2MP | 16MP Front Camera  ₹24,999   \n",
       "17  64MP + 8MP + 2MP | 16MP Front Camera  ₹24,999   \n",
       "18  64MP + 8MP + 2MP | 16MP Front Camera  ₹23,999   \n",
       "19         13MP + 2MP | 8MP Front Camera  ₹13,499   \n",
       "20  64MP + 8MP + 2MP | 16MP Front Camera  ₹23,999   \n",
       "21         13MP + 2MP | 8MP Front Camera  ₹10,490   \n",
       "\n",
       "                                             Ram  \\\n",
       "0   6 GB RAM | 128 GB ROM | Expandable Upto 1 TB   \n",
       "1   6 GB RAM | 128 GB ROM | Expandable Upto 1 TB   \n",
       "2   4 GB RAM | 128 GB ROM | Expandable Upto 1 TB   \n",
       "3   4 GB RAM | 128 GB ROM | Expandable Upto 1 TB   \n",
       "4   8 GB RAM | 128 GB ROM | Expandable Upto 1 TB   \n",
       "5   6 GB RAM | 128 GB ROM | Expandable Upto 1 TB   \n",
       "6   4 GB RAM | 128 GB ROM | Expandable Upto 1 TB   \n",
       "7   4 GB RAM | 128 GB ROM | Expandable Upto 1 TB   \n",
       "8   6 GB RAM | 128 GB ROM | Expandable Upto 1 TB   \n",
       "9   4 GB RAM | 128 GB ROM | Expandable Upto 1 TB   \n",
       "10  8 GB RAM | 128 GB ROM | Expandable Upto 1 TB   \n",
       "11  8 GB RAM | 128 GB ROM | Expandable Upto 1 TB   \n",
       "12  8 GB RAM | 128 GB ROM | Expandable Upto 1 TB   \n",
       "13  8 GB RAM | 128 GB ROM | Expandable Upto 1 TB   \n",
       "14  8 GB RAM | 128 GB ROM | Expandable Upto 1 TB   \n",
       "15  8 GB RAM | 128 GB ROM | Expandable Upto 1 TB   \n",
       "16                         8 GB RAM | 128 GB ROM   \n",
       "17                         8 GB RAM | 128 GB ROM   \n",
       "18                         6 GB RAM | 128 GB ROM   \n",
       "19   4 GB RAM | 64 GB ROM | Expandable Upto 1 TB   \n",
       "20                         6 GB RAM | 128 GB ROM   \n",
       "21   3 GB RAM | 32 GB ROM | Expandable Upto 1 TB   \n",
       "\n",
       "                             battery  \\\n",
       "0           5000 mAh Lithium Battery   \n",
       "1           5000 mAh Lithium Battery   \n",
       "2           5000 mAh Lithium Battery   \n",
       "3           5000 mAh Lithium Battery   \n",
       "4           5000 mAh Lithium Battery   \n",
       "5           5000 mAh Lithium Battery   \n",
       "6           5000 mAh Lithium Battery   \n",
       "7           5000 mAh Lithium Battery   \n",
       "8           5000 mAh Lithium Battery   \n",
       "9           5000 mAh Lithium Battery   \n",
       "10          5000 mAh Lithium Battery   \n",
       "11          5000 mAh Lithium Battery   \n",
       "12                  5000 mAh Battery   \n",
       "13          5000 mAh Lithium Battery   \n",
       "14          5000 mAh Lithium Battery   \n",
       "15                  5000 mAh Battery   \n",
       "16          4700 mAh Lithium Battery   \n",
       "17          4700 mAh Lithium Battery   \n",
       "18          4700 mAh Lithium Battery   \n",
       "19          5000 mAh Lithium Battery   \n",
       "20          4700 mAh Lithium Battery   \n",
       "21  5000 mAh Lithium Battery Battery   \n",
       "\n",
       "                                             warranty  \n",
       "0                   Qualcomm Snapdragon 695 Processor  \n",
       "1                   Qualcomm Snapdragon 695 Processor  \n",
       "2                   Qualcomm Snapdragon 695 Processor  \n",
       "3                   Qualcomm Snapdragon 695 Processor  \n",
       "4                   Qualcomm Snapdragon 680 Processor  \n",
       "5                   Qualcomm Snapdragon 680 Processor  \n",
       "6                   Qualcomm Snapdragon 680 Processor  \n",
       "7                   Qualcomm Snapdragon 680 Processor  \n",
       "8                   Qualcomm Snapdragon 680 Processor  \n",
       "9                   Qualcomm Snapdragon 680 Processor  \n",
       "10                  Qualcomm Snapdragon 680 Processor  \n",
       "11                  Qualcomm Snapdragon 680 Processor  \n",
       "12                       MediaTek Helio G80 Processor  \n",
       "13                  Qualcomm Snapdragon 695 Processor  \n",
       "14                  Qualcomm Snapdragon 695 Processor  \n",
       "15                       MediaTek Helio G80 Processor  \n",
       "16  Qualcomm Snapdragon 778G 5G Mobile Platform Pr...  \n",
       "17  Qualcomm Snapdragon 778G 5G Mobile Platform Pr...  \n",
       "18  Qualcomm Snapdragon 778G 5G Mobile Platform Pr...  \n",
       "19                Mediatek MT6769 Helio G70 Processor  \n",
       "20  Qualcomm Snapdragon 778G 5G Mobile Platform Pr...  \n",
       "21                       Mediatek Helio P35 Processor  "
      ]
     },
     "execution_count": 148,
     "metadata": {},
     "output_type": "execute_result"
    }
   ],
   "source": [
    "flipkart"
   ]
  },
  {
   "cell_type": "markdown",
   "metadata": {},
   "source": [
    "Q 5 : program"
   ]
  },
  {
   "cell_type": "code",
   "execution_count": 149,
   "metadata": {},
   "outputs": [],
   "source": [
    "driver.get(\"https://maps.google.com/\")"
   ]
  },
  {
   "cell_type": "code",
   "execution_count": 152,
   "metadata": {},
   "outputs": [
    {
     "name": "stdout",
     "output_type": "stream",
     "text": [
      "Enter your Search:dandeli\n"
     ]
    }
   ],
   "source": [
    "driver.maximize_window()\n",
    "search_job = driver.find_element_by_id(\"searchboxinput\")\n",
    "search_job.send_keys(input(\"Enter your Search:\"))"
   ]
  },
  {
   "cell_type": "code",
   "execution_count": 154,
   "metadata": {},
   "outputs": [],
   "source": [
    "search_btn = driver.find_element_by_id (\"searchbox-searchbutton\")\n",
    "search_btn.click()"
   ]
  },
  {
   "cell_type": "code",
   "execution_count": 155,
   "metadata": {},
   "outputs": [],
   "source": [
    "a = driver.current_url"
   ]
  },
  {
   "cell_type": "code",
   "execution_count": 156,
   "metadata": {},
   "outputs": [
    {
     "data": {
      "text/plain": [
       "'https://www.google.com/maps/place/Old+Dandeli,+Dandeli,+Karnataka+581325/@15.2361186,74.6085271,15z/data=!3m1!4b1!4m5!3m4!1s0x3bbf2013bd84cb99:0x44a7efeb332459ef!8m2!3d15.2361191!4d74.6172819'"
      ]
     },
     "execution_count": 156,
     "metadata": {},
     "output_type": "execute_result"
    }
   ],
   "source": [
    "a"
   ]
  },
  {
   "cell_type": "code",
   "execution_count": 160,
   "metadata": {},
   "outputs": [
    {
     "ename": "AttributeError",
     "evalue": "'list' object has no attribute 'split'",
     "output_type": "error",
     "traceback": [
      "\u001b[1;31m---------------------------------------------------------------------------\u001b[0m",
      "\u001b[1;31mAttributeError\u001b[0m                            Traceback (most recent call last)",
      "\u001b[1;32m<ipython-input-160-6dc45fcf1eec>\u001b[0m in \u001b[0;36m<module>\u001b[1;34m\u001b[0m\n\u001b[1;32m----> 1\u001b[1;33m \u001b[0ma\u001b[0m \u001b[1;33m=\u001b[0m\u001b[0ma\u001b[0m\u001b[1;33m.\u001b[0m\u001b[0msplit\u001b[0m\u001b[1;33m(\u001b[0m\u001b[0msep\u001b[0m\u001b[1;33m=\u001b[0m\u001b[1;34m\"/\"\u001b[0m\u001b[1;33m)\u001b[0m\u001b[1;33m\u001b[0m\u001b[1;33m\u001b[0m\u001b[0m\n\u001b[0m",
      "\u001b[1;31mAttributeError\u001b[0m: 'list' object has no attribute 'split'"
     ]
    }
   ],
   "source": [
    "a =a.split(sep=\"/\")"
   ]
  },
  {
   "cell_type": "code",
   "execution_count": 161,
   "metadata": {},
   "outputs": [
    {
     "data": {
      "text/plain": [
       "['https:',\n",
       " '',\n",
       " 'www.google.com',\n",
       " 'maps',\n",
       " 'place',\n",
       " 'Old+Dandeli,+Dandeli,+Karnataka+581325',\n",
       " '@15.2361186,74.6085271,15z',\n",
       " 'data=!3m1!4b1!4m5!3m4!1s0x3bbf2013bd84cb99:0x44a7efeb332459ef!8m2!3d15.2361191!4d74.6172819']"
      ]
     },
     "execution_count": 161,
     "metadata": {},
     "output_type": "execute_result"
    }
   ],
   "source": [
    "a"
   ]
  },
  {
   "cell_type": "code",
   "execution_count": 162,
   "metadata": {},
   "outputs": [
    {
     "data": {
      "text/plain": [
       "'@15.2361186,74.6085271,15z'"
      ]
     },
     "execution_count": 162,
     "metadata": {},
     "output_type": "execute_result"
    }
   ],
   "source": [
    "a[6]"
   ]
  },
  {
   "cell_type": "markdown",
   "metadata": {},
   "source": [
    "Q 6 : program"
   ]
  },
  {
   "cell_type": "code",
   "execution_count": 164,
   "metadata": {},
   "outputs": [],
   "source": [
    "browser =  webdriver.Chrome(r'chromedriver.exe')\n",
    "\n",
    "browser.get(\"https://trak.in/india-startup-funding-investment-2015/\")"
   ]
  },
  {
   "cell_type": "code",
   "execution_count": 165,
   "metadata": {},
   "outputs": [
    {
     "data": {
      "text/plain": [
       "[<selenium.webdriver.remote.webelement.WebElement (session=\"6ea26c8e79f4630203c7d5080e94cc0a\", element=\"08df71e1-711a-4c21-95d7-d8026d656e62\")>,\n",
       " <selenium.webdriver.remote.webelement.WebElement (session=\"6ea26c8e79f4630203c7d5080e94cc0a\", element=\"8a42e0ab-d28c-40fa-a8a1-e54c8f861ce6\")>,\n",
       " <selenium.webdriver.remote.webelement.WebElement (session=\"6ea26c8e79f4630203c7d5080e94cc0a\", element=\"1696691d-f391-4b71-a1e2-a2927cabd199\")>,\n",
       " <selenium.webdriver.remote.webelement.WebElement (session=\"6ea26c8e79f4630203c7d5080e94cc0a\", element=\"876f50f7-6c55-4f73-9030-b16f31246395\")>,\n",
       " <selenium.webdriver.remote.webelement.WebElement (session=\"6ea26c8e79f4630203c7d5080e94cc0a\", element=\"ba0cac02-a93e-4766-872d-9cef55e97657\")>,\n",
       " <selenium.webdriver.remote.webelement.WebElement (session=\"6ea26c8e79f4630203c7d5080e94cc0a\", element=\"af7ec545-5ff3-45c1-9a64-7b62568da4e3\")>,\n",
       " <selenium.webdriver.remote.webelement.WebElement (session=\"6ea26c8e79f4630203c7d5080e94cc0a\", element=\"9975d0c3-1f5e-4182-87f6-b3a402f2bf19\")>,\n",
       " <selenium.webdriver.remote.webelement.WebElement (session=\"6ea26c8e79f4630203c7d5080e94cc0a\", element=\"b89cd34d-9143-40c0-9bab-42d7ef5e9a90\")>,\n",
       " <selenium.webdriver.remote.webelement.WebElement (session=\"6ea26c8e79f4630203c7d5080e94cc0a\", element=\"1ed78c64-4254-4ad5-b8b7-b1eedffc300f\")>,\n",
       " <selenium.webdriver.remote.webelement.WebElement (session=\"6ea26c8e79f4630203c7d5080e94cc0a\", element=\"741a69f6-2793-4626-9405-7b9df3e68ccc\")>,\n",
       " <selenium.webdriver.remote.webelement.WebElement (session=\"6ea26c8e79f4630203c7d5080e94cc0a\", element=\"9724a485-5628-4608-9263-37390c060dad\")>,\n",
       " <selenium.webdriver.remote.webelement.WebElement (session=\"6ea26c8e79f4630203c7d5080e94cc0a\", element=\"5ea8c406-5292-4ac6-ae04-a90d53bd634d\")>,\n",
       " <selenium.webdriver.remote.webelement.WebElement (session=\"6ea26c8e79f4630203c7d5080e94cc0a\", element=\"fe1b604d-95f0-4765-bc07-e67d2327e471\")>,\n",
       " <selenium.webdriver.remote.webelement.WebElement (session=\"6ea26c8e79f4630203c7d5080e94cc0a\", element=\"ed96f0df-1133-402d-bcc7-4e7378695825\")>,\n",
       " <selenium.webdriver.remote.webelement.WebElement (session=\"6ea26c8e79f4630203c7d5080e94cc0a\", element=\"9ee658c6-b043-4974-be94-637d2dc446bc\")>,\n",
       " <selenium.webdriver.remote.webelement.WebElement (session=\"6ea26c8e79f4630203c7d5080e94cc0a\", element=\"853f51f8-d47c-4474-8463-19eb9867b83b\")>,\n",
       " <selenium.webdriver.remote.webelement.WebElement (session=\"6ea26c8e79f4630203c7d5080e94cc0a\", element=\"7c19ca28-fa62-496d-99de-decc00db3de5\")>,\n",
       " <selenium.webdriver.remote.webelement.WebElement (session=\"6ea26c8e79f4630203c7d5080e94cc0a\", element=\"3b9b2fa4-b8af-4dd7-ba4e-7898c159d265\")>,\n",
       " <selenium.webdriver.remote.webelement.WebElement (session=\"6ea26c8e79f4630203c7d5080e94cc0a\", element=\"6fb85d62-bb81-4d3c-9d75-f5895a2b008f\")>,\n",
       " <selenium.webdriver.remote.webelement.WebElement (session=\"6ea26c8e79f4630203c7d5080e94cc0a\", element=\"02c4e75f-b380-499b-86bd-a4317debc90d\")>,\n",
       " <selenium.webdriver.remote.webelement.WebElement (session=\"6ea26c8e79f4630203c7d5080e94cc0a\", element=\"9dabc3ec-1eb4-463b-b38e-4842347e190f\")>,\n",
       " <selenium.webdriver.remote.webelement.WebElement (session=\"6ea26c8e79f4630203c7d5080e94cc0a\", element=\"ada08ebf-0f29-44f5-99a1-e47caa49ebec\")>,\n",
       " <selenium.webdriver.remote.webelement.WebElement (session=\"6ea26c8e79f4630203c7d5080e94cc0a\", element=\"4ccabcd8-4287-4ea8-841b-9703dac281c4\")>,\n",
       " <selenium.webdriver.remote.webelement.WebElement (session=\"6ea26c8e79f4630203c7d5080e94cc0a\", element=\"2bab2a31-25c8-4a32-bc6e-0a1b9dafc8a2\")>,\n",
       " <selenium.webdriver.remote.webelement.WebElement (session=\"6ea26c8e79f4630203c7d5080e94cc0a\", element=\"0ad1abd0-71c2-4843-ac3c-08ce86b3b3c9\")>,\n",
       " <selenium.webdriver.remote.webelement.WebElement (session=\"6ea26c8e79f4630203c7d5080e94cc0a\", element=\"52dcdc66-acee-49df-8aac-141926051f92\")>,\n",
       " <selenium.webdriver.remote.webelement.WebElement (session=\"6ea26c8e79f4630203c7d5080e94cc0a\", element=\"384f0992-63d9-4e91-b975-5573b5a281b5\")>,\n",
       " <selenium.webdriver.remote.webelement.WebElement (session=\"6ea26c8e79f4630203c7d5080e94cc0a\", element=\"78e87238-1622-4182-8a34-c77d3be293bb\")>,\n",
       " <selenium.webdriver.remote.webelement.WebElement (session=\"6ea26c8e79f4630203c7d5080e94cc0a\", element=\"c4e34f68-8649-4a6d-a271-406646e7fc72\")>,\n",
       " <selenium.webdriver.remote.webelement.WebElement (session=\"6ea26c8e79f4630203c7d5080e94cc0a\", element=\"c2b4836d-3627-4e72-87bb-95fb6aef3161\")>,\n",
       " <selenium.webdriver.remote.webelement.WebElement (session=\"6ea26c8e79f4630203c7d5080e94cc0a\", element=\"e532b9d0-fe59-4cea-9157-6b6a7b4ad0e4\")>,\n",
       " <selenium.webdriver.remote.webelement.WebElement (session=\"6ea26c8e79f4630203c7d5080e94cc0a\", element=\"93fa5903-f41c-4d8b-8dd8-22a82afdcc08\")>,\n",
       " <selenium.webdriver.remote.webelement.WebElement (session=\"6ea26c8e79f4630203c7d5080e94cc0a\", element=\"f92dbd1d-09ef-430f-b496-2091b82aa4ea\")>,\n",
       " <selenium.webdriver.remote.webelement.WebElement (session=\"6ea26c8e79f4630203c7d5080e94cc0a\", element=\"8ce7549c-9a78-487a-acbd-5278b9673a26\")>,\n",
       " <selenium.webdriver.remote.webelement.WebElement (session=\"6ea26c8e79f4630203c7d5080e94cc0a\", element=\"8de612c3-d9ab-46f4-be63-35ab0db1253b\")>,\n",
       " <selenium.webdriver.remote.webelement.WebElement (session=\"6ea26c8e79f4630203c7d5080e94cc0a\", element=\"198df6b0-9b21-4d43-bec0-29ee4cd290b8\")>,\n",
       " <selenium.webdriver.remote.webelement.WebElement (session=\"6ea26c8e79f4630203c7d5080e94cc0a\", element=\"d69f87ec-ee4c-4f3d-b465-11f0667a1d62\")>,\n",
       " <selenium.webdriver.remote.webelement.WebElement (session=\"6ea26c8e79f4630203c7d5080e94cc0a\", element=\"1f54000a-9a0d-4ed3-8dac-cbd78226dc68\")>,\n",
       " <selenium.webdriver.remote.webelement.WebElement (session=\"6ea26c8e79f4630203c7d5080e94cc0a\", element=\"af4136ff-3f97-45f9-9043-516fec6a6151\")>,\n",
       " <selenium.webdriver.remote.webelement.WebElement (session=\"6ea26c8e79f4630203c7d5080e94cc0a\", element=\"ba700026-dbe8-40ae-8990-2085c199292b\")>,\n",
       " <selenium.webdriver.remote.webelement.WebElement (session=\"6ea26c8e79f4630203c7d5080e94cc0a\", element=\"8bc6c03e-ba07-43f6-a594-8dd0c95b7f67\")>,\n",
       " <selenium.webdriver.remote.webelement.WebElement (session=\"6ea26c8e79f4630203c7d5080e94cc0a\", element=\"bead4dd9-0f72-493b-a6d1-29f57a252850\")>,\n",
       " <selenium.webdriver.remote.webelement.WebElement (session=\"6ea26c8e79f4630203c7d5080e94cc0a\", element=\"6271db3b-987f-467c-83ab-30c0b4e3c396\")>,\n",
       " <selenium.webdriver.remote.webelement.WebElement (session=\"6ea26c8e79f4630203c7d5080e94cc0a\", element=\"6f8a3dae-aaa1-4711-a2b2-ccf65cea0208\")>,\n",
       " <selenium.webdriver.remote.webelement.WebElement (session=\"6ea26c8e79f4630203c7d5080e94cc0a\", element=\"07d6df06-c09a-4847-b1db-993f43cf7afa\")>]"
      ]
     },
     "execution_count": 165,
     "metadata": {},
     "output_type": "execute_result"
    }
   ],
   "source": [
    "browser.maximize_window()\n",
    "title_tags = browser.find_elements_by_xpath(\"//div[@class='dataTables_scroll']\")\n",
    "title_tags"
   ]
  },
  {
   "cell_type": "code",
   "execution_count": 166,
   "metadata": {},
   "outputs": [],
   "source": [
    "titles=[]\n",
    "for i in title_tags:\n",
    "    title=i.text\n",
    "    titles.append(title)"
   ]
  },
  {
   "cell_type": "code",
   "execution_count": 167,
   "metadata": {},
   "outputs": [
    {
     "data": {
      "text/plain": [
       "[\"Sr. No. Date (dd/mm/yyyy) Startup Name Industry / Vertical Sub-Vertical City / Location Investors' Name Investment Type Amount (In USD)\\n1 08/09/2020 Byju’s EduTech Online Tutoring Bangalore Silver Lake, Tiger Global, General Atlantic and Owl Ventures\\nPrivate Equity 500,000,000\\n2 12/09/2020 mCaffeine Personal Care Skincare & Haircare Mumbai Amicus Capital Private Equity I LLP, Amicus Capital Partners India Fund I and RP-SG Venture Fund 1 Series B 3,000,000\\n3 09/09/2020 Qshala EduTech Online Curiosity Platform for Kids Bangalore Rainmatter Capital Angel 370,000\\n4 02/09/2020 Winzo Online Gaming Online Gaming New Delhi Kalaari Capital Partners, IndigoEdge Management Consultancy Series B 15,500,000\\n5 09/09/2020 Hippo Video Video Customer Experience(CX) Platform Video Customer Experience(CX) Platform Newark, Delaware, United States of Amercia Alpha Wave Incubation, Exfinity Venture Partners and existing backers.\\nSeries A 4,500,000\\n6 07/09/2020 Melorra E-commerce Online Jewelry Store\\nBangalore Shadow Holdings, Lightbox. Debt Financing upto 8,900,000\\n7 07/09/2020 1mg E-commerce Online Pharmacy Gurgaon Gaja Capital, Tata Capital, Partners Group In Progress 100,000,000\\n8 31/08/2020 mfine HealthTech On-Demand Healthcare Services Bangalore Caretech Pte Inc Series B 5,400,000\\n9 31/08/2020 Apna Human Resources Recruitment Platform Bangalore Lightspeed India and Sequoia Capital India Series A 8,000,000\\n10 03/09/2020 Railofy Transportation WL & RAC protection platform Mumbai Chiratae Ventures Seed 950,000\",\n",
       " \"Sr. No. Date (dd/mm/yyyy) Startup Name Industry / Vertical Sub-Vertical City / Location Investors' Name Investment Type Amount (In USD)\\n1 15/08/2020 Practo HealthTech Health care and Wellness Bangalore A1A Company\\nSeries F 32,000,000\\n2 13/08/2020 Medlife E-commerce Online Pharmacy Bangalore Prasid Uno Family Trust and SC Credit Fund 23,000,000\\n3 13/08/2020 HungerBox\\nFoodTech Online Food Delivery Service Bangalore One97, Sabre Partners Trust, Pratithi Investment Trust, and Srihari Kumar Series D1 1,560,000\\n4 04/08/2020 Dunzo Hyper-local Logistics Online Delivery Services Bangalore Existing Backers In Progress 30,000,000\\n5 11/08/2020 Terra.do EduTech Online Climate School, E-learning Stanford, California, Stanford Angels and Entrepreneurs (India), BEENEXT Emerging Asia, Rainmatter Capital\\n\\nSeed 1,400,000\\n6 12/08/2020 Classplus EduTech E-learning, Online Tutoring\\n\\nNoida Falcon Edge In Progress upto 15,000,000\\n7 14/08/2020 Niyo FinTech Financial Services Bangalore Niyo Solutions Inc. 6,000,000\\n8 10/08/2020 ZestMoney FinTech Financial Services Bangalore Primrose Hills Ventures 10,670,000\\n9 07/08/2020 FreshToHome E-commerce Food Delivery Bangalore Ascent Capital Venture 16,200,000\\n10 13/08/2020 Eduvanz FinTech Financial Services Mumbai Sequoia India, Unitus Series A 5,000,000\"]"
      ]
     },
     "execution_count": 167,
     "metadata": {},
     "output_type": "execute_result"
    }
   ],
   "source": [
    "titles[7:9]"
   ]
  },
  {
   "cell_type": "markdown",
   "metadata": {},
   "source": [
    "Q 7 : program"
   ]
  },
  {
   "cell_type": "code",
   "execution_count": 169,
   "metadata": {},
   "outputs": [],
   "source": [
    "driver =  webdriver.Chrome(r'chromedriver.exe')\n",
    "driver.get(\"https://www.digit.in/top-products/best-gaming-laptops-40.html\")"
   ]
  },
  {
   "cell_type": "code",
   "execution_count": 170,
   "metadata": {},
   "outputs": [
    {
     "data": {
      "text/plain": [
       "[<selenium.webdriver.remote.webelement.WebElement (session=\"f4ee06846369a9904218696aa4f7e289\", element=\"c6735bfb-02b8-4f30-b89b-01696fbb0ace\")>,\n",
       " <selenium.webdriver.remote.webelement.WebElement (session=\"f4ee06846369a9904218696aa4f7e289\", element=\"99e810f3-997a-4e39-ba8b-17156b239ae6\")>,\n",
       " <selenium.webdriver.remote.webelement.WebElement (session=\"f4ee06846369a9904218696aa4f7e289\", element=\"9d84f703-4aa4-4a4f-b0dc-51097ed356f9\")>,\n",
       " <selenium.webdriver.remote.webelement.WebElement (session=\"f4ee06846369a9904218696aa4f7e289\", element=\"ab5433d2-8df5-4c70-b9a1-ec907836b00b\")>,\n",
       " <selenium.webdriver.remote.webelement.WebElement (session=\"f4ee06846369a9904218696aa4f7e289\", element=\"259be412-a5e8-4227-ba5e-5a8b07394cdd\")>,\n",
       " <selenium.webdriver.remote.webelement.WebElement (session=\"f4ee06846369a9904218696aa4f7e289\", element=\"b1745b41-9384-4832-8dea-afc16769139d\")>,\n",
       " <selenium.webdriver.remote.webelement.WebElement (session=\"f4ee06846369a9904218696aa4f7e289\", element=\"d53ec318-401f-4f97-9855-789e53602454\")>,\n",
       " <selenium.webdriver.remote.webelement.WebElement (session=\"f4ee06846369a9904218696aa4f7e289\", element=\"bd8d4f16-7b82-4377-a566-278192e0c054\")>,\n",
       " <selenium.webdriver.remote.webelement.WebElement (session=\"f4ee06846369a9904218696aa4f7e289\", element=\"d2082ff2-a3b3-405b-8ca7-c03a1ace1bc2\")>,\n",
       " <selenium.webdriver.remote.webelement.WebElement (session=\"f4ee06846369a9904218696aa4f7e289\", element=\"6c9d7826-6892-4714-832c-330c1b876f19\")>]"
      ]
     },
     "execution_count": 170,
     "metadata": {},
     "output_type": "execute_result"
    }
   ],
   "source": [
    "driver.maximize_window()\n",
    "title_tags = driver.find_elements_by_xpath(\"//div[@class='TopNumbeHeading active sticky-footer']\")\n",
    "title_tags"
   ]
  },
  {
   "cell_type": "code",
   "execution_count": 171,
   "metadata": {},
   "outputs": [],
   "source": [
    "titles=[]\n",
    "for i in title_tags:\n",
    "    title=i.text\n",
    "    titles.append(title)"
   ]
  },
  {
   "cell_type": "code",
   "execution_count": 173,
   "metadata": {},
   "outputs": [
    {
     "data": {
      "text/plain": [
       "[<selenium.webdriver.remote.webelement.WebElement (session=\"f4ee06846369a9904218696aa4f7e289\", element=\"bd15ae9d-3da5-422c-aced-a1a19f0be7fb\")>,\n",
       " <selenium.webdriver.remote.webelement.WebElement (session=\"f4ee06846369a9904218696aa4f7e289\", element=\"0ec6b47b-189a-4174-aba4-8af3005ecdc6\")>,\n",
       " <selenium.webdriver.remote.webelement.WebElement (session=\"f4ee06846369a9904218696aa4f7e289\", element=\"5087792e-2042-48b9-80dd-544643691510\")>,\n",
       " <selenium.webdriver.remote.webelement.WebElement (session=\"f4ee06846369a9904218696aa4f7e289\", element=\"1480dfe5-f30d-4362-a2dc-b45ef4bb99ad\")>,\n",
       " <selenium.webdriver.remote.webelement.WebElement (session=\"f4ee06846369a9904218696aa4f7e289\", element=\"7842e62b-3273-4947-b9fc-0fe333373e89\")>,\n",
       " <selenium.webdriver.remote.webelement.WebElement (session=\"f4ee06846369a9904218696aa4f7e289\", element=\"f1c3acb9-3e85-41af-acdb-c1e430f4411c\")>,\n",
       " <selenium.webdriver.remote.webelement.WebElement (session=\"f4ee06846369a9904218696aa4f7e289\", element=\"e04b3455-e581-403b-95f0-cb35861f8fb4\")>,\n",
       " <selenium.webdriver.remote.webelement.WebElement (session=\"f4ee06846369a9904218696aa4f7e289\", element=\"d9693cb1-456c-4395-8f79-bc37760f9ce9\")>,\n",
       " <selenium.webdriver.remote.webelement.WebElement (session=\"f4ee06846369a9904218696aa4f7e289\", element=\"27006ccd-a540-4d26-9484-cfa7948a68d2\")>,\n",
       " <selenium.webdriver.remote.webelement.WebElement (session=\"f4ee06846369a9904218696aa4f7e289\", element=\"4174caa4-f655-4056-8e3c-1a7527d22a8a\")>]"
      ]
     },
     "execution_count": 173,
     "metadata": {},
     "output_type": "execute_result"
    }
   ],
   "source": [
    "windows_tags = driver.find_elements_by_xpath(\"//div[@class='product-detail']\")\n",
    "windows_tags"
   ]
  },
  {
   "cell_type": "code",
   "execution_count": 174,
   "metadata": {},
   "outputs": [],
   "source": [
    "productdetail=[]\n",
    "for i in windows_tags:\n",
    "    wind=i.text\n",
    "    productdetail.append(wind)"
   ]
  },
  {
   "cell_type": "code",
   "execution_count": 175,
   "metadata": {},
   "outputs": [],
   "source": [
    "urls=driver.find_elements_by_xpath(\"//div[@class='product-ickon']/img\")\n",
    "UR=[]\n",
    "for i in urls:\n",
    "    UR.append(i.get_attribute('src'))"
   ]
  },
  {
   "cell_type": "code",
   "execution_count": 176,
   "metadata": {},
   "outputs": [
    {
     "data": {
      "text/html": [
       "<div>\n",
       "<style scoped>\n",
       "    .dataframe tbody tr th:only-of-type {\n",
       "        vertical-align: middle;\n",
       "    }\n",
       "\n",
       "    .dataframe tbody tr th {\n",
       "        vertical-align: top;\n",
       "    }\n",
       "\n",
       "    .dataframe thead th {\n",
       "        text-align: right;\n",
       "    }\n",
       "</style>\n",
       "<table border=\"1\" class=\"dataframe\">\n",
       "  <thead>\n",
       "    <tr style=\"text-align: right;\">\n",
       "      <th></th>\n",
       "      <th>titles</th>\n",
       "      <th>productdetail</th>\n",
       "      <th>imageurl</th>\n",
       "    </tr>\n",
       "  </thead>\n",
       "  <tbody>\n",
       "    <tr>\n",
       "      <th>0</th>\n",
       "      <td>1.\\nMSI RAIDER GE76</td>\n",
       "      <td>OS\\nWINDOWS 11 HOME\\nDISPLAY\\n17\" (3840 X 2160...</td>\n",
       "      <td>https://static.digit.in/product/thumb_239085_p...</td>\n",
       "    </tr>\n",
       "    <tr>\n",
       "      <th>1</th>\n",
       "      <td>2.\\nASUS ROG STRIX SCAR 15</td>\n",
       "      <td>OS\\nWINDOWS 11 HOME\\nDISPLAY\\n15.6\" (2560 X 14...</td>\n",
       "      <td>https://www.digit.in/images/digit_topten_icon.png</td>\n",
       "    </tr>\n",
       "    <tr>\n",
       "      <th>2</th>\n",
       "      <td>3.\\nACER NITRO 5</td>\n",
       "      <td>OS\\nWINDOWS 10\\nDISPLAY\\n15.6\" (1920 X 1080)\\n...</td>\n",
       "      <td>https://www.digit.in/images/digit_topten_icon.png</td>\n",
       "    </tr>\n",
       "    <tr>\n",
       "      <th>3</th>\n",
       "      <td>4.\\nMSI STEALTH 15M</td>\n",
       "      <td>OS\\nWINDOWS 10\\nDISPLAY\\n15.6\" (1920 X 1080)\\n...</td>\n",
       "      <td>https://www.digit.in/images/digit_topten_icon.png</td>\n",
       "    </tr>\n",
       "    <tr>\n",
       "      <th>4</th>\n",
       "      <td>5.\\nASUS ROG STRIX SCAR 15</td>\n",
       "      <td>OS\\nWINDOWS 10\\nDISPLAY\\n15.6\" (2560 X 1440)\\n...</td>\n",
       "      <td>https://www.digit.in/images/digit_topten_icon.png</td>\n",
       "    </tr>\n",
       "    <tr>\n",
       "      <th>5</th>\n",
       "      <td>6.\\nASUS ROG STRIX SCAR 15</td>\n",
       "      <td>OS\\nWINDOWS 10 HOME\\nDISPLAY\\n15.6\" (1920 X 10...</td>\n",
       "      <td>https://www.digit.in/images/digit_topten_icon.png</td>\n",
       "    </tr>\n",
       "    <tr>\n",
       "      <th>6</th>\n",
       "      <td>7.\\nASUS ZEPHYRUS G14</td>\n",
       "      <td>OS\\nWINDOWS 10 HOME\\nDISPLAY\\n14\" (1920 X 1080...</td>\n",
       "      <td>https://www.digit.in/images/digit_topten_icon.png</td>\n",
       "    </tr>\n",
       "    <tr>\n",
       "      <th>7</th>\n",
       "      <td>8.\\nHP OMEN 16</td>\n",
       "      <td>OS\\nWINDOWS 11 HOME\\nDISPLAY\\n16.1\" (1920 X 10...</td>\n",
       "      <td>https://www.digit.in/images/digit_topten_icon.png</td>\n",
       "    </tr>\n",
       "    <tr>\n",
       "      <th>8</th>\n",
       "      <td>9.\\nASUS ROG ZEPHYRUS DUO 15</td>\n",
       "      <td>OS\\nWINDOWS 10\\nDISPLAY\\n15.6\" (3840 X 1100)\\n...</td>\n",
       "      <td>https://www.digit.in/images/digit_topten_icon.png</td>\n",
       "    </tr>\n",
       "    <tr>\n",
       "      <th>9</th>\n",
       "      <td>10.\\nACER ASPIRE 7 GAMING LAPTOP</td>\n",
       "      <td>OS\\nWINDOWS 10 HOME\\nDISPLAY\\n15.6\" (1920 X 10...</td>\n",
       "      <td>https://www.digit.in/images/digit_topten_icon.png</td>\n",
       "    </tr>\n",
       "  </tbody>\n",
       "</table>\n",
       "</div>"
      ],
      "text/plain": [
       "                             titles  \\\n",
       "0               1.\\nMSI RAIDER GE76   \n",
       "1        2.\\nASUS ROG STRIX SCAR 15   \n",
       "2                  3.\\nACER NITRO 5   \n",
       "3               4.\\nMSI STEALTH 15M   \n",
       "4        5.\\nASUS ROG STRIX SCAR 15   \n",
       "5        6.\\nASUS ROG STRIX SCAR 15   \n",
       "6             7.\\nASUS ZEPHYRUS G14   \n",
       "7                    8.\\nHP OMEN 16   \n",
       "8      9.\\nASUS ROG ZEPHYRUS DUO 15   \n",
       "9  10.\\nACER ASPIRE 7 GAMING LAPTOP   \n",
       "\n",
       "                                       productdetail  \\\n",
       "0  OS\\nWINDOWS 11 HOME\\nDISPLAY\\n17\" (3840 X 2160...   \n",
       "1  OS\\nWINDOWS 11 HOME\\nDISPLAY\\n15.6\" (2560 X 14...   \n",
       "2  OS\\nWINDOWS 10\\nDISPLAY\\n15.6\" (1920 X 1080)\\n...   \n",
       "3  OS\\nWINDOWS 10\\nDISPLAY\\n15.6\" (1920 X 1080)\\n...   \n",
       "4  OS\\nWINDOWS 10\\nDISPLAY\\n15.6\" (2560 X 1440)\\n...   \n",
       "5  OS\\nWINDOWS 10 HOME\\nDISPLAY\\n15.6\" (1920 X 10...   \n",
       "6  OS\\nWINDOWS 10 HOME\\nDISPLAY\\n14\" (1920 X 1080...   \n",
       "7  OS\\nWINDOWS 11 HOME\\nDISPLAY\\n16.1\" (1920 X 10...   \n",
       "8  OS\\nWINDOWS 10\\nDISPLAY\\n15.6\" (3840 X 1100)\\n...   \n",
       "9  OS\\nWINDOWS 10 HOME\\nDISPLAY\\n15.6\" (1920 X 10...   \n",
       "\n",
       "                                            imageurl  \n",
       "0  https://static.digit.in/product/thumb_239085_p...  \n",
       "1  https://www.digit.in/images/digit_topten_icon.png  \n",
       "2  https://www.digit.in/images/digit_topten_icon.png  \n",
       "3  https://www.digit.in/images/digit_topten_icon.png  \n",
       "4  https://www.digit.in/images/digit_topten_icon.png  \n",
       "5  https://www.digit.in/images/digit_topten_icon.png  \n",
       "6  https://www.digit.in/images/digit_topten_icon.png  \n",
       "7  https://www.digit.in/images/digit_topten_icon.png  \n",
       "8  https://www.digit.in/images/digit_topten_icon.png  \n",
       "9  https://www.digit.in/images/digit_topten_icon.png  "
      ]
     },
     "execution_count": 176,
     "metadata": {},
     "output_type": "execute_result"
    }
   ],
   "source": [
    "digit=pd.DataFrame({})\n",
    "digit['titles']=titles\n",
    "digit['productdetail']=productdetail\n",
    "digit['imageurl']=UR\n",
    "digit"
   ]
  },
  {
   "cell_type": "markdown",
   "metadata": {},
   "source": [
    "Q 8 : program"
   ]
  },
  {
   "cell_type": "code",
   "execution_count": 178,
   "metadata": {},
   "outputs": [],
   "source": [
    "browser =   webdriver.Chrome(r'chromedriver.exe')\n",
    "browser.get(\"https://www.forbes.com/real-time-billionaires/#6f1445f93d78\")"
   ]
  },
  {
   "cell_type": "code",
   "execution_count": 179,
   "metadata": {},
   "outputs": [],
   "source": [
    "Rank = browser.find_elements_by_xpath(\"//td[@class='rank']\")"
   ]
  },
  {
   "cell_type": "code",
   "execution_count": 180,
   "metadata": {},
   "outputs": [],
   "source": [
    "Ranks = []\n",
    "for i in Rank:\n",
    "    Ranks.append(i.text)"
   ]
  },
  {
   "cell_type": "code",
   "execution_count": 181,
   "metadata": {},
   "outputs": [],
   "source": [
    "Name = browser.find_elements_by_xpath(\"//td[@class='name']\")"
   ]
  },
  {
   "cell_type": "code",
   "execution_count": 182,
   "metadata": {},
   "outputs": [],
   "source": [
    "Names = []\n",
    "for i in Name:\n",
    "    Names.append(i.text)"
   ]
  },
  {
   "cell_type": "code",
   "execution_count": 183,
   "metadata": {},
   "outputs": [],
   "source": [
    "worth = browser.find_elements_by_xpath(\"//td[@class='Net Worth']\")"
   ]
  },
  {
   "cell_type": "code",
   "execution_count": 184,
   "metadata": {},
   "outputs": [],
   "source": [
    "Net_worth = []\n",
    "for i in worth:\n",
    "    Net_worth.append(i.text)"
   ]
  },
  {
   "cell_type": "code",
   "execution_count": 185,
   "metadata": {},
   "outputs": [],
   "source": [
    "Age = browser.find_elements_by_xpath(\"//td[@class='age']\")"
   ]
  },
  {
   "cell_type": "code",
   "execution_count": 186,
   "metadata": {},
   "outputs": [],
   "source": [
    "\n",
    "Age_of_Billionaire = []\n",
    "for i in Age:\n",
    "    Age_of_Billionaire.append(i.text)"
   ]
  },
  {
   "cell_type": "code",
   "execution_count": 187,
   "metadata": {},
   "outputs": [],
   "source": [
    "Source = browser.find_elements_by_xpath(\"//td[@class='source']\")"
   ]
  },
  {
   "cell_type": "code",
   "execution_count": 188,
   "metadata": {},
   "outputs": [],
   "source": [
    "Source_of_Billionaire = []\n",
    "for i in Source:\n",
    "    Source_of_Billionaire.append(i.text)"
   ]
  },
  {
   "cell_type": "code",
   "execution_count": 189,
   "metadata": {},
   "outputs": [],
   "source": [
    "Country = browser.find_elements_by_xpath(\"//td[@class='Country/Territory']\")"
   ]
  },
  {
   "cell_type": "code",
   "execution_count": 190,
   "metadata": {},
   "outputs": [],
   "source": [
    "Country_of_Billionaire = []\n",
    "for i in Country:\n",
    "    Country_of_Billionaire.append(i.text)"
   ]
  },
  {
   "cell_type": "code",
   "execution_count": 191,
   "metadata": {},
   "outputs": [],
   "source": [
    "Billionare=pd.DataFrame({})\n",
    "Billionare['Rank']= Ranks\n",
    "Billionare['Name']= Names\n",
    "Billionare['Networth']= Net_worth\n",
    "Billionare['Age']= Age_of_Billionaire\n",
    "Billionare['Source']= Source_of_Billionaire\n",
    "Billionare['Country']= Country_of_Billionaire"
   ]
  },
  {
   "cell_type": "code",
   "execution_count": 192,
   "metadata": {},
   "outputs": [
    {
     "data": {
      "text/html": [
       "<div>\n",
       "<style scoped>\n",
       "    .dataframe tbody tr th:only-of-type {\n",
       "        vertical-align: middle;\n",
       "    }\n",
       "\n",
       "    .dataframe tbody tr th {\n",
       "        vertical-align: top;\n",
       "    }\n",
       "\n",
       "    .dataframe thead th {\n",
       "        text-align: right;\n",
       "    }\n",
       "</style>\n",
       "<table border=\"1\" class=\"dataframe\">\n",
       "  <thead>\n",
       "    <tr style=\"text-align: right;\">\n",
       "      <th></th>\n",
       "      <th>Rank</th>\n",
       "      <th>Name</th>\n",
       "      <th>Networth</th>\n",
       "      <th>Age</th>\n",
       "      <th>Source</th>\n",
       "      <th>Country</th>\n",
       "    </tr>\n",
       "  </thead>\n",
       "  <tbody>\n",
       "    <tr>\n",
       "      <th>0</th>\n",
       "      <td>1</td>\n",
       "      <td>Elon Musk</td>\n",
       "      <td>$207.3 B</td>\n",
       "      <td>50</td>\n",
       "      <td>Tesla, SpaceX</td>\n",
       "      <td>United States</td>\n",
       "    </tr>\n",
       "    <tr>\n",
       "      <th>1</th>\n",
       "      <td>2</td>\n",
       "      <td>Bernard Arnault &amp; family</td>\n",
       "      <td>$142.3 B</td>\n",
       "      <td>73</td>\n",
       "      <td>LVMH</td>\n",
       "      <td>France</td>\n",
       "    </tr>\n",
       "    <tr>\n",
       "      <th>2</th>\n",
       "      <td>3</td>\n",
       "      <td>Jeff Bezos</td>\n",
       "      <td>$133.3 B</td>\n",
       "      <td>58</td>\n",
       "      <td>Amazon</td>\n",
       "      <td>United States</td>\n",
       "    </tr>\n",
       "    <tr>\n",
       "      <th>3</th>\n",
       "      <td>4</td>\n",
       "      <td>Bill Gates</td>\n",
       "      <td>$123.5 B</td>\n",
       "      <td>66</td>\n",
       "      <td>Microsoft</td>\n",
       "      <td>United States</td>\n",
       "    </tr>\n",
       "    <tr>\n",
       "      <th>4</th>\n",
       "      <td>5</td>\n",
       "      <td>Warren Buffett</td>\n",
       "      <td>$110.0 B</td>\n",
       "      <td>91</td>\n",
       "      <td>Berkshire Hathaway</td>\n",
       "      <td>United States</td>\n",
       "    </tr>\n",
       "  </tbody>\n",
       "</table>\n",
       "</div>"
      ],
      "text/plain": [
       "  Rank                      Name  Networth Age              Source  \\\n",
       "0    1                 Elon Musk  $207.3 B  50       Tesla, SpaceX   \n",
       "1    2  Bernard Arnault & family  $142.3 B  73                LVMH   \n",
       "2    3                Jeff Bezos  $133.3 B  58              Amazon   \n",
       "3    4                Bill Gates  $123.5 B  66           Microsoft   \n",
       "4    5            Warren Buffett  $110.0 B  91  Berkshire Hathaway   \n",
       "\n",
       "         Country  \n",
       "0  United States  \n",
       "1         France  \n",
       "2  United States  \n",
       "3  United States  \n",
       "4  United States  "
      ]
     },
     "execution_count": 192,
     "metadata": {},
     "output_type": "execute_result"
    }
   ],
   "source": [
    "Billionare.head()"
   ]
  },
  {
   "cell_type": "markdown",
   "metadata": {},
   "source": [
    "Q 9 : program"
   ]
  },
  {
   "cell_type": "code",
   "execution_count": 205,
   "metadata": {},
   "outputs": [],
   "source": [
    "browser =   webdriver.Chrome(r'chromedriver.exe')\n",
    "browser.get(\"https://www.youtube.com/watch?v=YfO28Ihehbk\")\n",
    "browser.maximize_window()\n",
    "browser.execute_script(\"window.scrollBy(0,10000)\" \"\")"
   ]
  },
  {
   "cell_type": "code",
   "execution_count": 206,
   "metadata": {},
   "outputs": [],
   "source": [
    "browser.execute_script(\"window.scrollBy(0,10000)\" \"\")"
   ]
  },
  {
   "cell_type": "code",
   "execution_count": 207,
   "metadata": {},
   "outputs": [],
   "source": [
    "for i in range(200):\n",
    "    browser.execute_script(\"window.scrollBy(0,10000)\" \"\")"
   ]
  },
  {
   "cell_type": "code",
   "execution_count": 208,
   "metadata": {},
   "outputs": [],
   "source": [
    "Comment = browser.find_elements_by_id(\"content-text\")"
   ]
  },
  {
   "cell_type": "code",
   "execution_count": 209,
   "metadata": {},
   "outputs": [],
   "source": [
    "Comments = []\n",
    "for i in Comment:\n",
    "    Comments.append(i.text)"
   ]
  },
  {
   "cell_type": "code",
   "execution_count": 211,
   "metadata": {},
   "outputs": [
    {
     "data": {
      "text/plain": [
       "['01:04 introduction to python\\n05:14 Python setup\\n13:06 Getting started with python\\n27:02 variables in python',\n",
       " 'Running out of words to appreciate your efforts..its not just abt teaching PYTHON but the way in which u made ur audience comfortable irrespective of ther background or tech knowledge in programming  is beyond commendable..!!! UR AWESOME..!!!!',\n",
       " \"Telusko and Navin I have gone through your 7 hours of Python video and thank you and thank you to COVID (I got some time for myself to learn). Navin your sessions are really good and I have learned a lot. I am one of those old-time 80's programmers who started from Fortran, c,c++, java, and now I have learned Python from you. It's interesting how the languages are evolving from one to another, but each is just another step on the ladder. My true feeling is the names are different and syntax are different but the concept is the same from the '80s or even older.  But good to learn something new every day.  Thank you, because of you folks I can learn the language quickly compare to my older style of learning (research fo the ebooks, find the best one, order it, and sit and read and parallel try it IDE, longer process), also thank you for addressing the tools required for programming, DBs, and repository. In return If I can contribute to your organization please let me know, once again thank you, team.\",\n",
       " '1. Introduction to Python - 01:10\\n\\n2. Python Setup - 05:14 \\n\\n3. Getting Started with Python - 13:06\\n\\n4. Variables in Python - 27:02']"
      ]
     },
     "execution_count": 211,
     "metadata": {},
     "output_type": "execute_result"
    }
   ],
   "source": [
    "Comments[0:4]"
   ]
  },
  {
   "cell_type": "code",
   "execution_count": 212,
   "metadata": {},
   "outputs": [],
   "source": [
    "upvote = browser.find_elements_by_id(\"vote-count-middle\")"
   ]
  },
  {
   "cell_type": "code",
   "execution_count": 213,
   "metadata": {},
   "outputs": [],
   "source": [
    "votes = []\n",
    "for i in upvote:\n",
    "    votes.append(i.text)"
   ]
  },
  {
   "cell_type": "code",
   "execution_count": 214,
   "metadata": {},
   "outputs": [],
   "source": [
    "ago = browser.find_elements_by_xpath(\"//*[@id='header-author']/yt-formatted-string/a\")"
   ]
  },
  {
   "cell_type": "code",
   "execution_count": 215,
   "metadata": {},
   "outputs": [],
   "source": [
    "time = []\n",
    "for i in ago:\n",
    "    time.append(i.text)"
   ]
  },
  {
   "cell_type": "code",
   "execution_count": 216,
   "metadata": {},
   "outputs": [],
   "source": [
    "import pandas as pd\n",
    "youtube=pd.DataFrame({})\n",
    "youtube['comments']= Comments\n",
    "youtube['upvote']= votes\n",
    "youtube['ago']= time"
   ]
  },
  {
   "cell_type": "code",
   "execution_count": 217,
   "metadata": {},
   "outputs": [
    {
     "data": {
      "text/html": [
       "<div>\n",
       "<style scoped>\n",
       "    .dataframe tbody tr th:only-of-type {\n",
       "        vertical-align: middle;\n",
       "    }\n",
       "\n",
       "    .dataframe tbody tr th {\n",
       "        vertical-align: top;\n",
       "    }\n",
       "\n",
       "    .dataframe thead th {\n",
       "        text-align: right;\n",
       "    }\n",
       "</style>\n",
       "<table border=\"1\" class=\"dataframe\">\n",
       "  <thead>\n",
       "    <tr style=\"text-align: right;\">\n",
       "      <th></th>\n",
       "      <th>comments</th>\n",
       "      <th>upvote</th>\n",
       "      <th>ago</th>\n",
       "    </tr>\n",
       "  </thead>\n",
       "  <tbody>\n",
       "    <tr>\n",
       "      <th>0</th>\n",
       "      <td>01:04 introduction to python\\n05:14 Python set...</td>\n",
       "      <td>604</td>\n",
       "      <td>3 years ago</td>\n",
       "    </tr>\n",
       "    <tr>\n",
       "      <th>1</th>\n",
       "      <td>Running out of words to appreciate your effort...</td>\n",
       "      <td>45</td>\n",
       "      <td>2 years ago</td>\n",
       "    </tr>\n",
       "    <tr>\n",
       "      <th>2</th>\n",
       "      <td>Telusko and Navin I have gone through your 7 h...</td>\n",
       "      <td>59</td>\n",
       "      <td>11 months ago</td>\n",
       "    </tr>\n",
       "    <tr>\n",
       "      <th>3</th>\n",
       "      <td>1. Introduction to Python - 01:10\\n\\n2. Python...</td>\n",
       "      <td>14</td>\n",
       "      <td>1 year ago</td>\n",
       "    </tr>\n",
       "    <tr>\n",
       "      <th>4</th>\n",
       "      <td>One of the best interactive classroom like ses...</td>\n",
       "      <td>5</td>\n",
       "      <td>9 months ago (edited)</td>\n",
       "    </tr>\n",
       "  </tbody>\n",
       "</table>\n",
       "</div>"
      ],
      "text/plain": [
       "                                            comments upvote  \\\n",
       "0  01:04 introduction to python\\n05:14 Python set...    604   \n",
       "1  Running out of words to appreciate your effort...     45   \n",
       "2  Telusko and Navin I have gone through your 7 h...     59   \n",
       "3  1. Introduction to Python - 01:10\\n\\n2. Python...     14   \n",
       "4  One of the best interactive classroom like ses...      5   \n",
       "\n",
       "                     ago  \n",
       "0            3 years ago  \n",
       "1            2 years ago  \n",
       "2          11 months ago  \n",
       "3             1 year ago  \n",
       "4  9 months ago (edited)  "
      ]
     },
     "execution_count": 217,
     "metadata": {},
     "output_type": "execute_result"
    }
   ],
   "source": [
    "youtube.head()"
   ]
  },
  {
   "cell_type": "markdown",
   "metadata": {},
   "source": [
    "Q 10 : program"
   ]
  },
  {
   "cell_type": "code",
   "execution_count": 219,
   "metadata": {},
   "outputs": [],
   "source": [
    "browser =   webdriver.Chrome(r'chromedriver.exe')\n",
    "browser.get(\"https://www.hostelworld.com/s?q=London,%20England&country=England&city=London&type=city&id=3&from=2021-07-23&to=2021-07-26&guests=2&page=1\")\n",
    "browser.maximize_window()"
   ]
  },
  {
   "cell_type": "code",
   "execution_count": 220,
   "metadata": {},
   "outputs": [],
   "source": [
    "name = browser.find_elements_by_xpath(\"//h2[@class='title title-6']/a\")\n",
    "hotel_name = []\n",
    "for i in name:\n",
    "    hotel_name.append(i.text)"
   ]
  },
  {
   "cell_type": "code",
   "execution_count": 221,
   "metadata": {},
   "outputs": [],
   "source": [
    "distance = browser.find_elements_by_class_name('description')"
   ]
  },
  {
   "cell_type": "code",
   "execution_count": 222,
   "metadata": {},
   "outputs": [],
   "source": [
    "distance_from_city = []"
   ]
  },
  {
   "cell_type": "code",
   "execution_count": 223,
   "metadata": {},
   "outputs": [],
   "source": [
    "for i in distance:\n",
    "    distance_from_city.append(i.text)"
   ]
  },
  {
   "cell_type": "code",
   "execution_count": 224,
   "metadata": {},
   "outputs": [],
   "source": [
    "rat = browser.find_elements_by_xpath(\"//div[@class='score orange big']\")"
   ]
  },
  {
   "cell_type": "code",
   "execution_count": 225,
   "metadata": {},
   "outputs": [],
   "source": [
    "ratings = []\n",
    "for i  in rat:\n",
    "    try:\n",
    "        ratings.append(i.text)\n",
    "    except NoSuchElementException as E:\n",
    "        ratings.append(\"__\")"
   ]
  },
  {
   "cell_type": "code",
   "execution_count": 226,
   "metadata": {},
   "outputs": [],
   "source": [
    "total_rates = browser.find_elements_by_xpath(\"//div[@class='reviews']\")"
   ]
  },
  {
   "cell_type": "code",
   "execution_count": 227,
   "metadata": {},
   "outputs": [],
   "source": [
    "total_rating =[]\n",
    "for i in total_rates:\n",
    "    total_rating.append(i.text)"
   ]
  },
  {
   "cell_type": "code",
   "execution_count": 228,
   "metadata": {},
   "outputs": [],
   "source": [
    "over_all = browser.find_elements_by_xpath(\"//div[@class='keyword']\")"
   ]
  },
  {
   "cell_type": "code",
   "execution_count": 229,
   "metadata": {},
   "outputs": [],
   "source": [
    "over_all_review =[]\n",
    "for i in over_all:\n",
    "    over_all_review.append(i.text)"
   ]
  },
  {
   "cell_type": "code",
   "execution_count": 230,
   "metadata": {},
   "outputs": [],
   "source": [
    "pp =browser.find_elements_by_xpath(\"//div[@class='price title-5']\")\n",
    "\n",
    "privates_price =[]\n",
    "for i in pp:\n",
    "    privates_price.append(i.text)"
   ]
  },
  {
   "cell_type": "code",
   "execution_count": 231,
   "metadata": {},
   "outputs": [],
   "source": [
    "privates_price = privates_price[0::2]"
   ]
  },
  {
   "cell_type": "code",
   "execution_count": 232,
   "metadata": {},
   "outputs": [],
   "source": [
    "dp =browser.find_elements_by_xpath(\"//div[@class='price title-5']\")\n",
    "\n",
    "dorms_price =[]\n",
    "for i in dp:\n",
    "    dorms_price.append(i.text)"
   ]
  },
  {
   "cell_type": "code",
   "execution_count": 233,
   "metadata": {},
   "outputs": [],
   "source": [
    "dorms_price = dorms_price[1::2]"
   ]
  },
  {
   "cell_type": "code",
   "execution_count": 234,
   "metadata": {},
   "outputs": [],
   "source": [
    "desc =browser.find_elements_by_xpath(\"//div[@class='rating-factors prop-card-tablet rating-factors small']\")\n",
    "\n",
    "description =[]\n",
    "for i in desc:\n",
    "    description.append(i.text)"
   ]
  },
  {
   "cell_type": "code",
   "execution_count": 235,
   "metadata": {},
   "outputs": [],
   "source": [
    "fasc =browser.find_elements_by_xpath(\"//div[@class='facilities-label facilities']\")\n",
    "\n",
    "facilities =[]\n",
    "for i in fasc:\n",
    "    facilities.append(i.text)"
   ]
  },
  {
   "cell_type": "code",
   "execution_count": 236,
   "metadata": {},
   "outputs": [],
   "source": [
    "hotel_details=pd.DataFrame({})\n",
    "hotel_details['Hostel_Name']= hotel_name[0:20]\n",
    "hotel_details['Type and Distance']= distance_from_city[0:20]\n",
    "hotel_details['Ratings']= ratings[0:20]\n",
    "hotel_details['Total_reviews']= total_rating[0:20]\n",
    "hotel_details['Overall_reviews']= over_all_review[0:20]\n",
    "hotel_details['Private Prices']= privates_price[0:20]\n",
    "hotel_details['Dorms Prices']= dorms_price[0:20]\n",
    "hotel_details['Description']= description[0:20]\n",
    "hotel_details['Facilities']= facilities[0:20]"
   ]
  },
  {
   "cell_type": "code",
   "execution_count": 237,
   "metadata": {},
   "outputs": [
    {
     "data": {
      "text/html": [
       "<div>\n",
       "<style scoped>\n",
       "    .dataframe tbody tr th:only-of-type {\n",
       "        vertical-align: middle;\n",
       "    }\n",
       "\n",
       "    .dataframe tbody tr th {\n",
       "        vertical-align: top;\n",
       "    }\n",
       "\n",
       "    .dataframe thead th {\n",
       "        text-align: right;\n",
       "    }\n",
       "</style>\n",
       "<table border=\"1\" class=\"dataframe\">\n",
       "  <thead>\n",
       "    <tr style=\"text-align: right;\">\n",
       "      <th></th>\n",
       "      <th>Hostel_Name</th>\n",
       "      <th>Type and Distance</th>\n",
       "      <th>Ratings</th>\n",
       "      <th>Total_reviews</th>\n",
       "      <th>Overall_reviews</th>\n",
       "      <th>Private Prices</th>\n",
       "      <th>Dorms Prices</th>\n",
       "      <th>Description</th>\n",
       "      <th>Facilities</th>\n",
       "    </tr>\n",
       "  </thead>\n",
       "  <tbody>\n",
       "    <tr>\n",
       "      <th>0</th>\n",
       "      <td>St Christopher's Village</td>\n",
       "      <td>Hostel - 1.8km from city centre</td>\n",
       "      <td>8.1</td>\n",
       "      <td>11190 Total Reviews</td>\n",
       "      <td>Fabulous</td>\n",
       "      <td>Rs1826.11 Rs1644</td>\n",
       "      <td>Rs1947</td>\n",
       "      <td>Perfect Location\\nSuperb Staff\\nExcellent Clea...</td>\n",
       "      <td>Free WiFi\\nFollows Covid-19 sanitation guidance</td>\n",
       "    </tr>\n",
       "    <tr>\n",
       "      <th>1</th>\n",
       "      <td>Palmers Lodge - Swiss Cottage</td>\n",
       "      <td>Hostel - 6.5km from city centre</td>\n",
       "      <td>9.0</td>\n",
       "      <td>15338 Total Reviews</td>\n",
       "      <td>Superb</td>\n",
       "      <td>Rs20563</td>\n",
       "      <td>Rs7306</td>\n",
       "      <td>Perfect Location\\nSuperb Staff\\nFantastic Clea...</td>\n",
       "      <td>Free WiFi\\nFollows Covid-19 sanitation guidance</td>\n",
       "    </tr>\n",
       "    <tr>\n",
       "      <th>2</th>\n",
       "      <td>Selina Camden</td>\n",
       "      <td>Hostel - 5.5km from city centre</td>\n",
       "      <td>9.3</td>\n",
       "      <td>24 Total Reviews</td>\n",
       "      <td>Superb</td>\n",
       "      <td>Rs2220</td>\n",
       "      <td>Rs2921</td>\n",
       "      <td>Perfect Location\\nSuperb Staff\\nFantastic Clea...</td>\n",
       "      <td>Free WiFi</td>\n",
       "    </tr>\n",
       "    <tr>\n",
       "      <th>3</th>\n",
       "      <td>Generator London</td>\n",
       "      <td>Hostel - 3km from city centre</td>\n",
       "      <td>7.7</td>\n",
       "      <td>6933 Total Reviews</td>\n",
       "      <td>Fabulous</td>\n",
       "      <td>Rs12724</td>\n",
       "      <td>Rs2650</td>\n",
       "      <td>Perfect Location\\nSuperb Staff\\nAwesome Cleanl...</td>\n",
       "      <td>Free WiFi\\nFollows Covid-19 sanitation guidance</td>\n",
       "    </tr>\n",
       "    <tr>\n",
       "      <th>4</th>\n",
       "      <td>Astor Museum Inn</td>\n",
       "      <td>Hostel - 2.2km from city centre</td>\n",
       "      <td>8.6</td>\n",
       "      <td>8939 Total Reviews</td>\n",
       "      <td>Superb</td>\n",
       "      <td>Rs5258</td>\n",
       "      <td>Rs1314</td>\n",
       "      <td>Perfect Location\\nSuperb Staff\\nExcellent Clea...</td>\n",
       "      <td>Free WiFi\\nFollows Covid-19 sanitation guidance</td>\n",
       "    </tr>\n",
       "    <tr>\n",
       "      <th>5</th>\n",
       "      <td>Urbany Hostel London</td>\n",
       "      <td>Hostel - 5.4km from city centre</td>\n",
       "      <td>9.4</td>\n",
       "      <td>304 Total Reviews</td>\n",
       "      <td>Superb</td>\n",
       "      <td>Rs1402</td>\n",
       "      <td>Rs6815</td>\n",
       "      <td>Perfect Location\\nSuperb Staff\\nFantastic Clea...</td>\n",
       "      <td>Free WiFi\\nFollows Covid-19 sanitation guidance</td>\n",
       "    </tr>\n",
       "    <tr>\n",
       "      <th>6</th>\n",
       "      <td>Safestay London Elephant &amp; Castle</td>\n",
       "      <td>Hostel - 1.7km from city centre</td>\n",
       "      <td>7.4</td>\n",
       "      <td>4233 Total Reviews</td>\n",
       "      <td>Very Good</td>\n",
       "      <td>Rs8568</td>\n",
       "      <td>Rs1402</td>\n",
       "      <td>Perfect Location\\nMarvellous Staff\\nAwesome Cl...</td>\n",
       "      <td>Free WiFi\\nFollows Covid-19 sanitation guidance</td>\n",
       "    </tr>\n",
       "    <tr>\n",
       "      <th>7</th>\n",
       "      <td>Smart Camden Inn Hostel</td>\n",
       "      <td>Hostel - 4.4km from city centre</td>\n",
       "      <td>8.5</td>\n",
       "      <td>2828 Total Reviews</td>\n",
       "      <td>Fabulous</td>\n",
       "      <td>Rs5125</td>\n",
       "      <td>Rs1314</td>\n",
       "      <td>Perfect Location\\nSuperb Staff\\nFantastic Clea...</td>\n",
       "      <td>Free WiFi\\nFollows Covid-19 sanitation guidance</td>\n",
       "    </tr>\n",
       "    <tr>\n",
       "      <th>8</th>\n",
       "      <td>Pickwick Hall</td>\n",
       "      <td>Hostel - 2.3km from city centre</td>\n",
       "      <td>9.0</td>\n",
       "      <td>2337 Total Reviews</td>\n",
       "      <td>Superb</td>\n",
       "      <td>Rs6864</td>\n",
       "      <td>Rs2531</td>\n",
       "      <td>Perfect Location\\nSuperb Staff\\nFantastic Clea...</td>\n",
       "      <td>Free Breakfast</td>\n",
       "    </tr>\n",
       "    <tr>\n",
       "      <th>9</th>\n",
       "      <td>Smart Russell Square Hostel</td>\n",
       "      <td>Hostel - 2.6km from city centre</td>\n",
       "      <td>6.8</td>\n",
       "      <td>9640 Total Reviews</td>\n",
       "      <td>Very Good</td>\n",
       "      <td>Rs5258</td>\n",
       "      <td>Rs1753</td>\n",
       "      <td>Perfect Location\\nBrilliant Staff\\nAwesome Cle...</td>\n",
       "      <td>Free WiFi\\nFollows Covid-19 sanitation guidance</td>\n",
       "    </tr>\n",
       "  </tbody>\n",
       "</table>\n",
       "</div>"
      ],
      "text/plain": [
       "                         Hostel_Name                Type and Distance Ratings  \\\n",
       "0           St Christopher's Village  Hostel - 1.8km from city centre     8.1   \n",
       "1      Palmers Lodge - Swiss Cottage  Hostel - 6.5km from city centre     9.0   \n",
       "2                      Selina Camden  Hostel - 5.5km from city centre     9.3   \n",
       "3                   Generator London    Hostel - 3km from city centre     7.7   \n",
       "4                   Astor Museum Inn  Hostel - 2.2km from city centre     8.6   \n",
       "5               Urbany Hostel London  Hostel - 5.4km from city centre     9.4   \n",
       "6  Safestay London Elephant & Castle  Hostel - 1.7km from city centre     7.4   \n",
       "7            Smart Camden Inn Hostel  Hostel - 4.4km from city centre     8.5   \n",
       "8                      Pickwick Hall  Hostel - 2.3km from city centre     9.0   \n",
       "9        Smart Russell Square Hostel  Hostel - 2.6km from city centre     6.8   \n",
       "\n",
       "         Total_reviews Overall_reviews    Private Prices Dorms Prices  \\\n",
       "0  11190 Total Reviews        Fabulous  Rs1826.11 Rs1644       Rs1947   \n",
       "1  15338 Total Reviews          Superb           Rs20563       Rs7306   \n",
       "2     24 Total Reviews          Superb            Rs2220       Rs2921   \n",
       "3   6933 Total Reviews        Fabulous           Rs12724       Rs2650   \n",
       "4   8939 Total Reviews          Superb            Rs5258       Rs1314   \n",
       "5    304 Total Reviews          Superb            Rs1402       Rs6815   \n",
       "6   4233 Total Reviews       Very Good            Rs8568       Rs1402   \n",
       "7   2828 Total Reviews        Fabulous            Rs5125       Rs1314   \n",
       "8   2337 Total Reviews          Superb            Rs6864       Rs2531   \n",
       "9   9640 Total Reviews       Very Good            Rs5258       Rs1753   \n",
       "\n",
       "                                         Description  \\\n",
       "0  Perfect Location\\nSuperb Staff\\nExcellent Clea...   \n",
       "1  Perfect Location\\nSuperb Staff\\nFantastic Clea...   \n",
       "2  Perfect Location\\nSuperb Staff\\nFantastic Clea...   \n",
       "3  Perfect Location\\nSuperb Staff\\nAwesome Cleanl...   \n",
       "4  Perfect Location\\nSuperb Staff\\nExcellent Clea...   \n",
       "5  Perfect Location\\nSuperb Staff\\nFantastic Clea...   \n",
       "6  Perfect Location\\nMarvellous Staff\\nAwesome Cl...   \n",
       "7  Perfect Location\\nSuperb Staff\\nFantastic Clea...   \n",
       "8  Perfect Location\\nSuperb Staff\\nFantastic Clea...   \n",
       "9  Perfect Location\\nBrilliant Staff\\nAwesome Cle...   \n",
       "\n",
       "                                        Facilities  \n",
       "0  Free WiFi\\nFollows Covid-19 sanitation guidance  \n",
       "1  Free WiFi\\nFollows Covid-19 sanitation guidance  \n",
       "2                                        Free WiFi  \n",
       "3  Free WiFi\\nFollows Covid-19 sanitation guidance  \n",
       "4  Free WiFi\\nFollows Covid-19 sanitation guidance  \n",
       "5  Free WiFi\\nFollows Covid-19 sanitation guidance  \n",
       "6  Free WiFi\\nFollows Covid-19 sanitation guidance  \n",
       "7  Free WiFi\\nFollows Covid-19 sanitation guidance  \n",
       "8                                   Free Breakfast  \n",
       "9  Free WiFi\\nFollows Covid-19 sanitation guidance  "
      ]
     },
     "execution_count": 237,
     "metadata": {},
     "output_type": "execute_result"
    }
   ],
   "source": [
    "hotel_details.head(10)"
   ]
  },
  {
   "cell_type": "code",
   "execution_count": null,
   "metadata": {},
   "outputs": [],
   "source": []
  }
 ],
 "metadata": {
  "kernelspec": {
   "display_name": "Python 3",
   "language": "python",
   "name": "python3"
  },
  "language_info": {
   "codemirror_mode": {
    "name": "ipython",
    "version": 3
   },
   "file_extension": ".py",
   "mimetype": "text/x-python",
   "name": "python",
   "nbconvert_exporter": "python",
   "pygments_lexer": "ipython3",
   "version": "3.7.6"
  }
 },
 "nbformat": 4,
 "nbformat_minor": 4
}
