{
 "cells": [
  {
   "cell_type": "markdown",
   "id": "7b761e31",
   "metadata": {},
   "source": [
    "# WEB SCRAPING – ASSIGNMENT 2"
   ]
  },
  {
   "cell_type": "markdown",
   "id": "8303c208",
   "metadata": {},
   "source": [
    "Q1: Write a python program to scrape data for “Data Analyst” Job position in “Bangalore” location. You have to scrape the job-title, job-location, company_name, experience_required. You have to scrape first 10 jobs data"
   ]
  },
  {
   "cell_type": "code",
   "execution_count": 1,
   "id": "64a29594",
   "metadata": {},
   "outputs": [],
   "source": [
    "import pandas as pd\n",
    "import selenium\n",
    "from selenium import webdriver\n",
    "import warnings\n",
    "warnings.filterwarnings('ignore')\n",
    "import time"
   ]
  },
  {
   "cell_type": "code",
   "execution_count": 2,
   "id": "e79512c2",
   "metadata": {},
   "outputs": [],
   "source": [
    "driver=webdriver.Chrome('chromedriver.exe')"
   ]
  },
  {
   "cell_type": "code",
   "execution_count": 3,
   "id": "a924758b",
   "metadata": {},
   "outputs": [],
   "source": [
    "driver.get('https://www.naukri.com/')"
   ]
  },
  {
   "cell_type": "code",
   "execution_count": 4,
   "id": "925c11c9",
   "metadata": {},
   "outputs": [],
   "source": [
    "#entering \"Data Analyst\" in job search bar using selenium driver\n",
    "search_job = driver.find_element_by_class_name(\"suggestor-input \")\n",
    "search_job.send_keys(\"Data Analyst\")\n",
    "\n",
    "#entering \"Bangalore\" in location search bar using selenium deriver\n",
    "location = driver.find_element_by_xpath('/html/body/div/div[2]/div[3]/div/div/div[3]/div/div/div/input')\n",
    "location.send_keys(\"Bangalore\")"
   ]
  },
  {
   "cell_type": "code",
   "execution_count": 5,
   "id": "bec124a3",
   "metadata": {},
   "outputs": [],
   "source": [
    "#clicking submit button using selenium deriver\n",
    "submit_button = driver.find_element_by_xpath('/html/body/div/div[2]/div[3]/div/div/div[6]')\n",
    "submit_button.click()"
   ]
  },
  {
   "cell_type": "code",
   "execution_count": 6,
   "id": "2b5e9e7a",
   "metadata": {},
   "outputs": [],
   "source": [
    "#specifying the url of the webpage to be scrapped\n",
    "url='https://www.naukri.com/data-analyst-jobs-in-bangalore?k=data%20analyst&l=bangalore'\n",
    "\n",
    "#lets open the web page through our url\n",
    "driver.get(url)"
   ]
  },
  {
   "cell_type": "code",
   "execution_count": 7,
   "id": "30bcbc9b",
   "metadata": {},
   "outputs": [],
   "source": [
    "job_title=[]\n",
    "job_location=[]\n",
    "company_name=[]\n",
    "experience_required=[]"
   ]
  },
  {
   "cell_type": "code",
   "execution_count": 8,
   "id": "1e6faaa5",
   "metadata": {},
   "outputs": [
    {
     "data": {
      "text/plain": [
       "[<selenium.webdriver.remote.webelement.WebElement (session=\"db9addd87dfcf20576926240a4ec2677\", element=\"bcf7bba7-5a08-4bdc-96e9-34ced1998d3c\")>,\n",
       " <selenium.webdriver.remote.webelement.WebElement (session=\"db9addd87dfcf20576926240a4ec2677\", element=\"13889023-6edf-4eb9-9313-23aa73a69103\")>,\n",
       " <selenium.webdriver.remote.webelement.WebElement (session=\"db9addd87dfcf20576926240a4ec2677\", element=\"8eaeb1af-9360-4ca0-8551-a4b48c2555c5\")>,\n",
       " <selenium.webdriver.remote.webelement.WebElement (session=\"db9addd87dfcf20576926240a4ec2677\", element=\"02bfb183-1b2f-4bdd-948c-39f21ee7dce0\")>,\n",
       " <selenium.webdriver.remote.webelement.WebElement (session=\"db9addd87dfcf20576926240a4ec2677\", element=\"4b9f035e-3e74-49ad-9b9d-133af3db6859\")>,\n",
       " <selenium.webdriver.remote.webelement.WebElement (session=\"db9addd87dfcf20576926240a4ec2677\", element=\"fe0716ad-8359-4715-96bc-69629017fa12\")>,\n",
       " <selenium.webdriver.remote.webelement.WebElement (session=\"db9addd87dfcf20576926240a4ec2677\", element=\"bad0652e-a9c3-4903-929f-95af638234eb\")>,\n",
       " <selenium.webdriver.remote.webelement.WebElement (session=\"db9addd87dfcf20576926240a4ec2677\", element=\"f18ebaab-f404-4a27-9c8c-513106cc9349\")>,\n",
       " <selenium.webdriver.remote.webelement.WebElement (session=\"db9addd87dfcf20576926240a4ec2677\", element=\"5ae9f317-e2d1-475a-86d1-7cb9b61a0c80\")>,\n",
       " <selenium.webdriver.remote.webelement.WebElement (session=\"db9addd87dfcf20576926240a4ec2677\", element=\"cbcf0af4-f362-4938-ad92-fe4358e49e77\")>]"
      ]
     },
     "execution_count": 8,
     "metadata": {},
     "output_type": "execute_result"
    }
   ],
   "source": [
    "#finding job title element using xpath\n",
    "title_tags= driver.find_elements_by_xpath(\"//a[@class='title fw500 ellipsis']\")\n",
    "title_tags[0:10]"
   ]
  },
  {
   "cell_type": "code",
   "execution_count": 9,
   "id": "da09a179",
   "metadata": {},
   "outputs": [
    {
     "data": {
      "text/plain": [
       "['Data Analyst I',\n",
       " 'Senior Data Analyst',\n",
       " 'Lead Data Analyst - Risk Analytics',\n",
       " 'Hiring - Zonal Data Analyst (Off Role) - Operations - Bangalore & Delh',\n",
       " 'Senior Data Analyst',\n",
       " 'Sr Domain Expert -Data Analysts',\n",
       " 'Associate Data Analyst',\n",
       " 'Associate Data Analyst',\n",
       " 'Denave Hiring Data Analyst Bengaluru Location',\n",
       " 'Immediate Joiner Data Analyst']"
      ]
     },
     "execution_count": 9,
     "metadata": {},
     "output_type": "execute_result"
    }
   ],
   "source": [
    "#getting all the available text in the title_tags element\n",
    "job_title =[]\n",
    "for i in title_tags:\n",
    "    job_title.append(i.text)\n",
    "job_title[0:10]"
   ]
  },
  {
   "cell_type": "code",
   "execution_count": 10,
   "id": "bb9ccab5",
   "metadata": {},
   "outputs": [
    {
     "data": {
      "text/plain": [
       "[<selenium.webdriver.remote.webelement.WebElement (session=\"db9addd87dfcf20576926240a4ec2677\", element=\"545dfd98-b1c0-4eb7-a762-5018880f470b\")>,\n",
       " <selenium.webdriver.remote.webelement.WebElement (session=\"db9addd87dfcf20576926240a4ec2677\", element=\"f20c9e78-83ed-4ce0-92f9-7612e0d07b43\")>,\n",
       " <selenium.webdriver.remote.webelement.WebElement (session=\"db9addd87dfcf20576926240a4ec2677\", element=\"a077d0c7-96e7-4560-9dfa-2b11c39806c1\")>,\n",
       " <selenium.webdriver.remote.webelement.WebElement (session=\"db9addd87dfcf20576926240a4ec2677\", element=\"5b4be6b6-3431-46c0-a9c0-8b3c7891ba06\")>,\n",
       " <selenium.webdriver.remote.webelement.WebElement (session=\"db9addd87dfcf20576926240a4ec2677\", element=\"be83f9ca-ee23-49fe-9be1-cf05f90f023a\")>,\n",
       " <selenium.webdriver.remote.webelement.WebElement (session=\"db9addd87dfcf20576926240a4ec2677\", element=\"232b8a67-84ad-4548-9f6a-e20717dfcf2c\")>,\n",
       " <selenium.webdriver.remote.webelement.WebElement (session=\"db9addd87dfcf20576926240a4ec2677\", element=\"382f8d7b-b089-4bac-8963-1abb9ddc1052\")>,\n",
       " <selenium.webdriver.remote.webelement.WebElement (session=\"db9addd87dfcf20576926240a4ec2677\", element=\"32f5ead7-b36f-4112-9ccc-d990e159d4eb\")>,\n",
       " <selenium.webdriver.remote.webelement.WebElement (session=\"db9addd87dfcf20576926240a4ec2677\", element=\"5b6f4d90-25fc-4142-bc00-3b10d9b7576d\")>,\n",
       " <selenium.webdriver.remote.webelement.WebElement (session=\"db9addd87dfcf20576926240a4ec2677\", element=\"4b9c83bc-8aa7-4d56-bca5-d13401f7bfcc\")>]"
      ]
     },
     "execution_count": 10,
     "metadata": {},
     "output_type": "execute_result"
    }
   ],
   "source": [
    "#finding experience   element using xpath\n",
    "exp_tag = driver.find_elements_by_xpath(\"//li[@class='fleft grey-text br2 placeHolderLi experience']//span\")\n",
    "exp_tag[0:10]"
   ]
  },
  {
   "cell_type": "code",
   "execution_count": 11,
   "id": "f1f6c4f5",
   "metadata": {},
   "outputs": [
    {
     "data": {
      "text/plain": [
       "['0-3 Yrs',\n",
       " '10-12 Yrs',\n",
       " '5-11 Yrs',\n",
       " '2-7 Yrs',\n",
       " '3-6 Yrs',\n",
       " '0-10 Yrs',\n",
       " '2-7 Yrs',\n",
       " '4-9 Yrs',\n",
       " '5-10 Yrs',\n",
       " '7-12 Yrs']"
      ]
     },
     "execution_count": 11,
     "metadata": {},
     "output_type": "execute_result"
    }
   ],
   "source": [
    "#getting all the available text in the location_tag element\n",
    "experience_required=[]\n",
    "for i in exp_tag:\n",
    "    experience_required.append(i.text)\n",
    "experience_required[0:10]"
   ]
  },
  {
   "cell_type": "code",
   "execution_count": 12,
   "id": "e10974f1",
   "metadata": {},
   "outputs": [
    {
     "data": {
      "text/plain": [
       "[<selenium.webdriver.remote.webelement.WebElement (session=\"db9addd87dfcf20576926240a4ec2677\", element=\"8d5c48c5-b5dd-4b16-b583-3b448649df6b\")>,\n",
       " <selenium.webdriver.remote.webelement.WebElement (session=\"db9addd87dfcf20576926240a4ec2677\", element=\"e6203554-89bb-4a11-8f97-1f6030f2b799\")>,\n",
       " <selenium.webdriver.remote.webelement.WebElement (session=\"db9addd87dfcf20576926240a4ec2677\", element=\"d0455c9f-3ce6-4796-b1ce-5b4d26eaf832\")>,\n",
       " <selenium.webdriver.remote.webelement.WebElement (session=\"db9addd87dfcf20576926240a4ec2677\", element=\"874a2335-29e1-4f1c-b41e-ade732348cda\")>,\n",
       " <selenium.webdriver.remote.webelement.WebElement (session=\"db9addd87dfcf20576926240a4ec2677\", element=\"ed6cdbad-15b8-4dca-a71b-f43938de7126\")>,\n",
       " <selenium.webdriver.remote.webelement.WebElement (session=\"db9addd87dfcf20576926240a4ec2677\", element=\"98d631e4-9fc9-4df8-b1d2-d1968c8f6f50\")>,\n",
       " <selenium.webdriver.remote.webelement.WebElement (session=\"db9addd87dfcf20576926240a4ec2677\", element=\"92635a28-07e0-4211-99e7-22904d09b17f\")>,\n",
       " <selenium.webdriver.remote.webelement.WebElement (session=\"db9addd87dfcf20576926240a4ec2677\", element=\"8d087aa8-2036-4d5a-9e03-b099dfa6ec2c\")>,\n",
       " <selenium.webdriver.remote.webelement.WebElement (session=\"db9addd87dfcf20576926240a4ec2677\", element=\"bee25718-b70a-49a5-982d-327399a8c726\")>,\n",
       " <selenium.webdriver.remote.webelement.WebElement (session=\"db9addd87dfcf20576926240a4ec2677\", element=\"96fd1b63-434d-4162-9476-4789c8cac2c1\")>]"
      ]
     },
     "execution_count": 12,
     "metadata": {},
     "output_type": "execute_result"
    }
   ],
   "source": [
    "#finding location   element using xpath\n",
    "location_tag = driver.find_elements_by_xpath(\"//li[@class='fleft grey-text br2 placeHolderLi location']\")\n",
    "location_tag[0:10]"
   ]
  },
  {
   "cell_type": "code",
   "execution_count": 13,
   "id": "086cb45a",
   "metadata": {},
   "outputs": [
    {
     "data": {
      "text/plain": [
       "['Bangalore/Bengaluru',\n",
       " 'Bangalore/Bengaluru',\n",
       " 'Bangalore/Bengaluru',\n",
       " 'New Delhi, Bangalore/Bengaluru',\n",
       " 'Chennai, Bangalore/Bengaluru',\n",
       " 'Bangalore/Bengaluru',\n",
       " 'Bangalore/Bengaluru',\n",
       " 'Bangalore/Bengaluru',\n",
       " 'Bangalore/Bengaluru',\n",
       " 'Pune, Gurgaon/Gurugram, Chennai, Bangalore/Bengaluru']"
      ]
     },
     "execution_count": 13,
     "metadata": {},
     "output_type": "execute_result"
    }
   ],
   "source": [
    "#getting all the available text in the location_tag element with slicing to fetch only location \n",
    "job_location =[]\n",
    "for i in location_tag:\n",
    "    job_location.append(i.text)\n",
    "job_location[0:10]"
   ]
  },
  {
   "cell_type": "code",
   "execution_count": 14,
   "id": "13384df2",
   "metadata": {},
   "outputs": [
    {
     "data": {
      "text/plain": [
       "[<selenium.webdriver.remote.webelement.WebElement (session=\"db9addd87dfcf20576926240a4ec2677\", element=\"26294501-8fa9-4f92-a5d6-9d55af7b2d1d\")>,\n",
       " <selenium.webdriver.remote.webelement.WebElement (session=\"db9addd87dfcf20576926240a4ec2677\", element=\"517829f4-dc75-4540-9dc1-ed7414652c52\")>,\n",
       " <selenium.webdriver.remote.webelement.WebElement (session=\"db9addd87dfcf20576926240a4ec2677\", element=\"27c5fd5d-292c-47a2-83da-821e2387b405\")>,\n",
       " <selenium.webdriver.remote.webelement.WebElement (session=\"db9addd87dfcf20576926240a4ec2677\", element=\"f2319901-ffb5-4aa3-9dd6-318b8d7ad51c\")>,\n",
       " <selenium.webdriver.remote.webelement.WebElement (session=\"db9addd87dfcf20576926240a4ec2677\", element=\"ef53deb2-97db-4671-8220-3963fbd1dfcd\")>,\n",
       " <selenium.webdriver.remote.webelement.WebElement (session=\"db9addd87dfcf20576926240a4ec2677\", element=\"40444be3-4602-4c36-8c4c-5081a54763fa\")>,\n",
       " <selenium.webdriver.remote.webelement.WebElement (session=\"db9addd87dfcf20576926240a4ec2677\", element=\"dea44bd2-25b0-415a-8e02-fa9192bf307a\")>,\n",
       " <selenium.webdriver.remote.webelement.WebElement (session=\"db9addd87dfcf20576926240a4ec2677\", element=\"010c12f1-ef7b-43fc-b034-3fa0aeed89db\")>,\n",
       " <selenium.webdriver.remote.webelement.WebElement (session=\"db9addd87dfcf20576926240a4ec2677\", element=\"52f2e986-f90b-4173-aa3f-6cf250bd7a66\")>,\n",
       " <selenium.webdriver.remote.webelement.WebElement (session=\"db9addd87dfcf20576926240a4ec2677\", element=\"f0ccfa33-5e38-4430-b9bb-0e4b1391cc2c\")>]"
      ]
     },
     "execution_count": 14,
     "metadata": {},
     "output_type": "execute_result"
    }
   ],
   "source": [
    "#finding company name element using xpath\n",
    "company_tag = driver.find_elements_by_xpath(\"//a[@class='subTitle ellipsis fleft']\")\n",
    "company_tag[0:10]"
   ]
  },
  {
   "cell_type": "code",
   "execution_count": 15,
   "id": "b9a69b8d",
   "metadata": {},
   "outputs": [
    {
     "data": {
      "text/plain": [
       "['Bioclinica',\n",
       " 'Shell',\n",
       " 'Gojek',\n",
       " 'Rupeek',\n",
       " 'LatentView',\n",
       " 'Siemens',\n",
       " 'Optum',\n",
       " 'Optum',\n",
       " 'Denave India Pvt Ltd.',\n",
       " 'Capco']"
      ]
     },
     "execution_count": 15,
     "metadata": {},
     "output_type": "execute_result"
    }
   ],
   "source": [
    "#getting all the available text in the company_tag element to fetch company name and appending the same in for loop\n",
    "company_name = []\n",
    "for i in company_tag:\n",
    "    company_name.append(i.text)\n",
    "company_name[0:10]"
   ]
  },
  {
   "cell_type": "code",
   "execution_count": 16,
   "id": "59c6ae64",
   "metadata": {},
   "outputs": [
    {
     "name": "stdout",
     "output_type": "stream",
     "text": [
      "20 20 20 20\n"
     ]
    }
   ],
   "source": [
    "print(len(job_title),len(job_location),len(experience_required),len(company_name))"
   ]
  },
  {
   "cell_type": "code",
   "execution_count": 17,
   "id": "3240fc46",
   "metadata": {},
   "outputs": [],
   "source": [
    "# creating dataframe and assigning lists to columns\n",
    "Data_Analyst = pd.DataFrame({})\n",
    "Data_Analyst['Job_title'] = job_title\n",
    "Data_Analyst['Job_Location'] = job_location\n",
    "Data_Analyst['Company_name'] = company_name\n",
    "Data_Analyst['Experience_Required'] = experience_required"
   ]
  },
  {
   "cell_type": "code",
   "execution_count": 18,
   "id": "38ec0ade",
   "metadata": {},
   "outputs": [
    {
     "data": {
      "text/html": [
       "<div>\n",
       "<style scoped>\n",
       "    .dataframe tbody tr th:only-of-type {\n",
       "        vertical-align: middle;\n",
       "    }\n",
       "\n",
       "    .dataframe tbody tr th {\n",
       "        vertical-align: top;\n",
       "    }\n",
       "\n",
       "    .dataframe thead th {\n",
       "        text-align: right;\n",
       "    }\n",
       "</style>\n",
       "<table border=\"1\" class=\"dataframe\">\n",
       "  <thead>\n",
       "    <tr style=\"text-align: right;\">\n",
       "      <th></th>\n",
       "      <th>Job_title</th>\n",
       "      <th>Job_Location</th>\n",
       "      <th>Company_name</th>\n",
       "      <th>Experience_Required</th>\n",
       "    </tr>\n",
       "  </thead>\n",
       "  <tbody>\n",
       "    <tr>\n",
       "      <th>0</th>\n",
       "      <td>Data Analyst I</td>\n",
       "      <td>Bangalore/Bengaluru</td>\n",
       "      <td>Bioclinica</td>\n",
       "      <td>0-3 Yrs</td>\n",
       "    </tr>\n",
       "    <tr>\n",
       "      <th>1</th>\n",
       "      <td>Senior Data Analyst</td>\n",
       "      <td>Bangalore/Bengaluru</td>\n",
       "      <td>Shell</td>\n",
       "      <td>10-12 Yrs</td>\n",
       "    </tr>\n",
       "    <tr>\n",
       "      <th>2</th>\n",
       "      <td>Lead Data Analyst - Risk Analytics</td>\n",
       "      <td>Bangalore/Bengaluru</td>\n",
       "      <td>Gojek</td>\n",
       "      <td>5-11 Yrs</td>\n",
       "    </tr>\n",
       "    <tr>\n",
       "      <th>3</th>\n",
       "      <td>Hiring - Zonal Data Analyst (Off Role) - Opera...</td>\n",
       "      <td>New Delhi, Bangalore/Bengaluru</td>\n",
       "      <td>Rupeek</td>\n",
       "      <td>2-7 Yrs</td>\n",
       "    </tr>\n",
       "    <tr>\n",
       "      <th>4</th>\n",
       "      <td>Senior Data Analyst</td>\n",
       "      <td>Chennai, Bangalore/Bengaluru</td>\n",
       "      <td>LatentView</td>\n",
       "      <td>3-6 Yrs</td>\n",
       "    </tr>\n",
       "    <tr>\n",
       "      <th>5</th>\n",
       "      <td>Sr Domain Expert -Data Analysts</td>\n",
       "      <td>Bangalore/Bengaluru</td>\n",
       "      <td>Siemens</td>\n",
       "      <td>0-10 Yrs</td>\n",
       "    </tr>\n",
       "    <tr>\n",
       "      <th>6</th>\n",
       "      <td>Associate Data Analyst</td>\n",
       "      <td>Bangalore/Bengaluru</td>\n",
       "      <td>Optum</td>\n",
       "      <td>2-7 Yrs</td>\n",
       "    </tr>\n",
       "    <tr>\n",
       "      <th>7</th>\n",
       "      <td>Associate Data Analyst</td>\n",
       "      <td>Bangalore/Bengaluru</td>\n",
       "      <td>Optum</td>\n",
       "      <td>4-9 Yrs</td>\n",
       "    </tr>\n",
       "    <tr>\n",
       "      <th>8</th>\n",
       "      <td>Denave Hiring Data Analyst Bengaluru Location</td>\n",
       "      <td>Bangalore/Bengaluru</td>\n",
       "      <td>Denave India Pvt Ltd.</td>\n",
       "      <td>5-10 Yrs</td>\n",
       "    </tr>\n",
       "    <tr>\n",
       "      <th>9</th>\n",
       "      <td>Immediate Joiner Data Analyst</td>\n",
       "      <td>Pune, Gurgaon/Gurugram, Chennai, Bangalore/Ben...</td>\n",
       "      <td>Capco</td>\n",
       "      <td>7-12 Yrs</td>\n",
       "    </tr>\n",
       "  </tbody>\n",
       "</table>\n",
       "</div>"
      ],
      "text/plain": [
       "                                           Job_title  \\\n",
       "0                                     Data Analyst I   \n",
       "1                                Senior Data Analyst   \n",
       "2                 Lead Data Analyst - Risk Analytics   \n",
       "3  Hiring - Zonal Data Analyst (Off Role) - Opera...   \n",
       "4                                Senior Data Analyst   \n",
       "5                    Sr Domain Expert -Data Analysts   \n",
       "6                             Associate Data Analyst   \n",
       "7                             Associate Data Analyst   \n",
       "8      Denave Hiring Data Analyst Bengaluru Location   \n",
       "9                      Immediate Joiner Data Analyst   \n",
       "\n",
       "                                        Job_Location           Company_name  \\\n",
       "0                                Bangalore/Bengaluru             Bioclinica   \n",
       "1                                Bangalore/Bengaluru                  Shell   \n",
       "2                                Bangalore/Bengaluru                  Gojek   \n",
       "3                     New Delhi, Bangalore/Bengaluru                 Rupeek   \n",
       "4                       Chennai, Bangalore/Bengaluru             LatentView   \n",
       "5                                Bangalore/Bengaluru                Siemens   \n",
       "6                                Bangalore/Bengaluru                  Optum   \n",
       "7                                Bangalore/Bengaluru                  Optum   \n",
       "8                                Bangalore/Bengaluru  Denave India Pvt Ltd.   \n",
       "9  Pune, Gurgaon/Gurugram, Chennai, Bangalore/Ben...                  Capco   \n",
       "\n",
       "  Experience_Required  \n",
       "0             0-3 Yrs  \n",
       "1           10-12 Yrs  \n",
       "2            5-11 Yrs  \n",
       "3             2-7 Yrs  \n",
       "4             3-6 Yrs  \n",
       "5            0-10 Yrs  \n",
       "6             2-7 Yrs  \n",
       "7             4-9 Yrs  \n",
       "8            5-10 Yrs  \n",
       "9            7-12 Yrs  "
      ]
     },
     "execution_count": 18,
     "metadata": {},
     "output_type": "execute_result"
    }
   ],
   "source": [
    "Data_Analyst=Data_Analyst[0:10]\n",
    "Data_Analyst"
   ]
  },
  {
   "cell_type": "markdown",
   "id": "8954f2fa",
   "metadata": {},
   "source": [
    "Q2: Write a python program to scrape data for “Data Scientist” Job position in “Bangalore” location. You have to scrape the job-title, job-location, company_name. You have to scrape first 10 jobs data. This task will be done in following steps"
   ]
  },
  {
   "cell_type": "code",
   "execution_count": 19,
   "id": "48bd3931",
   "metadata": {},
   "outputs": [],
   "source": [
    "driver = webdriver.Chrome(r\"C:\\Users\\admin1\\Downloads\\chromedriver.exe\")\n",
    "driver.get('https://www.naukri.com/')"
   ]
  },
  {
   "cell_type": "code",
   "execution_count": 20,
   "id": "98457ca2",
   "metadata": {},
   "outputs": [],
   "source": [
    "#entering \"Data Specialist\" in job search bar using selenium driver\n",
    "search_job = driver.find_element_by_class_name(\"suggestor-input \")\n",
    "search_job.send_keys(\"Data Specialist\")\n",
    "\n",
    "#entering \"Bangalore\" in location search bar using selenium deriver\n",
    "location = driver.find_element_by_xpath('/html/body/div/div[2]/div[3]/div/div/div[3]/div/div/div/input')\n",
    "location.send_keys(\"Bangalore\")"
   ]
  },
  {
   "cell_type": "code",
   "execution_count": 21,
   "id": "0f4a3ea1",
   "metadata": {},
   "outputs": [],
   "source": [
    "#clicking submit button using selenium deriver\n",
    "submit_button = driver.find_element_by_xpath('/html/body/div/div[2]/div[3]/div/div/div[6]')\n",
    "submit_button.click()"
   ]
  },
  {
   "cell_type": "code",
   "execution_count": 22,
   "id": "37bf0b67",
   "metadata": {},
   "outputs": [],
   "source": [
    "#specifying the url of the webpage to be scrapped\n",
    "url='https://www.naukri.com/data-specialist-jobs-in-bangalore?k=data%20specialist&l=bangalore'\n",
    "\n",
    "#lets open the web page through our url\n",
    "driver.get(url)"
   ]
  },
  {
   "cell_type": "code",
   "execution_count": 23,
   "id": "3f03d732",
   "metadata": {},
   "outputs": [
    {
     "data": {
      "text/plain": [
       "[<selenium.webdriver.remote.webelement.WebElement (session=\"0caa2b283e5141c2765cfd0da838065d\", element=\"d7508fbf-6674-4096-8d08-855e18ea138d\")>,\n",
       " <selenium.webdriver.remote.webelement.WebElement (session=\"0caa2b283e5141c2765cfd0da838065d\", element=\"e6846cf5-5141-4549-83b6-f52c19d7b9c4\")>,\n",
       " <selenium.webdriver.remote.webelement.WebElement (session=\"0caa2b283e5141c2765cfd0da838065d\", element=\"7f103fd5-4f76-44c5-bc82-a6b6384247c0\")>,\n",
       " <selenium.webdriver.remote.webelement.WebElement (session=\"0caa2b283e5141c2765cfd0da838065d\", element=\"0a6c3c1c-2258-4d7a-9a05-6783bf2ba873\")>,\n",
       " <selenium.webdriver.remote.webelement.WebElement (session=\"0caa2b283e5141c2765cfd0da838065d\", element=\"829a9ea7-34f7-444a-a063-00fdc8f04c91\")>,\n",
       " <selenium.webdriver.remote.webelement.WebElement (session=\"0caa2b283e5141c2765cfd0da838065d\", element=\"01ac9234-eebe-4438-8bdf-e8ac8775b4b5\")>,\n",
       " <selenium.webdriver.remote.webelement.WebElement (session=\"0caa2b283e5141c2765cfd0da838065d\", element=\"d112fba4-af64-4838-816e-1f55135e9117\")>,\n",
       " <selenium.webdriver.remote.webelement.WebElement (session=\"0caa2b283e5141c2765cfd0da838065d\", element=\"b1066d56-2360-4e74-82ae-5c8ee6d129a1\")>,\n",
       " <selenium.webdriver.remote.webelement.WebElement (session=\"0caa2b283e5141c2765cfd0da838065d\", element=\"145dbf36-7a83-450b-a34c-1138d9b1d2b6\")>,\n",
       " <selenium.webdriver.remote.webelement.WebElement (session=\"0caa2b283e5141c2765cfd0da838065d\", element=\"afc59b57-e078-4e22-8607-23e44ae086ef\")>,\n",
       " <selenium.webdriver.remote.webelement.WebElement (session=\"0caa2b283e5141c2765cfd0da838065d\", element=\"890eda2d-076c-4f8a-a7b9-70269d0518f8\")>,\n",
       " <selenium.webdriver.remote.webelement.WebElement (session=\"0caa2b283e5141c2765cfd0da838065d\", element=\"e13dfa0f-a656-4d46-9efd-d09e3e843f89\")>,\n",
       " <selenium.webdriver.remote.webelement.WebElement (session=\"0caa2b283e5141c2765cfd0da838065d\", element=\"28675023-65c7-47cf-94ce-ffae8dc8e442\")>,\n",
       " <selenium.webdriver.remote.webelement.WebElement (session=\"0caa2b283e5141c2765cfd0da838065d\", element=\"d10b6686-50ca-4fb6-9e19-ed6aa74c25f3\")>,\n",
       " <selenium.webdriver.remote.webelement.WebElement (session=\"0caa2b283e5141c2765cfd0da838065d\", element=\"2176796b-e4e6-4665-9694-887928f61533\")>,\n",
       " <selenium.webdriver.remote.webelement.WebElement (session=\"0caa2b283e5141c2765cfd0da838065d\", element=\"2ade6dca-51a6-4eb0-abf2-9f70a04ee6c8\")>,\n",
       " <selenium.webdriver.remote.webelement.WebElement (session=\"0caa2b283e5141c2765cfd0da838065d\", element=\"a95e11f7-63d1-4ba9-9995-0e19481132e8\")>,\n",
       " <selenium.webdriver.remote.webelement.WebElement (session=\"0caa2b283e5141c2765cfd0da838065d\", element=\"e2634d4d-2e27-45cb-b60a-b16e92569ee6\")>,\n",
       " <selenium.webdriver.remote.webelement.WebElement (session=\"0caa2b283e5141c2765cfd0da838065d\", element=\"49a978d8-5b38-4dbb-9d31-741a2927837a\")>,\n",
       " <selenium.webdriver.remote.webelement.WebElement (session=\"0caa2b283e5141c2765cfd0da838065d\", element=\"1e022c0d-3d9c-4299-9357-f31a95e86290\")>]"
      ]
     },
     "execution_count": 23,
     "metadata": {},
     "output_type": "execute_result"
    }
   ],
   "source": [
    "#finding job title element using xpath\n",
    "title_tags= driver.find_elements_by_xpath(\"//a[@class='title fw500 ellipsis']\")\n",
    "title_tags"
   ]
  },
  {
   "cell_type": "code",
   "execution_count": 24,
   "id": "e3d5ac88",
   "metadata": {},
   "outputs": [
    {
     "data": {
      "text/plain": [
       "['Senior Data Specialist',\n",
       " 'Test Data Specialist / Functional Tester',\n",
       " 'Data Specialist/ Senior Data Specialist',\n",
       " 'Specialist - Data Engineering',\n",
       " 'AWS / Big Data Specialist - Hadoop/ PySpark/ Scala',\n",
       " 'Specialist - Data Engineering - Microstrategy',\n",
       " 'Data Management Specialist',\n",
       " 'Data Engineer - Specialist',\n",
       " 'Data Enrichment Specialist',\n",
       " 'Power BI Specialist - Data Modeling',\n",
       " 'Data Integrity Specialist | Giant Eagle',\n",
       " 'Data Visualization Specialist',\n",
       " 'Azure Data Specialist',\n",
       " 'Power BI Specialist - Data Modeling',\n",
       " 'Specialist - Data Engineering',\n",
       " 'SAP Master Data specialist',\n",
       " 'Hiring For Clinical Data Specialist/Coordinator in Iqvia',\n",
       " 'Platform Data Specialist',\n",
       " 'Platform Data Specialist',\n",
       " 'Data Specialist']"
      ]
     },
     "execution_count": 24,
     "metadata": {},
     "output_type": "execute_result"
    }
   ],
   "source": [
    "#getting all the available text in the title_tags element\n",
    "job_title =[]\n",
    "for i in title_tags:\n",
    "    job_title.append(i.text)\n",
    "job_title"
   ]
  },
  {
   "cell_type": "code",
   "execution_count": 25,
   "id": "113b0dd5",
   "metadata": {},
   "outputs": [
    {
     "data": {
      "text/plain": [
       "[<selenium.webdriver.remote.webelement.WebElement (session=\"0caa2b283e5141c2765cfd0da838065d\", element=\"55221421-32f2-4687-b69b-b0d68753d399\")>,\n",
       " <selenium.webdriver.remote.webelement.WebElement (session=\"0caa2b283e5141c2765cfd0da838065d\", element=\"2f45bf2c-12d1-4de1-9ac8-166fd46fcef5\")>,\n",
       " <selenium.webdriver.remote.webelement.WebElement (session=\"0caa2b283e5141c2765cfd0da838065d\", element=\"eb2c3a40-5813-48df-9ab2-1359e08e96af\")>,\n",
       " <selenium.webdriver.remote.webelement.WebElement (session=\"0caa2b283e5141c2765cfd0da838065d\", element=\"2fdc5471-e55e-4af2-9b44-6c2fdb629aa0\")>,\n",
       " <selenium.webdriver.remote.webelement.WebElement (session=\"0caa2b283e5141c2765cfd0da838065d\", element=\"e9b587f4-51b6-4d62-a075-8beea3d77438\")>,\n",
       " <selenium.webdriver.remote.webelement.WebElement (session=\"0caa2b283e5141c2765cfd0da838065d\", element=\"b0c78ba7-c41d-40e2-83ca-439590955901\")>,\n",
       " <selenium.webdriver.remote.webelement.WebElement (session=\"0caa2b283e5141c2765cfd0da838065d\", element=\"a5651eb6-dcbe-4a47-aba2-d89c892fe932\")>,\n",
       " <selenium.webdriver.remote.webelement.WebElement (session=\"0caa2b283e5141c2765cfd0da838065d\", element=\"5d043683-947b-4fc6-a1b9-4fe38b3cb29a\")>,\n",
       " <selenium.webdriver.remote.webelement.WebElement (session=\"0caa2b283e5141c2765cfd0da838065d\", element=\"a061cec5-e9ad-4c71-a906-7dbcf96301ef\")>,\n",
       " <selenium.webdriver.remote.webelement.WebElement (session=\"0caa2b283e5141c2765cfd0da838065d\", element=\"9aaf729c-d479-409f-87c8-46205e4688f4\")>,\n",
       " <selenium.webdriver.remote.webelement.WebElement (session=\"0caa2b283e5141c2765cfd0da838065d\", element=\"64faec6e-50c2-47d8-a309-f7accfa9d141\")>,\n",
       " <selenium.webdriver.remote.webelement.WebElement (session=\"0caa2b283e5141c2765cfd0da838065d\", element=\"b8433288-fd5d-411c-9982-9a49fa19f041\")>,\n",
       " <selenium.webdriver.remote.webelement.WebElement (session=\"0caa2b283e5141c2765cfd0da838065d\", element=\"e563c2d1-f224-441a-a634-d3a10a54213a\")>,\n",
       " <selenium.webdriver.remote.webelement.WebElement (session=\"0caa2b283e5141c2765cfd0da838065d\", element=\"81056fdc-5227-47de-af11-9509ad6c242e\")>,\n",
       " <selenium.webdriver.remote.webelement.WebElement (session=\"0caa2b283e5141c2765cfd0da838065d\", element=\"fcf8b7c7-51b5-47b2-b4ab-d08353e8fe9e\")>,\n",
       " <selenium.webdriver.remote.webelement.WebElement (session=\"0caa2b283e5141c2765cfd0da838065d\", element=\"ba527de9-26f7-4a41-88a7-59cd95d8b820\")>,\n",
       " <selenium.webdriver.remote.webelement.WebElement (session=\"0caa2b283e5141c2765cfd0da838065d\", element=\"8e8c44e9-f3db-42e2-bf27-470db35c3c83\")>,\n",
       " <selenium.webdriver.remote.webelement.WebElement (session=\"0caa2b283e5141c2765cfd0da838065d\", element=\"f289e78c-ad01-4695-953b-3aef565b7d9b\")>,\n",
       " <selenium.webdriver.remote.webelement.WebElement (session=\"0caa2b283e5141c2765cfd0da838065d\", element=\"79cd4170-9983-42ad-9ca3-6dc5a66bf154\")>,\n",
       " <selenium.webdriver.remote.webelement.WebElement (session=\"0caa2b283e5141c2765cfd0da838065d\", element=\"f9d0ee5d-6315-4822-b7e3-63fe841f7465\")>]"
      ]
     },
     "execution_count": 25,
     "metadata": {},
     "output_type": "execute_result"
    }
   ],
   "source": [
    "#finding location   element using xpath\n",
    "location_tag = driver.find_elements_by_xpath(\"//li[@class='fleft grey-text br2 placeHolderLi location']\")\n",
    "location_tag"
   ]
  },
  {
   "cell_type": "code",
   "execution_count": 26,
   "id": "2e8b4550",
   "metadata": {},
   "outputs": [
    {
     "data": {
      "text/plain": [
       "['Bangalore/Bengaluru\\n(WFH during Covid)',\n",
       " 'Chennai, Bangalore/Bengaluru',\n",
       " 'Gurgaon/Gurugram, Chennai, Bangalore/Bengaluru',\n",
       " 'Bangalore/Bengaluru',\n",
       " 'Bangalore/Bengaluru',\n",
       " 'Pune, Chennai, Bangalore/Bengaluru, Mumbai (All Areas)',\n",
       " 'Hyderabad/Secunderabad, Pune, Bangalore/Bengaluru, Mumbai (All Areas)',\n",
       " 'Bangalore/Bengaluru',\n",
       " 'Bangalore/Bengaluru',\n",
       " 'Bangalore/Bengaluru',\n",
       " 'Bangalore/Bengaluru',\n",
       " 'Bangalore/Bengaluru',\n",
       " 'Bangalore/Bengaluru',\n",
       " 'Bangalore/Bengaluru',\n",
       " 'Mumbai, Pune, Bangalore/Bengaluru',\n",
       " 'Bangalore/Bengaluru',\n",
       " 'Thane, Bangalore/Bengaluru',\n",
       " 'Bengaluru',\n",
       " 'Bangalore/Bengaluru',\n",
       " 'Bengaluru']"
      ]
     },
     "execution_count": 26,
     "metadata": {},
     "output_type": "execute_result"
    }
   ],
   "source": [
    "#getting all the available text in the location_tag element with slicing to fetch only location \n",
    "job_location =[]\n",
    "for i in location_tag:\n",
    "    job_location.append(i.text)\n",
    "job_location"
   ]
  },
  {
   "cell_type": "code",
   "execution_count": 27,
   "id": "f6cb88be",
   "metadata": {},
   "outputs": [
    {
     "data": {
      "text/plain": [
       "[<selenium.webdriver.remote.webelement.WebElement (session=\"0caa2b283e5141c2765cfd0da838065d\", element=\"9ee7bbef-4540-41d7-92e9-523b169fccb1\")>,\n",
       " <selenium.webdriver.remote.webelement.WebElement (session=\"0caa2b283e5141c2765cfd0da838065d\", element=\"6ed0aaa9-24d4-4f9e-b6ad-2b672cadce28\")>,\n",
       " <selenium.webdriver.remote.webelement.WebElement (session=\"0caa2b283e5141c2765cfd0da838065d\", element=\"af282777-7d2b-4fcf-ada1-fb6c1c2add6c\")>,\n",
       " <selenium.webdriver.remote.webelement.WebElement (session=\"0caa2b283e5141c2765cfd0da838065d\", element=\"1ff71504-cce1-452b-8d38-da530b209ff8\")>,\n",
       " <selenium.webdriver.remote.webelement.WebElement (session=\"0caa2b283e5141c2765cfd0da838065d\", element=\"5b10185c-cbf6-439b-af8b-b4ca03ff4578\")>,\n",
       " <selenium.webdriver.remote.webelement.WebElement (session=\"0caa2b283e5141c2765cfd0da838065d\", element=\"f183958c-f883-40b5-a03c-a2390d0418d4\")>,\n",
       " <selenium.webdriver.remote.webelement.WebElement (session=\"0caa2b283e5141c2765cfd0da838065d\", element=\"07ae5a05-f269-4c1f-87ae-08e096b66ae7\")>,\n",
       " <selenium.webdriver.remote.webelement.WebElement (session=\"0caa2b283e5141c2765cfd0da838065d\", element=\"0ce66a2e-ec7c-4697-a247-90ef7959354e\")>,\n",
       " <selenium.webdriver.remote.webelement.WebElement (session=\"0caa2b283e5141c2765cfd0da838065d\", element=\"01b9b058-4ab4-4fef-aeea-5c7db11cf141\")>,\n",
       " <selenium.webdriver.remote.webelement.WebElement (session=\"0caa2b283e5141c2765cfd0da838065d\", element=\"0fba9357-df52-4ccf-8df7-bdeaff5500ec\")>,\n",
       " <selenium.webdriver.remote.webelement.WebElement (session=\"0caa2b283e5141c2765cfd0da838065d\", element=\"49aebff2-e442-4242-a96a-48fbc3957aad\")>,\n",
       " <selenium.webdriver.remote.webelement.WebElement (session=\"0caa2b283e5141c2765cfd0da838065d\", element=\"e32077d0-b068-4ddb-b013-dd25d21cb264\")>,\n",
       " <selenium.webdriver.remote.webelement.WebElement (session=\"0caa2b283e5141c2765cfd0da838065d\", element=\"9f1a360f-6a63-47af-9d64-e6375008f0e9\")>,\n",
       " <selenium.webdriver.remote.webelement.WebElement (session=\"0caa2b283e5141c2765cfd0da838065d\", element=\"36c9bca9-f24c-45d3-b292-87f1250dc67f\")>,\n",
       " <selenium.webdriver.remote.webelement.WebElement (session=\"0caa2b283e5141c2765cfd0da838065d\", element=\"0392d9af-2658-4d8f-84e8-d2fdf65ae189\")>,\n",
       " <selenium.webdriver.remote.webelement.WebElement (session=\"0caa2b283e5141c2765cfd0da838065d\", element=\"89886b73-89e0-4dd5-b2c0-7ae2c0ef4d57\")>,\n",
       " <selenium.webdriver.remote.webelement.WebElement (session=\"0caa2b283e5141c2765cfd0da838065d\", element=\"dac37862-9216-464e-ba84-3e2356216f25\")>,\n",
       " <selenium.webdriver.remote.webelement.WebElement (session=\"0caa2b283e5141c2765cfd0da838065d\", element=\"2228d7c2-8b62-4f00-8292-41db0f9ae602\")>,\n",
       " <selenium.webdriver.remote.webelement.WebElement (session=\"0caa2b283e5141c2765cfd0da838065d\", element=\"b5a8d878-13fb-46cd-a0a3-a1461d339c19\")>,\n",
       " <selenium.webdriver.remote.webelement.WebElement (session=\"0caa2b283e5141c2765cfd0da838065d\", element=\"74c1ea65-e3fc-4158-b2a6-ddbec32c7907\")>]"
      ]
     },
     "execution_count": 27,
     "metadata": {},
     "output_type": "execute_result"
    }
   ],
   "source": [
    "#finding company name element using xpath\n",
    "company_tag = driver.find_elements_by_xpath(\"//a[@class='subTitle ellipsis fleft']\")\n",
    "company_tag"
   ]
  },
  {
   "cell_type": "code",
   "execution_count": 28,
   "id": "e7898dae",
   "metadata": {},
   "outputs": [
    {
     "data": {
      "text/plain": [
       "['Brillio',\n",
       " 'Maveric Systems Limited',\n",
       " 'Maven Wave Partners India Pvt. Ltd',\n",
       " 'L&T Infotech (LTI)',\n",
       " 'Gallop Research',\n",
       " 'Vdart Software Services Private Limited',\n",
       " 'Eversana',\n",
       " 'Epsilon',\n",
       " 'AutoCAD',\n",
       " 'Career Infosystem',\n",
       " 'TALENT500 TECH (INDIA) PRIVATE LIMITED',\n",
       " 'Kimberly-Clark Lever Limited',\n",
       " 'Brillio',\n",
       " 'Career Infosystem',\n",
       " 'AGILITY HUMAN RESOURCE MANAGEMENT SERVICES PRIVATE LIMITED',\n",
       " 'Siemens Gamesa Renewable Energy',\n",
       " 'IQVIA RDS India Pvt Ltd',\n",
       " 'ZeroFOX',\n",
       " 'ZeroFOX',\n",
       " 'Multi Recruit']"
      ]
     },
     "execution_count": 28,
     "metadata": {},
     "output_type": "execute_result"
    }
   ],
   "source": [
    "#getting all the available text in the company_tag element to fetch company name and appending the same in for loop\n",
    "company_name = []\n",
    "for i in company_tag:\n",
    "    company_name.append(i.text)\n",
    "company_name"
   ]
  },
  {
   "cell_type": "code",
   "execution_count": 29,
   "id": "57298cab",
   "metadata": {},
   "outputs": [
    {
     "name": "stdout",
     "output_type": "stream",
     "text": [
      "20 20 20 20\n"
     ]
    }
   ],
   "source": [
    "print(len(job_title),len(job_location),len(experience_required),len(company_name))"
   ]
  },
  {
   "cell_type": "code",
   "execution_count": 30,
   "id": "bb5e29b6",
   "metadata": {},
   "outputs": [],
   "source": [
    "# creating dataframe and assigning lists to columns\n",
    "Data_Specialist = pd.DataFrame({})\n",
    "Data_Specialist['Job_title'] = job_title\n",
    "Data_Specialist['Job_Location'] = job_location\n",
    "Data_Specialist['Company_name'] = company_name"
   ]
  },
  {
   "cell_type": "code",
   "execution_count": 31,
   "id": "7ac781c5",
   "metadata": {},
   "outputs": [
    {
     "data": {
      "text/html": [
       "<div>\n",
       "<style scoped>\n",
       "    .dataframe tbody tr th:only-of-type {\n",
       "        vertical-align: middle;\n",
       "    }\n",
       "\n",
       "    .dataframe tbody tr th {\n",
       "        vertical-align: top;\n",
       "    }\n",
       "\n",
       "    .dataframe thead th {\n",
       "        text-align: right;\n",
       "    }\n",
       "</style>\n",
       "<table border=\"1\" class=\"dataframe\">\n",
       "  <thead>\n",
       "    <tr style=\"text-align: right;\">\n",
       "      <th></th>\n",
       "      <th>Job_title</th>\n",
       "      <th>Job_Location</th>\n",
       "      <th>Company_name</th>\n",
       "    </tr>\n",
       "  </thead>\n",
       "  <tbody>\n",
       "    <tr>\n",
       "      <th>0</th>\n",
       "      <td>Senior Data Specialist</td>\n",
       "      <td>Bangalore/Bengaluru\\n(WFH during Covid)</td>\n",
       "      <td>Brillio</td>\n",
       "    </tr>\n",
       "    <tr>\n",
       "      <th>1</th>\n",
       "      <td>Test Data Specialist / Functional Tester</td>\n",
       "      <td>Chennai, Bangalore/Bengaluru</td>\n",
       "      <td>Maveric Systems Limited</td>\n",
       "    </tr>\n",
       "    <tr>\n",
       "      <th>2</th>\n",
       "      <td>Data Specialist/ Senior Data Specialist</td>\n",
       "      <td>Gurgaon/Gurugram, Chennai, Bangalore/Bengaluru</td>\n",
       "      <td>Maven Wave Partners India Pvt. Ltd</td>\n",
       "    </tr>\n",
       "    <tr>\n",
       "      <th>3</th>\n",
       "      <td>Specialist - Data Engineering</td>\n",
       "      <td>Bangalore/Bengaluru</td>\n",
       "      <td>L&amp;T Infotech (LTI)</td>\n",
       "    </tr>\n",
       "    <tr>\n",
       "      <th>4</th>\n",
       "      <td>AWS / Big Data Specialist - Hadoop/ PySpark/ S...</td>\n",
       "      <td>Bangalore/Bengaluru</td>\n",
       "      <td>Gallop Research</td>\n",
       "    </tr>\n",
       "    <tr>\n",
       "      <th>5</th>\n",
       "      <td>Specialist - Data Engineering - Microstrategy</td>\n",
       "      <td>Pune, Chennai, Bangalore/Bengaluru, Mumbai (Al...</td>\n",
       "      <td>Vdart Software Services Private Limited</td>\n",
       "    </tr>\n",
       "    <tr>\n",
       "      <th>6</th>\n",
       "      <td>Data Management Specialist</td>\n",
       "      <td>Hyderabad/Secunderabad, Pune, Bangalore/Bengal...</td>\n",
       "      <td>Eversana</td>\n",
       "    </tr>\n",
       "    <tr>\n",
       "      <th>7</th>\n",
       "      <td>Data Engineer - Specialist</td>\n",
       "      <td>Bangalore/Bengaluru</td>\n",
       "      <td>Epsilon</td>\n",
       "    </tr>\n",
       "    <tr>\n",
       "      <th>8</th>\n",
       "      <td>Data Enrichment Specialist</td>\n",
       "      <td>Bangalore/Bengaluru</td>\n",
       "      <td>AutoCAD</td>\n",
       "    </tr>\n",
       "    <tr>\n",
       "      <th>9</th>\n",
       "      <td>Power BI Specialist - Data Modeling</td>\n",
       "      <td>Bangalore/Bengaluru</td>\n",
       "      <td>Career Infosystem</td>\n",
       "    </tr>\n",
       "  </tbody>\n",
       "</table>\n",
       "</div>"
      ],
      "text/plain": [
       "                                           Job_title  \\\n",
       "0                             Senior Data Specialist   \n",
       "1           Test Data Specialist / Functional Tester   \n",
       "2            Data Specialist/ Senior Data Specialist   \n",
       "3                      Specialist - Data Engineering   \n",
       "4  AWS / Big Data Specialist - Hadoop/ PySpark/ S...   \n",
       "5      Specialist - Data Engineering - Microstrategy   \n",
       "6                         Data Management Specialist   \n",
       "7                         Data Engineer - Specialist   \n",
       "8                         Data Enrichment Specialist   \n",
       "9                Power BI Specialist - Data Modeling   \n",
       "\n",
       "                                        Job_Location  \\\n",
       "0            Bangalore/Bengaluru\\n(WFH during Covid)   \n",
       "1                       Chennai, Bangalore/Bengaluru   \n",
       "2     Gurgaon/Gurugram, Chennai, Bangalore/Bengaluru   \n",
       "3                                Bangalore/Bengaluru   \n",
       "4                                Bangalore/Bengaluru   \n",
       "5  Pune, Chennai, Bangalore/Bengaluru, Mumbai (Al...   \n",
       "6  Hyderabad/Secunderabad, Pune, Bangalore/Bengal...   \n",
       "7                                Bangalore/Bengaluru   \n",
       "8                                Bangalore/Bengaluru   \n",
       "9                                Bangalore/Bengaluru   \n",
       "\n",
       "                              Company_name  \n",
       "0                                  Brillio  \n",
       "1                  Maveric Systems Limited  \n",
       "2       Maven Wave Partners India Pvt. Ltd  \n",
       "3                       L&T Infotech (LTI)  \n",
       "4                          Gallop Research  \n",
       "5  Vdart Software Services Private Limited  \n",
       "6                                 Eversana  \n",
       "7                                  Epsilon  \n",
       "8                                  AutoCAD  \n",
       "9                        Career Infosystem  "
      ]
     },
     "execution_count": 31,
     "metadata": {},
     "output_type": "execute_result"
    }
   ],
   "source": [
    "Data_Specialist=Data_Specialist[0:10]\n",
    "Data_Specialist"
   ]
  },
  {
   "cell_type": "markdown",
   "id": "250874cc",
   "metadata": {},
   "source": [
    "Q3: In this question you have to scrape data using the filters available on the webpage as shown below: You have to use the location and salary filter. You have to scrape data for “Data Scientist” designation for first 10 job results. You have to scrape the job-title, job-location, company name, experience required. The location filter to be used is “Delhi/NCR”. The salary filter to be used is “3-6” lakhs"
   ]
  },
  {
   "cell_type": "code",
   "execution_count": 32,
   "id": "14032f60",
   "metadata": {},
   "outputs": [],
   "source": [
    "driver = webdriver.Chrome(r\"C:\\Users\\admin1\\Downloads\\chromedriver.exe\")\n",
    "driver.get('https://www.naukri.com/')"
   ]
  },
  {
   "cell_type": "code",
   "execution_count": 33,
   "id": "f3f27dbc",
   "metadata": {},
   "outputs": [],
   "source": [
    "#entering \"Data Specialist\" in job search bar using selenium driver\n",
    "search_job = driver.find_element_by_class_name(\"suggestor-input \")\n",
    "search_job.send_keys(\"Data Specialist\")\n",
    "\n",
    "#entering \"Bangalore\" in location search bar using selenium deriver\n",
    "location = driver.find_element_by_xpath('/html/body/div/div[2]/div[3]/div/div/div[3]/div/div/div/input')\n",
    "location.send_keys(\"Delhi/NCR\")"
   ]
  },
  {
   "cell_type": "code",
   "execution_count": 34,
   "id": "70c0cbac",
   "metadata": {},
   "outputs": [],
   "source": [
    "#clicking submit button using selenium deriver\n",
    "submit_button = driver.find_element_by_xpath('/html/body/div/div[2]/div[3]/div/div/div[6]')\n",
    "submit_button.click()"
   ]
  },
  {
   "cell_type": "code",
   "execution_count": 35,
   "id": "5739318b",
   "metadata": {},
   "outputs": [],
   "source": [
    "#specifying the url of the webpage to be scrapped\n",
    "url='https://www.naukri.com/data-specialist-jobs-in-delhi-ncr?k=data%20specialist&l=delhi%2Fncr&ctcFilter=3to6&cityTypeGid=9508'\n",
    "\n",
    "#lets open the web page through our url\n",
    "driver.get(url)"
   ]
  },
  {
   "cell_type": "code",
   "execution_count": 36,
   "id": "cfdeedd1",
   "metadata": {},
   "outputs": [
    {
     "data": {
      "text/plain": [
       "[<selenium.webdriver.remote.webelement.WebElement (session=\"3f0564e0ff35ac93bcc283295c8ac52a\", element=\"cf7f752a-8ff3-4240-b681-60e5cfc9c597\")>,\n",
       " <selenium.webdriver.remote.webelement.WebElement (session=\"3f0564e0ff35ac93bcc283295c8ac52a\", element=\"d74dc2b2-5aad-46ab-9940-00ce5d9bcaca\")>,\n",
       " <selenium.webdriver.remote.webelement.WebElement (session=\"3f0564e0ff35ac93bcc283295c8ac52a\", element=\"796ab9f1-ba74-4483-b882-a8cc75dfa0a2\")>,\n",
       " <selenium.webdriver.remote.webelement.WebElement (session=\"3f0564e0ff35ac93bcc283295c8ac52a\", element=\"a53346bd-b7a5-4260-a8af-7ea706149247\")>,\n",
       " <selenium.webdriver.remote.webelement.WebElement (session=\"3f0564e0ff35ac93bcc283295c8ac52a\", element=\"d83516fb-486b-4a82-ac08-4f44e96b62f5\")>,\n",
       " <selenium.webdriver.remote.webelement.WebElement (session=\"3f0564e0ff35ac93bcc283295c8ac52a\", element=\"d3c491d2-97e9-417c-92af-78e4da62e03e\")>,\n",
       " <selenium.webdriver.remote.webelement.WebElement (session=\"3f0564e0ff35ac93bcc283295c8ac52a\", element=\"72c29bae-5978-4fc0-a6e7-9341d22810db\")>,\n",
       " <selenium.webdriver.remote.webelement.WebElement (session=\"3f0564e0ff35ac93bcc283295c8ac52a\", element=\"2200556c-4334-412c-b739-1c37158011a9\")>,\n",
       " <selenium.webdriver.remote.webelement.WebElement (session=\"3f0564e0ff35ac93bcc283295c8ac52a\", element=\"2a486604-d817-4fd0-8650-898aa5e8ef09\")>,\n",
       " <selenium.webdriver.remote.webelement.WebElement (session=\"3f0564e0ff35ac93bcc283295c8ac52a\", element=\"eee6e122-faf4-4c2c-81bb-d16d6b69ea07\")>,\n",
       " <selenium.webdriver.remote.webelement.WebElement (session=\"3f0564e0ff35ac93bcc283295c8ac52a\", element=\"e82481fb-5e1d-48a6-8f97-1d3f846258cf\")>,\n",
       " <selenium.webdriver.remote.webelement.WebElement (session=\"3f0564e0ff35ac93bcc283295c8ac52a\", element=\"d3d45138-66d9-4b38-bb26-0bdc5c8c82b8\")>,\n",
       " <selenium.webdriver.remote.webelement.WebElement (session=\"3f0564e0ff35ac93bcc283295c8ac52a\", element=\"65544521-2fe3-4baf-a0cb-74c5c17bd565\")>,\n",
       " <selenium.webdriver.remote.webelement.WebElement (session=\"3f0564e0ff35ac93bcc283295c8ac52a\", element=\"649c7c54-2245-4aff-a013-5400f936f73e\")>,\n",
       " <selenium.webdriver.remote.webelement.WebElement (session=\"3f0564e0ff35ac93bcc283295c8ac52a\", element=\"efbe7825-0772-48b6-9a20-1d8ef2a371ab\")>,\n",
       " <selenium.webdriver.remote.webelement.WebElement (session=\"3f0564e0ff35ac93bcc283295c8ac52a\", element=\"21ab2f37-a246-40a4-bcb4-12a1e121df0d\")>,\n",
       " <selenium.webdriver.remote.webelement.WebElement (session=\"3f0564e0ff35ac93bcc283295c8ac52a\", element=\"a8a70772-f31e-49b2-886b-c3978a5e42eb\")>,\n",
       " <selenium.webdriver.remote.webelement.WebElement (session=\"3f0564e0ff35ac93bcc283295c8ac52a\", element=\"0f0862f7-b45c-41e7-bbb7-f59c3a11543b\")>,\n",
       " <selenium.webdriver.remote.webelement.WebElement (session=\"3f0564e0ff35ac93bcc283295c8ac52a\", element=\"80a757c1-0556-4138-8dd8-4ac94d9de020\")>,\n",
       " <selenium.webdriver.remote.webelement.WebElement (session=\"3f0564e0ff35ac93bcc283295c8ac52a\", element=\"d05c4794-723c-45e3-bb12-3014b26828fd\")>]"
      ]
     },
     "execution_count": 36,
     "metadata": {},
     "output_type": "execute_result"
    }
   ],
   "source": [
    "#finding job title element using xpath\n",
    "title_tags= driver.find_elements_by_xpath(\"//a[@class='title fw500 ellipsis']\")\n",
    "title_tags"
   ]
  },
  {
   "cell_type": "code",
   "execution_count": 46,
   "id": "57a9d2ee",
   "metadata": {},
   "outputs": [
    {
     "data": {
      "text/plain": [
       "['HR Specialist Data Management',\n",
       " 'Data Entry Specialist',\n",
       " 'Specialist / Senior Specialist - Data Validation',\n",
       " 'Data Specialist',\n",
       " 'Hiring For Master Data Management Specialist - Tech Mahindra',\n",
       " 'Data Processing Specialist',\n",
       " 'Data Science Specialist',\n",
       " 'Technical Network Data Analyst - Specialist',\n",
       " 'Part Time || Data Science - Academic Content || Work from Home',\n",
       " 'Audit Specialist / Data compliance and Support Coordinator']"
      ]
     },
     "execution_count": 46,
     "metadata": {},
     "output_type": "execute_result"
    }
   ],
   "source": [
    "#getting all the available text in the title_tags element\n",
    "job_title =[]\n",
    "for i in title_tags:\n",
    "    job_title.append(i.text)\n",
    "job_title=job_title[0:10]\n",
    "job_title"
   ]
  },
  {
   "cell_type": "code",
   "execution_count": 38,
   "id": "dada6ea9",
   "metadata": {},
   "outputs": [
    {
     "data": {
      "text/plain": [
       "[<selenium.webdriver.remote.webelement.WebElement (session=\"3f0564e0ff35ac93bcc283295c8ac52a\", element=\"f40eb563-a504-4f11-a886-4ec3920305e3\")>,\n",
       " <selenium.webdriver.remote.webelement.WebElement (session=\"3f0564e0ff35ac93bcc283295c8ac52a\", element=\"8444efb8-3469-49f1-9bbf-76f34ec3333b\")>,\n",
       " <selenium.webdriver.remote.webelement.WebElement (session=\"3f0564e0ff35ac93bcc283295c8ac52a\", element=\"5e83223f-c85a-48e1-b06d-9f1760cb4d6e\")>,\n",
       " <selenium.webdriver.remote.webelement.WebElement (session=\"3f0564e0ff35ac93bcc283295c8ac52a\", element=\"389f3582-bf72-43e7-8dfd-346d86166f97\")>,\n",
       " <selenium.webdriver.remote.webelement.WebElement (session=\"3f0564e0ff35ac93bcc283295c8ac52a\", element=\"58e4cec8-d8e8-4ea9-8869-447fed146f18\")>,\n",
       " <selenium.webdriver.remote.webelement.WebElement (session=\"3f0564e0ff35ac93bcc283295c8ac52a\", element=\"3518d5d8-8624-44bd-966f-e9c4ea854cbb\")>,\n",
       " <selenium.webdriver.remote.webelement.WebElement (session=\"3f0564e0ff35ac93bcc283295c8ac52a\", element=\"c163de57-4a70-4541-9f24-fe89214423a2\")>,\n",
       " <selenium.webdriver.remote.webelement.WebElement (session=\"3f0564e0ff35ac93bcc283295c8ac52a\", element=\"03b2b72f-4666-4942-8d83-4921a876cc34\")>,\n",
       " <selenium.webdriver.remote.webelement.WebElement (session=\"3f0564e0ff35ac93bcc283295c8ac52a\", element=\"338867ca-88e8-4921-bdc2-ce6f578a7840\")>,\n",
       " <selenium.webdriver.remote.webelement.WebElement (session=\"3f0564e0ff35ac93bcc283295c8ac52a\", element=\"6b9039fe-d946-4936-8be9-999d5670aaaf\")>,\n",
       " <selenium.webdriver.remote.webelement.WebElement (session=\"3f0564e0ff35ac93bcc283295c8ac52a\", element=\"be1d04a2-e9a7-42b1-bf77-156256c6780e\")>,\n",
       " <selenium.webdriver.remote.webelement.WebElement (session=\"3f0564e0ff35ac93bcc283295c8ac52a\", element=\"9f455c2a-bed8-4a2f-808b-5354a7a35b8c\")>,\n",
       " <selenium.webdriver.remote.webelement.WebElement (session=\"3f0564e0ff35ac93bcc283295c8ac52a\", element=\"a73089a4-25b5-4efa-af2e-c61248a9d00a\")>,\n",
       " <selenium.webdriver.remote.webelement.WebElement (session=\"3f0564e0ff35ac93bcc283295c8ac52a\", element=\"2f5cd1fe-2fb6-4aaa-8ab8-653700cd6e6f\")>,\n",
       " <selenium.webdriver.remote.webelement.WebElement (session=\"3f0564e0ff35ac93bcc283295c8ac52a\", element=\"409c0abf-c231-4f10-9ada-d97b4457e9e8\")>,\n",
       " <selenium.webdriver.remote.webelement.WebElement (session=\"3f0564e0ff35ac93bcc283295c8ac52a\", element=\"416585f5-e941-4088-9719-13ac08a2a169\")>,\n",
       " <selenium.webdriver.remote.webelement.WebElement (session=\"3f0564e0ff35ac93bcc283295c8ac52a\", element=\"8672b791-938c-410a-8089-0dca04c81d3d\")>,\n",
       " <selenium.webdriver.remote.webelement.WebElement (session=\"3f0564e0ff35ac93bcc283295c8ac52a\", element=\"8e63531a-10cd-496f-8849-349561477ec7\")>,\n",
       " <selenium.webdriver.remote.webelement.WebElement (session=\"3f0564e0ff35ac93bcc283295c8ac52a\", element=\"16ccebbd-8de7-4c6c-86bf-21e608f7cd15\")>,\n",
       " <selenium.webdriver.remote.webelement.WebElement (session=\"3f0564e0ff35ac93bcc283295c8ac52a\", element=\"da6645ee-cd8c-416c-8dd6-cd192c6fd13f\")>]"
      ]
     },
     "execution_count": 38,
     "metadata": {},
     "output_type": "execute_result"
    }
   ],
   "source": [
    "#finding location   element using xpath\n",
    "location_tag = driver.find_elements_by_xpath(\"//li[@class='fleft grey-text br2 placeHolderLi location']\")\n",
    "location_tag"
   ]
  },
  {
   "cell_type": "code",
   "execution_count": 47,
   "id": "17b096cd",
   "metadata": {},
   "outputs": [
    {
     "data": {
      "text/plain": [
       "['New Delhi, Gurgaon/Gurugram, Delhi / NCR',\n",
       " 'Delhi / NCR',\n",
       " 'Gurgaon/Gurugram',\n",
       " 'Gurgaon',\n",
       " 'Noida',\n",
       " 'Gurgaon',\n",
       " 'Gurgaon/Gurugram',\n",
       " 'New Delhi',\n",
       " 'Kolkata, Mumbai, Hyderabad/Secunderabad, Pune, Ahmedabad, Chennai, Bangalore/Bengaluru, Delhi / NCR, Mumbai (All Areas)',\n",
       " 'Gurgaon/Gurugram']"
      ]
     },
     "execution_count": 47,
     "metadata": {},
     "output_type": "execute_result"
    }
   ],
   "source": [
    "#getting all the available text in the location_tag element with slicing to fetch only location \n",
    "job_location =[]\n",
    "for i in location_tag:\n",
    "    job_location.append(i.text)\n",
    "job_location=job_location[0:10]\n",
    "job_location"
   ]
  },
  {
   "cell_type": "code",
   "execution_count": 40,
   "id": "d5d2d31e",
   "metadata": {},
   "outputs": [
    {
     "data": {
      "text/plain": [
       "[<selenium.webdriver.remote.webelement.WebElement (session=\"3f0564e0ff35ac93bcc283295c8ac52a\", element=\"0f69cce4-6797-4e47-b807-8003a0c259af\")>,\n",
       " <selenium.webdriver.remote.webelement.WebElement (session=\"3f0564e0ff35ac93bcc283295c8ac52a\", element=\"b625df6e-600c-49bb-9c8d-9cf2c2221fae\")>,\n",
       " <selenium.webdriver.remote.webelement.WebElement (session=\"3f0564e0ff35ac93bcc283295c8ac52a\", element=\"b3cab478-588c-4875-97fc-a01a04b0e120\")>,\n",
       " <selenium.webdriver.remote.webelement.WebElement (session=\"3f0564e0ff35ac93bcc283295c8ac52a\", element=\"3dd866f9-9b6d-457f-b5f0-468aa7803be6\")>,\n",
       " <selenium.webdriver.remote.webelement.WebElement (session=\"3f0564e0ff35ac93bcc283295c8ac52a\", element=\"59038808-2086-4f59-af2c-a92367aa6d99\")>,\n",
       " <selenium.webdriver.remote.webelement.WebElement (session=\"3f0564e0ff35ac93bcc283295c8ac52a\", element=\"77c54bd0-b12c-46c6-b012-212eced27744\")>,\n",
       " <selenium.webdriver.remote.webelement.WebElement (session=\"3f0564e0ff35ac93bcc283295c8ac52a\", element=\"03fcdfb9-6f8a-44d3-9f5b-f7f39de7a407\")>,\n",
       " <selenium.webdriver.remote.webelement.WebElement (session=\"3f0564e0ff35ac93bcc283295c8ac52a\", element=\"e6e8a9bb-a41a-4f4d-9045-baf59ddaa165\")>,\n",
       " <selenium.webdriver.remote.webelement.WebElement (session=\"3f0564e0ff35ac93bcc283295c8ac52a\", element=\"81539141-9df3-4c71-820b-a2b48df74f38\")>,\n",
       " <selenium.webdriver.remote.webelement.WebElement (session=\"3f0564e0ff35ac93bcc283295c8ac52a\", element=\"4a88ada9-6f6c-4a37-9e7c-d2238a3ba7cd\")>,\n",
       " <selenium.webdriver.remote.webelement.WebElement (session=\"3f0564e0ff35ac93bcc283295c8ac52a\", element=\"33efd569-6322-4524-ace9-d89d218bf19b\")>,\n",
       " <selenium.webdriver.remote.webelement.WebElement (session=\"3f0564e0ff35ac93bcc283295c8ac52a\", element=\"4b2936bb-3f36-49b7-b332-5c1ed5f5fed6\")>,\n",
       " <selenium.webdriver.remote.webelement.WebElement (session=\"3f0564e0ff35ac93bcc283295c8ac52a\", element=\"b8d6fddd-6cb5-489f-b101-6cef1b1aaadf\")>,\n",
       " <selenium.webdriver.remote.webelement.WebElement (session=\"3f0564e0ff35ac93bcc283295c8ac52a\", element=\"f93dcd6b-935a-4a5f-a9c2-3cda9b28fb0d\")>,\n",
       " <selenium.webdriver.remote.webelement.WebElement (session=\"3f0564e0ff35ac93bcc283295c8ac52a\", element=\"9e43dd59-0a71-4614-a383-76038bf5b962\")>,\n",
       " <selenium.webdriver.remote.webelement.WebElement (session=\"3f0564e0ff35ac93bcc283295c8ac52a\", element=\"da185c65-cd35-4326-a985-c2399f542e08\")>,\n",
       " <selenium.webdriver.remote.webelement.WebElement (session=\"3f0564e0ff35ac93bcc283295c8ac52a\", element=\"77a0a0eb-2ac1-41b1-9a01-ac976801f098\")>,\n",
       " <selenium.webdriver.remote.webelement.WebElement (session=\"3f0564e0ff35ac93bcc283295c8ac52a\", element=\"3ab2dfdc-da06-4af8-adc9-bd4a5f5acf34\")>,\n",
       " <selenium.webdriver.remote.webelement.WebElement (session=\"3f0564e0ff35ac93bcc283295c8ac52a\", element=\"2d29e098-e4e0-4021-a5b5-4110c9647e3e\")>,\n",
       " <selenium.webdriver.remote.webelement.WebElement (session=\"3f0564e0ff35ac93bcc283295c8ac52a\", element=\"acdf50fd-ca41-48fc-889a-6a12e999db4b\")>]"
      ]
     },
     "execution_count": 40,
     "metadata": {},
     "output_type": "execute_result"
    }
   ],
   "source": [
    "#finding company name element using xpath\n",
    "company_tag = driver.find_elements_by_xpath(\"//a[@class='subTitle ellipsis fleft']\")\n",
    "company_tag"
   ]
  },
  {
   "cell_type": "code",
   "execution_count": 48,
   "id": "89463049",
   "metadata": {},
   "outputs": [
    {
     "data": {
      "text/plain": [
       "['Nokia Solutions and Networks India (P)Ltd',\n",
       " 'Presto Infosolution (P) Ltd',\n",
       " 'Anaqua',\n",
       " 'Agenty',\n",
       " 'Tech Mahindra',\n",
       " 'USHYAKU SOFTWARE SOLUTIONS LLP',\n",
       " 'Glan Management Consultancy',\n",
       " 'Telstra',\n",
       " 'Evelyn Learning Systems',\n",
       " 'TIBCO']"
      ]
     },
     "execution_count": 48,
     "metadata": {},
     "output_type": "execute_result"
    }
   ],
   "source": [
    "#getting all the available text in the company_tag element to fetch company name and appending the same in for loop\n",
    "company_name = []\n",
    "for i in company_tag:\n",
    "    company_name.append(i.text)\n",
    "company_name=company_name[0:10]\n",
    "company_name"
   ]
  },
  {
   "cell_type": "code",
   "execution_count": 42,
   "id": "a760cb8a",
   "metadata": {},
   "outputs": [
    {
     "data": {
      "text/plain": [
       "[<selenium.webdriver.remote.webelement.WebElement (session=\"3f0564e0ff35ac93bcc283295c8ac52a\", element=\"928967e2-2249-4774-9117-611f675811ef\")>,\n",
       " <selenium.webdriver.remote.webelement.WebElement (session=\"3f0564e0ff35ac93bcc283295c8ac52a\", element=\"7120aac6-a66e-42fd-a0fe-b5cbe06fef4f\")>,\n",
       " <selenium.webdriver.remote.webelement.WebElement (session=\"3f0564e0ff35ac93bcc283295c8ac52a\", element=\"bcac1aa4-b68c-427c-b3c8-a7c7813cf5ed\")>,\n",
       " <selenium.webdriver.remote.webelement.WebElement (session=\"3f0564e0ff35ac93bcc283295c8ac52a\", element=\"8c2e9a2d-080f-4fe1-9cff-f37d95dd2196\")>,\n",
       " <selenium.webdriver.remote.webelement.WebElement (session=\"3f0564e0ff35ac93bcc283295c8ac52a\", element=\"94ff8798-9667-4701-ac4b-7486ca777d8b\")>,\n",
       " <selenium.webdriver.remote.webelement.WebElement (session=\"3f0564e0ff35ac93bcc283295c8ac52a\", element=\"2fddcf9d-af52-4441-81a9-651ba359740a\")>,\n",
       " <selenium.webdriver.remote.webelement.WebElement (session=\"3f0564e0ff35ac93bcc283295c8ac52a\", element=\"ff6c9e24-b0f8-483a-bfa0-7dffee3fe481\")>,\n",
       " <selenium.webdriver.remote.webelement.WebElement (session=\"3f0564e0ff35ac93bcc283295c8ac52a\", element=\"84324552-bab0-4aeb-9516-196b5e26760f\")>,\n",
       " <selenium.webdriver.remote.webelement.WebElement (session=\"3f0564e0ff35ac93bcc283295c8ac52a\", element=\"9bee5e53-e24b-4315-8f16-b0f708efcf50\")>,\n",
       " <selenium.webdriver.remote.webelement.WebElement (session=\"3f0564e0ff35ac93bcc283295c8ac52a\", element=\"cc103c16-a9fd-4c4d-bd92-ae4b999fa64c\")>,\n",
       " <selenium.webdriver.remote.webelement.WebElement (session=\"3f0564e0ff35ac93bcc283295c8ac52a\", element=\"ace26a7e-c04f-4b8a-b1f6-859b100e4613\")>,\n",
       " <selenium.webdriver.remote.webelement.WebElement (session=\"3f0564e0ff35ac93bcc283295c8ac52a\", element=\"6d887d72-e39c-4924-b622-00c69035f158\")>,\n",
       " <selenium.webdriver.remote.webelement.WebElement (session=\"3f0564e0ff35ac93bcc283295c8ac52a\", element=\"2864bdc5-2207-4889-8523-8754c56ed0f5\")>,\n",
       " <selenium.webdriver.remote.webelement.WebElement (session=\"3f0564e0ff35ac93bcc283295c8ac52a\", element=\"46d567a9-e0fc-426f-9519-e5f3a4821018\")>,\n",
       " <selenium.webdriver.remote.webelement.WebElement (session=\"3f0564e0ff35ac93bcc283295c8ac52a\", element=\"16e912eb-99b4-41b0-89e3-8f6277f7aaed\")>,\n",
       " <selenium.webdriver.remote.webelement.WebElement (session=\"3f0564e0ff35ac93bcc283295c8ac52a\", element=\"637b76c7-2fde-4db0-9bd6-59ccd86b6bf3\")>,\n",
       " <selenium.webdriver.remote.webelement.WebElement (session=\"3f0564e0ff35ac93bcc283295c8ac52a\", element=\"ffd40773-30f8-4a1a-8025-52b528276303\")>,\n",
       " <selenium.webdriver.remote.webelement.WebElement (session=\"3f0564e0ff35ac93bcc283295c8ac52a\", element=\"693500c4-7074-4a63-92da-14bac990448e\")>,\n",
       " <selenium.webdriver.remote.webelement.WebElement (session=\"3f0564e0ff35ac93bcc283295c8ac52a\", element=\"c5fd8bb9-4b9a-4b64-9339-50ea525cb3c4\")>]"
      ]
     },
     "execution_count": 42,
     "metadata": {},
     "output_type": "execute_result"
    }
   ],
   "source": [
    "#finding experience   element using xpath\n",
    "exp_tag = driver.find_elements_by_xpath(\"//li[@class='fleft grey-text br2 placeHolderLi experience']//span\")\n",
    "exp_tag"
   ]
  },
  {
   "cell_type": "code",
   "execution_count": 49,
   "id": "afcbfec6",
   "metadata": {},
   "outputs": [
    {
     "data": {
      "text/plain": [
       "['3-5 Yrs',\n",
       " '0-4 Yrs',\n",
       " '2-7 Yrs',\n",
       " '3-6 Yrs',\n",
       " '2-7 Yrs',\n",
       " '5-8 Yrs',\n",
       " '3-6 Yrs',\n",
       " '0-5 Yrs',\n",
       " '1-2 Yrs',\n",
       " '0-2 Yrs']"
      ]
     },
     "execution_count": 49,
     "metadata": {},
     "output_type": "execute_result"
    }
   ],
   "source": [
    "#getting all the available text in the location_tag element\n",
    "experience_required=[]\n",
    "for i in exp_tag:\n",
    "    experience_required.append(i.text)\n",
    "experience_required=experience_required[0:10]\n",
    "experience_required"
   ]
  },
  {
   "cell_type": "code",
   "execution_count": 50,
   "id": "5ff35734",
   "metadata": {},
   "outputs": [
    {
     "name": "stdout",
     "output_type": "stream",
     "text": [
      "10 10 10 10\n"
     ]
    }
   ],
   "source": [
    "print(len(job_title),len(job_location),len(experience_required),len(company_name))"
   ]
  },
  {
   "cell_type": "code",
   "execution_count": 51,
   "id": "06b26fc4",
   "metadata": {},
   "outputs": [],
   "source": [
    "# creating dataframe and assigning lists to columns\n",
    "Data_Specialist_Delhi = pd.DataFrame({})\n",
    "Data_Specialist_Delhi['Job_title'] = job_title\n",
    "Data_Specialist_Delhi['Job_Location'] = job_location\n",
    "Data_Specialist_Delhi['Company_name'] = company_name\n",
    "Data_Specialist_Delhi['Experience_Required'] = experience_required"
   ]
  },
  {
   "cell_type": "code",
   "execution_count": 52,
   "id": "697d7eb0",
   "metadata": {},
   "outputs": [
    {
     "data": {
      "text/html": [
       "<div>\n",
       "<style scoped>\n",
       "    .dataframe tbody tr th:only-of-type {\n",
       "        vertical-align: middle;\n",
       "    }\n",
       "\n",
       "    .dataframe tbody tr th {\n",
       "        vertical-align: top;\n",
       "    }\n",
       "\n",
       "    .dataframe thead th {\n",
       "        text-align: right;\n",
       "    }\n",
       "</style>\n",
       "<table border=\"1\" class=\"dataframe\">\n",
       "  <thead>\n",
       "    <tr style=\"text-align: right;\">\n",
       "      <th></th>\n",
       "      <th>Job_title</th>\n",
       "      <th>Job_Location</th>\n",
       "      <th>Company_name</th>\n",
       "      <th>Experience_Required</th>\n",
       "    </tr>\n",
       "  </thead>\n",
       "  <tbody>\n",
       "    <tr>\n",
       "      <th>0</th>\n",
       "      <td>HR Specialist Data Management</td>\n",
       "      <td>New Delhi, Gurgaon/Gurugram, Delhi / NCR</td>\n",
       "      <td>Nokia Solutions and Networks India (P)Ltd</td>\n",
       "      <td>3-5 Yrs</td>\n",
       "    </tr>\n",
       "    <tr>\n",
       "      <th>1</th>\n",
       "      <td>Data Entry Specialist</td>\n",
       "      <td>Delhi / NCR</td>\n",
       "      <td>Presto Infosolution (P) Ltd</td>\n",
       "      <td>0-4 Yrs</td>\n",
       "    </tr>\n",
       "    <tr>\n",
       "      <th>2</th>\n",
       "      <td>Specialist / Senior Specialist - Data Validation</td>\n",
       "      <td>Gurgaon/Gurugram</td>\n",
       "      <td>Anaqua</td>\n",
       "      <td>2-7 Yrs</td>\n",
       "    </tr>\n",
       "    <tr>\n",
       "      <th>3</th>\n",
       "      <td>Data Specialist</td>\n",
       "      <td>Gurgaon</td>\n",
       "      <td>Agenty</td>\n",
       "      <td>3-6 Yrs</td>\n",
       "    </tr>\n",
       "    <tr>\n",
       "      <th>4</th>\n",
       "      <td>Hiring For Master Data Management Specialist -...</td>\n",
       "      <td>Noida</td>\n",
       "      <td>Tech Mahindra</td>\n",
       "      <td>2-7 Yrs</td>\n",
       "    </tr>\n",
       "    <tr>\n",
       "      <th>5</th>\n",
       "      <td>Data Processing Specialist</td>\n",
       "      <td>Gurgaon</td>\n",
       "      <td>USHYAKU SOFTWARE SOLUTIONS LLP</td>\n",
       "      <td>5-8 Yrs</td>\n",
       "    </tr>\n",
       "    <tr>\n",
       "      <th>6</th>\n",
       "      <td>Data Science Specialist</td>\n",
       "      <td>Gurgaon/Gurugram</td>\n",
       "      <td>Glan Management Consultancy</td>\n",
       "      <td>3-6 Yrs</td>\n",
       "    </tr>\n",
       "    <tr>\n",
       "      <th>7</th>\n",
       "      <td>Technical Network Data Analyst - Specialist</td>\n",
       "      <td>New Delhi</td>\n",
       "      <td>Telstra</td>\n",
       "      <td>0-5 Yrs</td>\n",
       "    </tr>\n",
       "    <tr>\n",
       "      <th>8</th>\n",
       "      <td>Part Time || Data Science - Academic Content |...</td>\n",
       "      <td>Kolkata, Mumbai, Hyderabad/Secunderabad, Pune,...</td>\n",
       "      <td>Evelyn Learning Systems</td>\n",
       "      <td>1-2 Yrs</td>\n",
       "    </tr>\n",
       "    <tr>\n",
       "      <th>9</th>\n",
       "      <td>Audit Specialist / Data compliance and Support...</td>\n",
       "      <td>Gurgaon/Gurugram</td>\n",
       "      <td>TIBCO</td>\n",
       "      <td>0-2 Yrs</td>\n",
       "    </tr>\n",
       "  </tbody>\n",
       "</table>\n",
       "</div>"
      ],
      "text/plain": [
       "                                           Job_title  \\\n",
       "0                      HR Specialist Data Management   \n",
       "1                              Data Entry Specialist   \n",
       "2   Specialist / Senior Specialist - Data Validation   \n",
       "3                                    Data Specialist   \n",
       "4  Hiring For Master Data Management Specialist -...   \n",
       "5                         Data Processing Specialist   \n",
       "6                            Data Science Specialist   \n",
       "7        Technical Network Data Analyst - Specialist   \n",
       "8  Part Time || Data Science - Academic Content |...   \n",
       "9  Audit Specialist / Data compliance and Support...   \n",
       "\n",
       "                                        Job_Location  \\\n",
       "0           New Delhi, Gurgaon/Gurugram, Delhi / NCR   \n",
       "1                                        Delhi / NCR   \n",
       "2                                   Gurgaon/Gurugram   \n",
       "3                                            Gurgaon   \n",
       "4                                              Noida   \n",
       "5                                            Gurgaon   \n",
       "6                                   Gurgaon/Gurugram   \n",
       "7                                          New Delhi   \n",
       "8  Kolkata, Mumbai, Hyderabad/Secunderabad, Pune,...   \n",
       "9                                   Gurgaon/Gurugram   \n",
       "\n",
       "                                Company_name Experience_Required  \n",
       "0  Nokia Solutions and Networks India (P)Ltd             3-5 Yrs  \n",
       "1                Presto Infosolution (P) Ltd             0-4 Yrs  \n",
       "2                                     Anaqua             2-7 Yrs  \n",
       "3                                     Agenty             3-6 Yrs  \n",
       "4                              Tech Mahindra             2-7 Yrs  \n",
       "5             USHYAKU SOFTWARE SOLUTIONS LLP             5-8 Yrs  \n",
       "6                Glan Management Consultancy             3-6 Yrs  \n",
       "7                                    Telstra             0-5 Yrs  \n",
       "8                    Evelyn Learning Systems             1-2 Yrs  \n",
       "9                                      TIBCO             0-2 Yrs  "
      ]
     },
     "execution_count": 52,
     "metadata": {},
     "output_type": "execute_result"
    }
   ],
   "source": [
    "Data_Specialist_Delhi"
   ]
  },
  {
   "cell_type": "markdown",
   "id": "cf9ad379",
   "metadata": {},
   "source": [
    "Q4: Scrape data of first 100 sunglasses listings on flipkart.com. You have to scrape four attributes:\n",
    "\n",
    "1.Brand\n",
    "2.Product Description\n",
    "3.Price\n",
    "4.Discount"
   ]
  },
  {
   "cell_type": "code",
   "execution_count": 53,
   "id": "477aaedc",
   "metadata": {},
   "outputs": [],
   "source": [
    "#chrome driver to initiate url and get web elements for the same using selenium\n",
    "driver = webdriver.Chrome(r\"C:\\Users\\admin1\\Downloads\\chromedriver.exe\")\n",
    "\n",
    "url = \"https://www.flipkart.com/\"\n",
    "\n",
    "driver.get(url)\n",
    "\n",
    "driver.maximize_window() # to maximise the chrome window\n",
    "\n",
    "#entering \"Sun Glasses\" in job search bar using selenium driver\n",
    "search_glass = driver.find_element_by_class_name('_3704LK')\n",
    "search_glass.send_keys(\"Sun Glasses\")\n",
    "\n",
    "#clicking submit button using selenium deriver\n",
    "button_1 = driver.find_element_by_xpath('/html/body/div[2]/div/div/button')\n",
    "button_1.click()\n",
    "driver.implicitly_wait(3)\n",
    "click_button = driver.find_element_by_class_name(\"L0Z3Pu\")\n",
    "click_button.click()"
   ]
  },
  {
   "cell_type": "code",
   "execution_count": 54,
   "id": "1504ddc5",
   "metadata": {},
   "outputs": [],
   "source": [
    "brand_name = []\n",
    "prd_desc = []\n",
    "price = []\n",
    "discount = []"
   ]
  },
  {
   "cell_type": "code",
   "execution_count": 55,
   "id": "f5aa77a6",
   "metadata": {},
   "outputs": [],
   "source": [
    "for k in range(1,4):\n",
    "\n",
    "    \n",
    "    brand = driver.find_elements_by_class_name('_2WkVRV')\n",
    "    \n",
    "\n",
    "    for i in brand:\n",
    "        brand_name.append(i.text)\n",
    "\n",
    "    desc = driver.find_elements_by_class_name('IRpwTa')\n",
    "    \n",
    "\n",
    "    for i in desc:\n",
    "        prd_desc.append(i.text)\n",
    "\n",
    "    cost = driver.find_elements_by_class_name(\"_30jeq3\")\n",
    "    \n",
    "\n",
    "    for i in cost:\n",
    "        price.append(i.text)\n",
    "\n",
    "\n",
    "    dis = driver.find_elements_by_class_name(\"_3Ay6Sb\")\n",
    "    \n",
    "\n",
    "    for i in dis:\n",
    "        discount.append(i.text)\n",
    "    \n",
    "    \n",
    "        nxt_button=driver.find_elements_by_xpath(\"//a[@class='_1LKTO3']\")              #scraping the list of buttons from the page\n",
    "\n",
    "    try:\n",
    "         driver.get(nxt_button[1].get_attribute('href'))#getting the link from the list for next page\n",
    "        \n",
    "\n",
    "    except:\n",
    "\n",
    "        driver.get(nxt_button[0].get_attribute('href'))"
   ]
  },
  {
   "cell_type": "code",
   "execution_count": 56,
   "id": "df5b5342",
   "metadata": {},
   "outputs": [],
   "source": [
    "brand_name = brand_name[0:100]\n",
    "prd_desc = prd_desc[0:100]\n",
    "price = price[0:100]\n",
    "discount = discount[0:100]"
   ]
  },
  {
   "cell_type": "code",
   "execution_count": 57,
   "id": "4d9339c2",
   "metadata": {},
   "outputs": [],
   "source": [
    "# creating dataframe and assigning lists to columns\n",
    "Sun_Glasses = pd.DataFrame({})\n",
    "Sun_Glasses['Brand_Name'] = brand_name\n",
    "Sun_Glasses['Prd_Desc'] = prd_desc\n",
    "Sun_Glasses['[Price]'] = price\n",
    "Sun_Glasses['Discount'] = discount"
   ]
  },
  {
   "cell_type": "code",
   "execution_count": 58,
   "id": "ebcd7e85",
   "metadata": {},
   "outputs": [
    {
     "data": {
      "text/html": [
       "<div>\n",
       "<style scoped>\n",
       "    .dataframe tbody tr th:only-of-type {\n",
       "        vertical-align: middle;\n",
       "    }\n",
       "\n",
       "    .dataframe tbody tr th {\n",
       "        vertical-align: top;\n",
       "    }\n",
       "\n",
       "    .dataframe thead th {\n",
       "        text-align: right;\n",
       "    }\n",
       "</style>\n",
       "<table border=\"1\" class=\"dataframe\">\n",
       "  <thead>\n",
       "    <tr style=\"text-align: right;\">\n",
       "      <th></th>\n",
       "      <th>Brand_Name</th>\n",
       "      <th>Prd_Desc</th>\n",
       "      <th>[Price]</th>\n",
       "      <th>Discount</th>\n",
       "    </tr>\n",
       "  </thead>\n",
       "  <tbody>\n",
       "    <tr>\n",
       "      <th>0</th>\n",
       "      <td>VINCENT CHASE</td>\n",
       "      <td>UV Protection Rectangular Sunglasses (50)</td>\n",
       "      <td>₹649</td>\n",
       "      <td>67% off</td>\n",
       "    </tr>\n",
       "    <tr>\n",
       "      <th>1</th>\n",
       "      <td>ROZZETTA CRAFT</td>\n",
       "      <td>UV Protection Spectacle Sunglasses (Free Size)</td>\n",
       "      <td>₹399</td>\n",
       "      <td>80% off</td>\n",
       "    </tr>\n",
       "    <tr>\n",
       "      <th>2</th>\n",
       "      <td>Elligator</td>\n",
       "      <td>UV Protection Round Sunglasses (54)</td>\n",
       "      <td>₹295</td>\n",
       "      <td>88% off</td>\n",
       "    </tr>\n",
       "    <tr>\n",
       "      <th>3</th>\n",
       "      <td>PIRASO</td>\n",
       "      <td>UV Protection Aviator Sunglasses (54)</td>\n",
       "      <td>₹249</td>\n",
       "      <td>84% off</td>\n",
       "    </tr>\n",
       "    <tr>\n",
       "      <th>4</th>\n",
       "      <td>Fastrack</td>\n",
       "      <td>UV Protection Rectangular Sunglasses (Free Size)</td>\n",
       "      <td>₹639</td>\n",
       "      <td>20% off</td>\n",
       "    </tr>\n",
       "    <tr>\n",
       "      <th>...</th>\n",
       "      <td>...</td>\n",
       "      <td>...</td>\n",
       "      <td>...</td>\n",
       "      <td>...</td>\n",
       "    </tr>\n",
       "    <tr>\n",
       "      <th>95</th>\n",
       "      <td>ROZZETTA CRAFT</td>\n",
       "      <td>UV Protection Round Sunglasses (Free Size)</td>\n",
       "      <td>₹253</td>\n",
       "      <td>68% off</td>\n",
       "    </tr>\n",
       "    <tr>\n",
       "      <th>96</th>\n",
       "      <td>SRPM</td>\n",
       "      <td>UV Protection Wayfarer Sunglasses (54)</td>\n",
       "      <td>₹1,599</td>\n",
       "      <td>20% off</td>\n",
       "    </tr>\n",
       "    <tr>\n",
       "      <th>97</th>\n",
       "      <td>LIZA ANGEL</td>\n",
       "      <td>Riding Glasses, Night Vision Spectacle Sunglas...</td>\n",
       "      <td>₹649</td>\n",
       "      <td>67% off</td>\n",
       "    </tr>\n",
       "    <tr>\n",
       "      <th>98</th>\n",
       "      <td>Singco India</td>\n",
       "      <td>UV Protection, Riding Glasses, Others Aviator,...</td>\n",
       "      <td>₹314</td>\n",
       "      <td>82% off</td>\n",
       "    </tr>\n",
       "    <tr>\n",
       "      <th>99</th>\n",
       "      <td>ROZZETTA CRAFT</td>\n",
       "      <td>UV Protection, Gradient Rectangular Sunglasses...</td>\n",
       "      <td>₹236</td>\n",
       "      <td>87% off</td>\n",
       "    </tr>\n",
       "  </tbody>\n",
       "</table>\n",
       "<p>100 rows × 4 columns</p>\n",
       "</div>"
      ],
      "text/plain": [
       "        Brand_Name                                           Prd_Desc [Price]  \\\n",
       "0    VINCENT CHASE          UV Protection Rectangular Sunglasses (50)    ₹649   \n",
       "1   ROZZETTA CRAFT     UV Protection Spectacle Sunglasses (Free Size)    ₹399   \n",
       "2        Elligator                UV Protection Round Sunglasses (54)    ₹295   \n",
       "3           PIRASO              UV Protection Aviator Sunglasses (54)    ₹249   \n",
       "4         Fastrack   UV Protection Rectangular Sunglasses (Free Size)    ₹639   \n",
       "..             ...                                                ...     ...   \n",
       "95  ROZZETTA CRAFT         UV Protection Round Sunglasses (Free Size)    ₹253   \n",
       "96            SRPM             UV Protection Wayfarer Sunglasses (54)  ₹1,599   \n",
       "97      LIZA ANGEL  Riding Glasses, Night Vision Spectacle Sunglas...    ₹649   \n",
       "98    Singco India  UV Protection, Riding Glasses, Others Aviator,...    ₹314   \n",
       "99  ROZZETTA CRAFT  UV Protection, Gradient Rectangular Sunglasses...    ₹236   \n",
       "\n",
       "   Discount  \n",
       "0   67% off  \n",
       "1   80% off  \n",
       "2   88% off  \n",
       "3   84% off  \n",
       "4   20% off  \n",
       "..      ...  \n",
       "95  68% off  \n",
       "96  20% off  \n",
       "97  67% off  \n",
       "98  82% off  \n",
       "99  87% off  \n",
       "\n",
       "[100 rows x 4 columns]"
      ]
     },
     "execution_count": 58,
     "metadata": {},
     "output_type": "execute_result"
    }
   ],
   "source": [
    "Sun_Glasses"
   ]
  },
  {
   "cell_type": "markdown",
   "id": "5405e950",
   "metadata": {},
   "source": [
    "Q5: Scrape 100 reviews data from flipkart.com for iphone11 phone"
   ]
  },
  {
   "cell_type": "code",
   "execution_count": 59,
   "id": "853df0d9",
   "metadata": {},
   "outputs": [],
   "source": [
    "#chrome driver to initiate url and get web elements for the same using selenium\n",
    "driver = webdriver.Chrome(r\"C:\\Users\\admin1\\Downloads\\chromedriver.exe\")\n",
    "time.sleep(3)\n",
    "\n",
    "url = \"https://www.flipkart.com/apple-iphone-11-black-64-gb-includes-earpods-power-adapter/product-reviews/itm0f37c2240b217?pid=MOBFKCTSVZAXUHGR&lid=LSTMOBFKCTSVZAXUHGREPBFGI&marketplace=FLIPKART&page=1\"\n",
    "driver.get(url)\n",
    "time.sleep(3)\n",
    "\n",
    "driver.maximize_window() # to maximise the chrome window"
   ]
  },
  {
   "cell_type": "code",
   "execution_count": 60,
   "id": "8a942724",
   "metadata": {},
   "outputs": [],
   "source": [
    "# Creating empty list\n",
    "urls=[]\n",
    "short_review=[]\n",
    "Rating1 = []\n",
    "full_review = []"
   ]
  },
  {
   "cell_type": "code",
   "execution_count": 61,
   "id": "987ed3f8",
   "metadata": {},
   "outputs": [],
   "source": [
    "time.sleep(2)\n",
    "#Taking 10 pages into consideration using for loop\n",
    "for i in range(10):\n",
    "    url=driver.find_element_by_xpath(\"//a[@class='ge-49M']\").get_attribute('href')\n",
    "    driver.get(url)\n",
    "    #for scrapping the short review\n",
    "    for k in driver.find_elements_by_xpath(\"//p[@class='_2-N8zT']\"):\n",
    "        short_review.append(k.text)\n",
    "    for j in driver.find_elements_by_xpath(\"//div[@class='_3LWZlK _1BLPMq']\"):\n",
    "        Rating1.append(j.text)\n",
    "    for m in driver.find_elements_by_xpath (\"//div[@class='']\"):\n",
    "        full_review.append(m.text)"
   ]
  },
  {
   "cell_type": "code",
   "execution_count": 62,
   "id": "7cb8f091",
   "metadata": {},
   "outputs": [],
   "source": [
    "# creating dataframe and assigning lists to columns\n",
    "Iphone_Ratings = pd.DataFrame({})\n",
    "Iphone_Ratings ['Review_Summary'] = short_review\n",
    "Iphone_Ratings ['Full_Review'] = full_review\n",
    "Iphone_Ratings ['Ratings'] = Rating1"
   ]
  },
  {
   "cell_type": "code",
   "execution_count": 63,
   "id": "e7d20da4",
   "metadata": {},
   "outputs": [
    {
     "data": {
      "text/html": [
       "<div>\n",
       "<style scoped>\n",
       "    .dataframe tbody tr th:only-of-type {\n",
       "        vertical-align: middle;\n",
       "    }\n",
       "\n",
       "    .dataframe tbody tr th {\n",
       "        vertical-align: top;\n",
       "    }\n",
       "\n",
       "    .dataframe thead th {\n",
       "        text-align: right;\n",
       "    }\n",
       "</style>\n",
       "<table border=\"1\" class=\"dataframe\">\n",
       "  <thead>\n",
       "    <tr style=\"text-align: right;\">\n",
       "      <th></th>\n",
       "      <th>Review_Summary</th>\n",
       "      <th>Full_Review</th>\n",
       "      <th>Ratings</th>\n",
       "    </tr>\n",
       "  </thead>\n",
       "  <tbody>\n",
       "    <tr>\n",
       "      <th>0</th>\n",
       "      <td>Highly recommended</td>\n",
       "      <td>iphone 11 is a very good phone to buy only if ...</td>\n",
       "      <td>5</td>\n",
       "    </tr>\n",
       "    <tr>\n",
       "      <th>1</th>\n",
       "      <td>Perfect product!</td>\n",
       "      <td>It’s a must buy who is looking for an upgrade ...</td>\n",
       "      <td>5</td>\n",
       "    </tr>\n",
       "    <tr>\n",
       "      <th>2</th>\n",
       "      <td>Perfect product!</td>\n",
       "      <td>Value for money❤️❤️\\nIts awesome mobile phone ...</td>\n",
       "      <td>5</td>\n",
       "    </tr>\n",
       "    <tr>\n",
       "      <th>3</th>\n",
       "      <td>Worth every penny</td>\n",
       "      <td>Smooth like butter, camera like fantabulous, s...</td>\n",
       "      <td>5</td>\n",
       "    </tr>\n",
       "    <tr>\n",
       "      <th>4</th>\n",
       "      <td>Highly recommended</td>\n",
       "      <td>It's my first time to use iOS phone and I am l...</td>\n",
       "      <td>5</td>\n",
       "    </tr>\n",
       "    <tr>\n",
       "      <th>...</th>\n",
       "      <td>...</td>\n",
       "      <td>...</td>\n",
       "      <td>...</td>\n",
       "    </tr>\n",
       "    <tr>\n",
       "      <th>95</th>\n",
       "      <td>Worth every penny</td>\n",
       "      <td>Previously I was using one plus 3t it was a gr...</td>\n",
       "      <td>5</td>\n",
       "    </tr>\n",
       "    <tr>\n",
       "      <th>96</th>\n",
       "      <td>Great product</td>\n",
       "      <td>Amazing Powerful and Durable Gadget.\\n\\nI’m am...</td>\n",
       "      <td>5</td>\n",
       "    </tr>\n",
       "    <tr>\n",
       "      <th>97</th>\n",
       "      <td>Good choice</td>\n",
       "      <td>So far it’s been an AMAZING experience coming ...</td>\n",
       "      <td>4</td>\n",
       "    </tr>\n",
       "    <tr>\n",
       "      <th>98</th>\n",
       "      <td>Highly recommended</td>\n",
       "      <td>What a camera .....just awesome ..you can feel...</td>\n",
       "      <td>5</td>\n",
       "    </tr>\n",
       "    <tr>\n",
       "      <th>99</th>\n",
       "      <td>Worth every penny</td>\n",
       "      <td>i11 is worthy to buy, too much happy with the ...</td>\n",
       "      <td>5</td>\n",
       "    </tr>\n",
       "  </tbody>\n",
       "</table>\n",
       "<p>100 rows × 3 columns</p>\n",
       "</div>"
      ],
      "text/plain": [
       "        Review_Summary                                        Full_Review  \\\n",
       "0   Highly recommended  iphone 11 is a very good phone to buy only if ...   \n",
       "1     Perfect product!  It’s a must buy who is looking for an upgrade ...   \n",
       "2     Perfect product!  Value for money❤️❤️\\nIts awesome mobile phone ...   \n",
       "3    Worth every penny  Smooth like butter, camera like fantabulous, s...   \n",
       "4   Highly recommended  It's my first time to use iOS phone and I am l...   \n",
       "..                 ...                                                ...   \n",
       "95   Worth every penny  Previously I was using one plus 3t it was a gr...   \n",
       "96       Great product  Amazing Powerful and Durable Gadget.\\n\\nI’m am...   \n",
       "97         Good choice  So far it’s been an AMAZING experience coming ...   \n",
       "98  Highly recommended  What a camera .....just awesome ..you can feel...   \n",
       "99   Worth every penny  i11 is worthy to buy, too much happy with the ...   \n",
       "\n",
       "   Ratings  \n",
       "0        5  \n",
       "1        5  \n",
       "2        5  \n",
       "3        5  \n",
       "4        5  \n",
       "..     ...  \n",
       "95       5  \n",
       "96       5  \n",
       "97       4  \n",
       "98       5  \n",
       "99       5  \n",
       "\n",
       "[100 rows x 3 columns]"
      ]
     },
     "execution_count": 63,
     "metadata": {},
     "output_type": "execute_result"
    }
   ],
   "source": [
    "Iphone_Ratings "
   ]
  },
  {
   "cell_type": "markdown",
   "id": "8c392607",
   "metadata": {},
   "source": [
    "Q6: Scrape data for first 100 sneakers you find when you visit flipkart.com andsearch for “sneakers” in the search field"
   ]
  },
  {
   "cell_type": "code",
   "execution_count": 64,
   "id": "04b4a7c5",
   "metadata": {},
   "outputs": [],
   "source": [
    "#chrome driver to initiate url and get web elements for the same using selenium\n",
    "driver = webdriver.Chrome(r\"C:\\Users\\admin1\\Downloads\\chromedriver.exe\")\n",
    "\n",
    "url = \"https://www.flipkart.com/\"\n",
    "driver.get(url)\n",
    "\n",
    "driver.maximize_window() # to maximise the chrome window"
   ]
  },
  {
   "cell_type": "code",
   "execution_count": 65,
   "id": "ecaedd74",
   "metadata": {},
   "outputs": [],
   "source": [
    "#entering \"Sneakers\" in job search bar using selenium driver\n",
    "search_glass = driver.find_element_by_class_name('_3704LK')\n",
    "search_glass.send_keys(\"Sneakers\")\n",
    "\n",
    "#clicking submit button using selenium deriver\n",
    "button_1 = driver.find_element_by_xpath('/html/body/div[2]/div/div/button')\n",
    "button_1.click()\n",
    "\n",
    "driver.implicitly_wait(3)\n",
    "click_button = driver.find_element_by_class_name(\"L0Z3Pu\")\n",
    "click_button.click()"
   ]
  },
  {
   "cell_type": "code",
   "execution_count": 66,
   "id": "be179c06",
   "metadata": {},
   "outputs": [],
   "source": [
    "brand_name1 = []\n",
    "prd_desc1 = []\n",
    "price1 = []\n",
    "discount1 = []"
   ]
  },
  {
   "cell_type": "code",
   "execution_count": 67,
   "id": "83697e80",
   "metadata": {},
   "outputs": [],
   "source": [
    "for k in range(1,4):\n",
    "\n",
    "    \n",
    "    brand = driver.find_elements_by_class_name('_2WkVRV')\n",
    "    \n",
    "\n",
    "    for i in brand:\n",
    "        brand_name1.append(i.text)\n",
    "\n",
    "    desc = driver.find_elements_by_class_name('IRpwTa')\n",
    "    \n",
    "\n",
    "    for i in desc:\n",
    "        prd_desc1.append(i.text)\n",
    "\n",
    "    cost = driver.find_elements_by_class_name(\"_30jeq3\")\n",
    "    \n",
    "\n",
    "    for i in cost:\n",
    "        price1.append(i.text)\n",
    "\n",
    "\n",
    "    dis = driver.find_elements_by_class_name(\"_3Ay6Sb\")\n",
    "    \n",
    "\n",
    "    for i in dis:\n",
    "        discount1.append(i.text)\n",
    "    \n",
    "    \n",
    "        nxt_button=driver.find_elements_by_xpath(\"//a[@class='_1LKTO3']\")              #scraping the list of buttons from the page\n",
    "\n",
    "    try:\n",
    "\n",
    "        driver.get(nxt_button[1].get_attribute('href'))#getting the link from the list for next page\n",
    "        \n",
    "\n",
    "    except:\n",
    "         driver.get(nxt_button[0].get_attribute('href'))"
   ]
  },
  {
   "cell_type": "code",
   "execution_count": 68,
   "id": "58aaa830",
   "metadata": {},
   "outputs": [],
   "source": [
    "brand_name1 = brand_name1[0:100]\n",
    "prd_desc1 = prd_desc1[0:100]\n",
    "price1 = price1[0:100]\n",
    "discount1 = discount1[0:100]"
   ]
  },
  {
   "cell_type": "code",
   "execution_count": 69,
   "id": "fde4f2cb",
   "metadata": {},
   "outputs": [],
   "source": [
    "# creating dataframe and assigning lists to columns\n",
    "Sneakers = pd.DataFrame({})\n",
    "Sneakers['Brand_Name'] = brand_name1\n",
    "Sneakers['Prd_Desc'] = prd_desc1\n",
    "Sneakers['[Price]'] = price1\n",
    "Sneakers['Discount'] = discount1"
   ]
  },
  {
   "cell_type": "code",
   "execution_count": 70,
   "id": "b4e9b60f",
   "metadata": {},
   "outputs": [
    {
     "data": {
      "text/html": [
       "<div>\n",
       "<style scoped>\n",
       "    .dataframe tbody tr th:only-of-type {\n",
       "        vertical-align: middle;\n",
       "    }\n",
       "\n",
       "    .dataframe tbody tr th {\n",
       "        vertical-align: top;\n",
       "    }\n",
       "\n",
       "    .dataframe thead th {\n",
       "        text-align: right;\n",
       "    }\n",
       "</style>\n",
       "<table border=\"1\" class=\"dataframe\">\n",
       "  <thead>\n",
       "    <tr style=\"text-align: right;\">\n",
       "      <th></th>\n",
       "      <th>Brand_Name</th>\n",
       "      <th>Prd_Desc</th>\n",
       "      <th>[Price]</th>\n",
       "      <th>Discount</th>\n",
       "    </tr>\n",
       "  </thead>\n",
       "  <tbody>\n",
       "    <tr>\n",
       "      <th>0</th>\n",
       "      <td>Navtrend</td>\n",
       "      <td>Sneakers For Men</td>\n",
       "      <td>₹599</td>\n",
       "      <td>80% off</td>\n",
       "    </tr>\n",
       "    <tr>\n",
       "      <th>1</th>\n",
       "      <td>HIGHLANDER</td>\n",
       "      <td>Sneakers For Men</td>\n",
       "      <td>₹945</td>\n",
       "      <td>52% off</td>\n",
       "    </tr>\n",
       "    <tr>\n",
       "      <th>2</th>\n",
       "      <td>URBANBOX</td>\n",
       "      <td>Sneakers Sneakers For Men</td>\n",
       "      <td>₹158</td>\n",
       "      <td>84% off</td>\n",
       "    </tr>\n",
       "    <tr>\n",
       "      <th>3</th>\n",
       "      <td>aadi</td>\n",
       "      <td>Sneakers For Men</td>\n",
       "      <td>₹269</td>\n",
       "      <td>73% off</td>\n",
       "    </tr>\n",
       "    <tr>\n",
       "      <th>4</th>\n",
       "      <td>corsac</td>\n",
       "      <td>STYLISH MENS BLACK SNEAKER Sneakers For Men</td>\n",
       "      <td>₹449</td>\n",
       "      <td>70% off</td>\n",
       "    </tr>\n",
       "    <tr>\n",
       "      <th>...</th>\n",
       "      <td>...</td>\n",
       "      <td>...</td>\n",
       "      <td>...</td>\n",
       "      <td>...</td>\n",
       "    </tr>\n",
       "    <tr>\n",
       "      <th>95</th>\n",
       "      <td>HIGHLANDER</td>\n",
       "      <td>Sneakers For Men</td>\n",
       "      <td>₹489</td>\n",
       "      <td>67% off</td>\n",
       "    </tr>\n",
       "    <tr>\n",
       "      <th>96</th>\n",
       "      <td>Zixer</td>\n",
       "      <td>Men's Streetwear Pro Style High Top Platform F...</td>\n",
       "      <td>₹308</td>\n",
       "      <td>69% off</td>\n",
       "    </tr>\n",
       "    <tr>\n",
       "      <th>97</th>\n",
       "      <td>Kzaara</td>\n",
       "      <td>Kzaara Sneakers Casual Canvas shoes | Branded ...</td>\n",
       "      <td>₹500</td>\n",
       "      <td>74% off</td>\n",
       "    </tr>\n",
       "    <tr>\n",
       "      <th>98</th>\n",
       "      <td>MAFLO</td>\n",
       "      <td>Sneakers For Men</td>\n",
       "      <td>₹449</td>\n",
       "      <td>70% off</td>\n",
       "    </tr>\n",
       "    <tr>\n",
       "      <th>99</th>\n",
       "      <td>HIGHLANDER</td>\n",
       "      <td>Sneakers For Men</td>\n",
       "      <td>₹494</td>\n",
       "      <td>38% off</td>\n",
       "    </tr>\n",
       "  </tbody>\n",
       "</table>\n",
       "<p>100 rows × 4 columns</p>\n",
       "</div>"
      ],
      "text/plain": [
       "    Brand_Name                                           Prd_Desc [Price]  \\\n",
       "0     Navtrend                                   Sneakers For Men    ₹599   \n",
       "1   HIGHLANDER                                   Sneakers For Men    ₹945   \n",
       "2     URBANBOX                          Sneakers Sneakers For Men    ₹158   \n",
       "3         aadi                                   Sneakers For Men    ₹269   \n",
       "4       corsac        STYLISH MENS BLACK SNEAKER Sneakers For Men    ₹449   \n",
       "..         ...                                                ...     ...   \n",
       "95  HIGHLANDER                                   Sneakers For Men    ₹489   \n",
       "96       Zixer  Men's Streetwear Pro Style High Top Platform F...    ₹308   \n",
       "97      Kzaara  Kzaara Sneakers Casual Canvas shoes | Branded ...    ₹500   \n",
       "98       MAFLO                                   Sneakers For Men    ₹449   \n",
       "99  HIGHLANDER                                   Sneakers For Men    ₹494   \n",
       "\n",
       "   Discount  \n",
       "0   80% off  \n",
       "1   52% off  \n",
       "2   84% off  \n",
       "3   73% off  \n",
       "4   70% off  \n",
       "..      ...  \n",
       "95  67% off  \n",
       "96  69% off  \n",
       "97  74% off  \n",
       "98  70% off  \n",
       "99  38% off  \n",
       "\n",
       "[100 rows x 4 columns]"
      ]
     },
     "execution_count": 70,
     "metadata": {},
     "output_type": "execute_result"
    }
   ],
   "source": [
    "Sneakers"
   ]
  },
  {
   "cell_type": "code",
   "execution_count": 71,
   "id": "e00932fa",
   "metadata": {},
   "outputs": [],
   "source": [
    "#chrome driver to initiate url and get web elements for the same using selenium\n",
    "driver = webdriver.Chrome(r\"C:\\Users\\admin1\\Downloads\\chromedriver.exe\")\n",
    "\n",
    "url = \"https://www.myntra.com/shoes\"\n",
    "driver.get(url)\n",
    "\n",
    "driver.maximize_window() # to maximise the chrome window"
   ]
  },
  {
   "cell_type": "code",
   "execution_count": 72,
   "id": "3ec8f796",
   "metadata": {},
   "outputs": [],
   "source": [
    "driver.find_element_by_xpath(\"//*[@id='mountRoot']/div/div[1]/main/div[3]/div[1]/section/div/div[6]/ul/li[1]/label/div\").click()"
   ]
  },
  {
   "cell_type": "code",
   "execution_count": 73,
   "id": "4e8f5b3f",
   "metadata": {},
   "outputs": [],
   "source": [
    "driver.find_element_by_xpath(\"//*[@id='mountRoot']/div/div[1]/main/div[3]/div[1]/section/div/div[5]/ul/li[2]/label/div\").click()"
   ]
  },
  {
   "cell_type": "code",
   "execution_count": 74,
   "id": "edd3c454",
   "metadata": {},
   "outputs": [],
   "source": [
    "brand_name2 = []\n",
    "prd_desc2 = []\n",
    "price2 = []"
   ]
  },
  {
   "cell_type": "code",
   "execution_count": 75,
   "id": "f6af30f5",
   "metadata": {},
   "outputs": [],
   "source": [
    "brand = driver.find_elements_by_class_name('product-brand')\n",
    "for i in brand:\n",
    "    brand_name2.append(i.text)\n",
    "\n",
    "desc = driver.find_elements_by_class_name('product-product')\n",
    "for i in desc:\n",
    "    prd_desc2.append(i.text)\n",
    "\n",
    "cost = driver.find_elements_by_class_name(\"product-price\")\n",
    "for i in cost:\n",
    "    price2.append(i.text)"
   ]
  },
  {
   "cell_type": "code",
   "execution_count": 76,
   "id": "eebf5ee2",
   "metadata": {},
   "outputs": [
    {
     "data": {
      "text/plain": [
       "(50, 50, 50)"
      ]
     },
     "execution_count": 76,
     "metadata": {},
     "output_type": "execute_result"
    }
   ],
   "source": [
    "len(brand_name2),len(prd_desc2),len(price2)"
   ]
  },
  {
   "cell_type": "code",
   "execution_count": 77,
   "id": "c651508a",
   "metadata": {},
   "outputs": [],
   "source": [
    "driver = webdriver.Chrome(r\"C:\\Users\\admin1\\Downloads\\chromedriver.exe\")\n",
    "\n",
    "url = \"https://www.myntra.com/shoes?f=Color%3ABlack_36454f&p=2&plaEnabled=false&rf=Price%3A6657.0_13105.0_6657.0%20TO%2013105.0\"\n",
    "\n",
    "driver.get(url)\n",
    "\n",
    "driver.maximize_window() # to maximise the chrome window"
   ]
  },
  {
   "cell_type": "code",
   "execution_count": 78,
   "id": "4ffcdb3b",
   "metadata": {},
   "outputs": [],
   "source": [
    "brand_name3 = []\n",
    "prd_desc3 = []\n",
    "price3 = []\n",
    "\n",
    "brand = driver.find_elements_by_class_name('product-brand')\n",
    "for i in brand:\n",
    "    brand_name3.append(i.text)\n",
    "\n",
    "desc = driver.find_elements_by_class_name('product-product')\n",
    "for i in desc:\n",
    "    prd_desc3.append(i.text)\n",
    "\n",
    "cost = driver.find_elements_by_class_name(\"product-price\")\n",
    "for i in cost:\n",
    "    price3.append(i.text)"
   ]
  },
  {
   "cell_type": "code",
   "execution_count": 79,
   "id": "8a6a8ac0",
   "metadata": {},
   "outputs": [
    {
     "data": {
      "text/plain": [
       "(50, 50, 50)"
      ]
     },
     "execution_count": 79,
     "metadata": {},
     "output_type": "execute_result"
    }
   ],
   "source": [
    "len(brand_name3),len(prd_desc3),len(price3)"
   ]
  },
  {
   "cell_type": "code",
   "execution_count": 80,
   "id": "31ae75e1",
   "metadata": {},
   "outputs": [],
   "source": [
    "# creating dataframe and assigning lists to columns\n",
    "Myntra_Shoes = pd.DataFrame({})\n",
    "Myntra_Shoes['Brand_Name'] = brand_name2+brand_name3\n",
    "Myntra_Shoes['Prd_Desc'] = prd_desc2+prd_desc3\n",
    "Myntra_Shoes['[Price]'] = price2+prd_desc3"
   ]
  },
  {
   "cell_type": "code",
   "execution_count": 81,
   "id": "37a7db59",
   "metadata": {},
   "outputs": [
    {
     "data": {
      "text/html": [
       "<div>\n",
       "<style scoped>\n",
       "    .dataframe tbody tr th:only-of-type {\n",
       "        vertical-align: middle;\n",
       "    }\n",
       "\n",
       "    .dataframe tbody tr th {\n",
       "        vertical-align: top;\n",
       "    }\n",
       "\n",
       "    .dataframe thead th {\n",
       "        text-align: right;\n",
       "    }\n",
       "</style>\n",
       "<table border=\"1\" class=\"dataframe\">\n",
       "  <thead>\n",
       "    <tr style=\"text-align: right;\">\n",
       "      <th></th>\n",
       "      <th>Brand_Name</th>\n",
       "      <th>Prd_Desc</th>\n",
       "      <th>[Price]</th>\n",
       "    </tr>\n",
       "  </thead>\n",
       "  <tbody>\n",
       "    <tr>\n",
       "      <th>0</th>\n",
       "      <td>ALDO</td>\n",
       "      <td>Men Leather Driving Shoes</td>\n",
       "      <td>Rs. 12999</td>\n",
       "    </tr>\n",
       "    <tr>\n",
       "      <th>1</th>\n",
       "      <td>Nike</td>\n",
       "      <td>Men KF 5 EP Basketball Shoes</td>\n",
       "      <td>Rs. 8195</td>\n",
       "    </tr>\n",
       "    <tr>\n",
       "      <th>2</th>\n",
       "      <td>one8 x PUMA</td>\n",
       "      <td>Men Fuse One8 Training Shoes</td>\n",
       "      <td>Rs. 7999</td>\n",
       "    </tr>\n",
       "    <tr>\n",
       "      <th>3</th>\n",
       "      <td>ADIDAS</td>\n",
       "      <td>Men Dropset Training Shoes</td>\n",
       "      <td>Rs. 12999</td>\n",
       "    </tr>\n",
       "    <tr>\n",
       "      <th>4</th>\n",
       "      <td>Skechers</td>\n",
       "      <td>Men Max Cushioning Running</td>\n",
       "      <td>Rs. 7649Rs. 8999(15% OFF)</td>\n",
       "    </tr>\n",
       "    <tr>\n",
       "      <th>...</th>\n",
       "      <td>...</td>\n",
       "      <td>...</td>\n",
       "      <td>...</td>\n",
       "    </tr>\n",
       "    <tr>\n",
       "      <th>95</th>\n",
       "      <td>ECCO</td>\n",
       "      <td>Leather Block Pumps</td>\n",
       "      <td>Leather Block Pumps</td>\n",
       "    </tr>\n",
       "    <tr>\n",
       "      <th>96</th>\n",
       "      <td>ALDO</td>\n",
       "      <td>Leather Slim Heels</td>\n",
       "      <td>Leather Slim Heels</td>\n",
       "    </tr>\n",
       "    <tr>\n",
       "      <th>97</th>\n",
       "      <td>Bugatti</td>\n",
       "      <td>Women Leather Heeled Boots</td>\n",
       "      <td>Women Leather Heeled Boots</td>\n",
       "    </tr>\n",
       "    <tr>\n",
       "      <th>98</th>\n",
       "      <td>Bugatti</td>\n",
       "      <td>Printed Leather Sandals with Buckles</td>\n",
       "      <td>Printed Leather Sandals with Buckles</td>\n",
       "    </tr>\n",
       "    <tr>\n",
       "      <th>99</th>\n",
       "      <td>Geox</td>\n",
       "      <td>Leather Block Sandals</td>\n",
       "      <td>Leather Block Sandals</td>\n",
       "    </tr>\n",
       "  </tbody>\n",
       "</table>\n",
       "<p>100 rows × 3 columns</p>\n",
       "</div>"
      ],
      "text/plain": [
       "     Brand_Name                              Prd_Desc  \\\n",
       "0          ALDO             Men Leather Driving Shoes   \n",
       "1          Nike          Men KF 5 EP Basketball Shoes   \n",
       "2   one8 x PUMA          Men Fuse One8 Training Shoes   \n",
       "3        ADIDAS            Men Dropset Training Shoes   \n",
       "4      Skechers            Men Max Cushioning Running   \n",
       "..          ...                                   ...   \n",
       "95         ECCO                   Leather Block Pumps   \n",
       "96         ALDO                    Leather Slim Heels   \n",
       "97      Bugatti            Women Leather Heeled Boots   \n",
       "98      Bugatti  Printed Leather Sandals with Buckles   \n",
       "99         Geox                 Leather Block Sandals   \n",
       "\n",
       "                                 [Price]  \n",
       "0                              Rs. 12999  \n",
       "1                               Rs. 8195  \n",
       "2                               Rs. 7999  \n",
       "3                              Rs. 12999  \n",
       "4              Rs. 7649Rs. 8999(15% OFF)  \n",
       "..                                   ...  \n",
       "95                   Leather Block Pumps  \n",
       "96                    Leather Slim Heels  \n",
       "97            Women Leather Heeled Boots  \n",
       "98  Printed Leather Sandals with Buckles  \n",
       "99                 Leather Block Sandals  \n",
       "\n",
       "[100 rows x 3 columns]"
      ]
     },
     "execution_count": 81,
     "metadata": {},
     "output_type": "execute_result"
    }
   ],
   "source": [
    "Myntra_Shoes"
   ]
  },
  {
   "cell_type": "markdown",
   "id": "5a13af75",
   "metadata": {},
   "source": [
    "Q8: Go to webpage https://www.amazon.in/ Enter “Laptop” in the search field and then click the search icon. Then set CPU Type filter to “Intel Core i7” and “Intel Core i9” as shown in the below image"
   ]
  },
  {
   "cell_type": "code",
   "execution_count": 88,
   "id": "74ca924a",
   "metadata": {},
   "outputs": [],
   "source": [
    "#chrome driver to initiate url and get web elements for the same using selenium\n",
    "driver = webdriver.Chrome(r\"C:\\Users\\admin1\\Downloads\\chromedriver.exe\")\n",
    "\n",
    "url = \"https://www.amazon.in/\"\n",
    "driver.get(url)\n",
    "\n",
    "driver.maximize_window() # to maximise the chrome window"
   ]
  },
  {
   "cell_type": "code",
   "execution_count": 89,
   "id": "6923f5ad",
   "metadata": {},
   "outputs": [],
   "source": [
    "#Entering Laptop in search field using selenium driver\n",
    "search_laptop=driver.find_element_by_id('twotabsearchtextbox')\n",
    "search_laptop.send_keys('Laptop')\n",
    "\n",
    "#click search button using selenium driver\n",
    "click_search=driver.find_element_by_xpath('/html/body/div[1]/header/div/div[1]/div[2]/div/form/div[3]/div/span/input')\n",
    "click_search.click()"
   ]
  },
  {
   "cell_type": "code",
   "execution_count": 90,
   "id": "3ee13494",
   "metadata": {},
   "outputs": [],
   "source": [
    "#Filtering laptop by i7 using selenium driver\n",
    "select_i7=driver.find_element_by_xpath('/html/body/div[1]/div[2]/div[1]/div[2]/div/div[3]/span/div[1]/div/div/div[5]/ul[4]/li[12]/span/a/span')\n",
    "select_i7.click()"
   ]
  },
  {
   "cell_type": "code",
   "execution_count": 91,
   "id": "258733dd",
   "metadata": {},
   "outputs": [
    {
     "data": {
      "text/plain": [
       "[<selenium.webdriver.remote.webelement.WebElement (session=\"3b2020b383ed97f7b868fbb25d5582cc\", element=\"1137b266-1537-4b3b-8516-6156a8b01f62\")>,\n",
       " <selenium.webdriver.remote.webelement.WebElement (session=\"3b2020b383ed97f7b868fbb25d5582cc\", element=\"28b7f6a3-53fe-483c-8c13-bcf7c4857362\")>,\n",
       " <selenium.webdriver.remote.webelement.WebElement (session=\"3b2020b383ed97f7b868fbb25d5582cc\", element=\"ab7b1015-94a9-4f5f-9cdd-c639f8c4f6f5\")>,\n",
       " <selenium.webdriver.remote.webelement.WebElement (session=\"3b2020b383ed97f7b868fbb25d5582cc\", element=\"5d2920c2-2e8c-4e8e-afed-a1f888579896\")>,\n",
       " <selenium.webdriver.remote.webelement.WebElement (session=\"3b2020b383ed97f7b868fbb25d5582cc\", element=\"8ef03780-7e45-42d9-b5fd-66639e9b5cf0\")>,\n",
       " <selenium.webdriver.remote.webelement.WebElement (session=\"3b2020b383ed97f7b868fbb25d5582cc\", element=\"97aa2347-5e96-4637-b037-c7baa463991a\")>,\n",
       " <selenium.webdriver.remote.webelement.WebElement (session=\"3b2020b383ed97f7b868fbb25d5582cc\", element=\"9536cf58-17a7-45bd-98cf-6284685bae0b\")>,\n",
       " <selenium.webdriver.remote.webelement.WebElement (session=\"3b2020b383ed97f7b868fbb25d5582cc\", element=\"9c05562b-a13e-4e87-a342-dcdfd58338bb\")>,\n",
       " <selenium.webdriver.remote.webelement.WebElement (session=\"3b2020b383ed97f7b868fbb25d5582cc\", element=\"9d083b9b-f621-4f90-8309-0af2b23b5aec\")>,\n",
       " <selenium.webdriver.remote.webelement.WebElement (session=\"3b2020b383ed97f7b868fbb25d5582cc\", element=\"cfd7ee70-da42-4d54-be8b-881756f28b84\")>,\n",
       " <selenium.webdriver.remote.webelement.WebElement (session=\"3b2020b383ed97f7b868fbb25d5582cc\", element=\"654d82a2-0bee-493c-acfb-9328e70113b5\")>,\n",
       " <selenium.webdriver.remote.webelement.WebElement (session=\"3b2020b383ed97f7b868fbb25d5582cc\", element=\"f30ed25b-b22c-42ff-b2c6-844da199a455\")>,\n",
       " <selenium.webdriver.remote.webelement.WebElement (session=\"3b2020b383ed97f7b868fbb25d5582cc\", element=\"757005bb-79a1-4b1c-8e58-1c6f4ed180eb\")>,\n",
       " <selenium.webdriver.remote.webelement.WebElement (session=\"3b2020b383ed97f7b868fbb25d5582cc\", element=\"95325a63-6889-4b0f-9e3b-ec5aa1222a43\")>,\n",
       " <selenium.webdriver.remote.webelement.WebElement (session=\"3b2020b383ed97f7b868fbb25d5582cc\", element=\"05980957-dd0f-4298-b5d6-40ee28575671\")>,\n",
       " <selenium.webdriver.remote.webelement.WebElement (session=\"3b2020b383ed97f7b868fbb25d5582cc\", element=\"d4fbe754-3e25-45bd-90f4-bbfd9076b748\")>,\n",
       " <selenium.webdriver.remote.webelement.WebElement (session=\"3b2020b383ed97f7b868fbb25d5582cc\", element=\"f34358d3-3810-4f9c-9649-d8fdb4c2cde1\")>,\n",
       " <selenium.webdriver.remote.webelement.WebElement (session=\"3b2020b383ed97f7b868fbb25d5582cc\", element=\"e08cf3b9-e8bb-417f-9d25-bc500991b897\")>,\n",
       " <selenium.webdriver.remote.webelement.WebElement (session=\"3b2020b383ed97f7b868fbb25d5582cc\", element=\"94648c33-3842-4adb-8603-67c5078e14bb\")>,\n",
       " <selenium.webdriver.remote.webelement.WebElement (session=\"3b2020b383ed97f7b868fbb25d5582cc\", element=\"9e74ddfe-8058-4243-b3dc-1485c79d752c\")>,\n",
       " <selenium.webdriver.remote.webelement.WebElement (session=\"3b2020b383ed97f7b868fbb25d5582cc\", element=\"71583942-8723-47a0-aaa1-8275245371cd\")>,\n",
       " <selenium.webdriver.remote.webelement.WebElement (session=\"3b2020b383ed97f7b868fbb25d5582cc\", element=\"ee0f92de-ca1d-425b-92c3-6ab4eedd90c1\")>,\n",
       " <selenium.webdriver.remote.webelement.WebElement (session=\"3b2020b383ed97f7b868fbb25d5582cc\", element=\"c1c02fcb-6910-40fa-90f3-e7e60829452b\")>,\n",
       " <selenium.webdriver.remote.webelement.WebElement (session=\"3b2020b383ed97f7b868fbb25d5582cc\", element=\"2807364e-8144-4c0f-ac67-148a3313cfd0\")>,\n",
       " <selenium.webdriver.remote.webelement.WebElement (session=\"3b2020b383ed97f7b868fbb25d5582cc\", element=\"c754f04a-b957-471f-865d-64c68d382615\")>,\n",
       " <selenium.webdriver.remote.webelement.WebElement (session=\"3b2020b383ed97f7b868fbb25d5582cc\", element=\"330c8f15-95e0-4d7f-8494-d9c1bc0a4fc9\")>,\n",
       " <selenium.webdriver.remote.webelement.WebElement (session=\"3b2020b383ed97f7b868fbb25d5582cc\", element=\"c8e9da08-30bf-4cc4-86b1-95b3be455bf4\")>,\n",
       " <selenium.webdriver.remote.webelement.WebElement (session=\"3b2020b383ed97f7b868fbb25d5582cc\", element=\"d889e08f-9183-48d5-b0c8-498653b0052c\")>,\n",
       " <selenium.webdriver.remote.webelement.WebElement (session=\"3b2020b383ed97f7b868fbb25d5582cc\", element=\"87175f80-9c55-4d5b-8920-6ea00400145e\")>,\n",
       " <selenium.webdriver.remote.webelement.WebElement (session=\"3b2020b383ed97f7b868fbb25d5582cc\", element=\"e36c5835-b6f3-407f-b9e6-b92e2f302590\")>]"
      ]
     },
     "execution_count": 91,
     "metadata": {},
     "output_type": "execute_result"
    }
   ],
   "source": [
    "#finding title element \n",
    "title_tag=driver.find_elements_by_xpath('//a[@class=\"a-link-normal s-underline-text s-underline-link-text s-link-style a-text-normal\"]')\n",
    "title_tag"
   ]
  },
  {
   "cell_type": "code",
   "execution_count": 92,
   "id": "f44a8958",
   "metadata": {},
   "outputs": [
    {
     "data": {
      "text/plain": [
       "['Samsung Galaxy Book2 Pro 360 Intel 12th Gen i7 EvoTM 15.6 inch Touchscreen 2-in-1 AMOLED Thin & Light Laptop (16 GB/512 GB SSD/Windows 11/MSO Home & Student 2021/Graphite/1.41Kg), NP950QED-KA1IN',\n",
       " 'Samsung Galaxy Book2 360 Intel 12th Gen i7 EvoTM  33.78cm (13.3\") AMOLED Thin & Light Laptop (16 GB/512 GB SSD/Windows 11/MS Office Home & Student 2021/Graphite/1.16Kg), NP730QED-KA1IN',\n",
       " 'ASUS VivoBook 14 (2021), 14-inch (35.56 cms) FHD, Intel Core i7-1065G7 10th Gen, Thin and Light Laptop (16GB/512GB SSD/Integrated Graphics/Office 2021/Windows 11/Silver/1.6 Kg), X415JA-EK701WS',\n",
       " 'Lenovo ThinkBook 15 Intel 11th Gen Core i7 15.6\"(39.62 cm)FHD Thin and Light Laptop (16GB/512GB SSD/Windows 11 Home/MS Office H&S 2021/Iris® Xe Graphics/Backlit/Mineral Grey/1.7 Kg) 20VE00W4IH',\n",
       " 'HP Pavilion 11th Gen Intel Core i7 Processor 15.6 inches FHD Gaming Laptop (16GB/512GB SSD/Windows 11/NVIDIA RTX 3050 Graphics/MS Office/ Shadow Black & Ultra Violet/2.23Kg), 15-dk2096TX',\n",
       " 'ASUS TUF Gaming F15 (2021), 15.6-inch (39.62 cms) FHD 144Hz, Intel Core i7-11800H 11th Gen, GeForce RTX 3050 4GB Graphics, Gaming Laptop (8GB/512GB SSD/Windows 10/Eclipse Gray/2.3 Kg), FX566HC-HN093T',\n",
       " 'HP Pavilion x360 11th Gen Intel Core i7 14 inch(35.6 cm) FHD Multitouch 2-in-1 Laptop(16GB RAM/512GB SSD/B&O/Win 11/FPR/Backlit KB/Intel Iris Xe Graphics/Pen/Alexa/MS Office/Silver/1.52Kg) 14-dy1047TU',\n",
       " 'LG Gram 14 Intel Evo 11th Gen Core i7 14 inches Ultralight Laptop (16 GB RAM, 512 GB SSD, Windows 10, Iris Xe Graphics Thunderbolt 4, USC -Cx2 (with Power), 0.999kg, 14Z90P, Black)',\n",
       " 'Lenovo ThinkBook Yoga 14s Intel Core i7 11th Gen 14\"(35.56cm) FHD IPS 300 nits 100% sRGB Dolby Vision 2-in-1 Touchscreen Laptop (16GB RAM/512GB SSD/Windows 10/MS Office/Active Pen/1.50 kg) 20WEA01EIH',\n",
       " 'HP Pavilion 14, 11th Gen Intel Core i7-16GB RAM/1TB SSD 14 inch(35.6 cm) Laptop/Intel Iris Xe Graphics/Backlit Keyboard/Alexa/B&O Audio/Fast Charge/FPR/Win 11/MS Office, 14-dv1029TU,Natural Silver']"
      ]
     },
     "execution_count": 92,
     "metadata": {},
     "output_type": "execute_result"
    }
   ],
   "source": [
    "title=[]\n",
    "for i in title_tag:\n",
    "    title.append(i.text)\n",
    "title=title[0:10]\n",
    "title"
   ]
  },
  {
   "cell_type": "code",
   "execution_count": 93,
   "id": "0b8c5bdf",
   "metadata": {},
   "outputs": [
    {
     "data": {
      "text/plain": [
       "[<selenium.webdriver.remote.webelement.WebElement (session=\"3b2020b383ed97f7b868fbb25d5582cc\", element=\"deeb0ea9-a937-4f6d-9e71-a71122d58526\")>,\n",
       " <selenium.webdriver.remote.webelement.WebElement (session=\"3b2020b383ed97f7b868fbb25d5582cc\", element=\"346e8552-e486-4967-a60d-eb947ba99c35\")>,\n",
       " <selenium.webdriver.remote.webelement.WebElement (session=\"3b2020b383ed97f7b868fbb25d5582cc\", element=\"f03c3866-5e4f-4f9a-a2c8-a253076f9da8\")>,\n",
       " <selenium.webdriver.remote.webelement.WebElement (session=\"3b2020b383ed97f7b868fbb25d5582cc\", element=\"12b6ce9a-2ac0-45c6-9cb6-61810ea3a244\")>,\n",
       " <selenium.webdriver.remote.webelement.WebElement (session=\"3b2020b383ed97f7b868fbb25d5582cc\", element=\"368e08fc-3a40-4ca3-a152-12e9f21926e1\")>,\n",
       " <selenium.webdriver.remote.webelement.WebElement (session=\"3b2020b383ed97f7b868fbb25d5582cc\", element=\"2a33c879-fb55-47b5-8614-00b656e2dd9e\")>,\n",
       " <selenium.webdriver.remote.webelement.WebElement (session=\"3b2020b383ed97f7b868fbb25d5582cc\", element=\"b96474b5-8eef-4453-b43d-d06a2b1b753e\")>,\n",
       " <selenium.webdriver.remote.webelement.WebElement (session=\"3b2020b383ed97f7b868fbb25d5582cc\", element=\"052d04b7-a03f-4292-810b-974f8a45b112\")>,\n",
       " <selenium.webdriver.remote.webelement.WebElement (session=\"3b2020b383ed97f7b868fbb25d5582cc\", element=\"2ab99d9f-9f30-4d9e-a6a4-57543a1cee9e\")>,\n",
       " <selenium.webdriver.remote.webelement.WebElement (session=\"3b2020b383ed97f7b868fbb25d5582cc\", element=\"cd5c2d55-a820-439e-a375-359df7f3938c\")>,\n",
       " <selenium.webdriver.remote.webelement.WebElement (session=\"3b2020b383ed97f7b868fbb25d5582cc\", element=\"22a3b7ca-4092-4b33-b6b2-d8d591b55ae0\")>,\n",
       " <selenium.webdriver.remote.webelement.WebElement (session=\"3b2020b383ed97f7b868fbb25d5582cc\", element=\"6ea73967-3f98-4fd3-ad21-c99b3ed50191\")>,\n",
       " <selenium.webdriver.remote.webelement.WebElement (session=\"3b2020b383ed97f7b868fbb25d5582cc\", element=\"0cb0056e-d751-4488-a135-5ab3f51e285c\")>,\n",
       " <selenium.webdriver.remote.webelement.WebElement (session=\"3b2020b383ed97f7b868fbb25d5582cc\", element=\"6e1e5272-a8c6-43a8-a4ac-5b08f089de08\")>,\n",
       " <selenium.webdriver.remote.webelement.WebElement (session=\"3b2020b383ed97f7b868fbb25d5582cc\", element=\"45fa9a38-0a33-442c-a446-754a182a0339\")>,\n",
       " <selenium.webdriver.remote.webelement.WebElement (session=\"3b2020b383ed97f7b868fbb25d5582cc\", element=\"fc247b44-7df0-4fdc-82e6-0d97ded57a54\")>,\n",
       " <selenium.webdriver.remote.webelement.WebElement (session=\"3b2020b383ed97f7b868fbb25d5582cc\", element=\"1c000666-3d17-4609-9c0f-549cf1798a9b\")>,\n",
       " <selenium.webdriver.remote.webelement.WebElement (session=\"3b2020b383ed97f7b868fbb25d5582cc\", element=\"fceb3479-8a3e-4bfc-9e3d-0a0b898147e4\")>,\n",
       " <selenium.webdriver.remote.webelement.WebElement (session=\"3b2020b383ed97f7b868fbb25d5582cc\", element=\"ad68ed38-de38-496d-bf89-182eac1169b2\")>,\n",
       " <selenium.webdriver.remote.webelement.WebElement (session=\"3b2020b383ed97f7b868fbb25d5582cc\", element=\"064e9648-0448-4b7f-80f2-2445dab2aa23\")>,\n",
       " <selenium.webdriver.remote.webelement.WebElement (session=\"3b2020b383ed97f7b868fbb25d5582cc\", element=\"b74d2bc7-28e0-422c-969c-0ca8db9a0af6\")>,\n",
       " <selenium.webdriver.remote.webelement.WebElement (session=\"3b2020b383ed97f7b868fbb25d5582cc\", element=\"60326d30-58ac-4a18-a34c-648134763a33\")>,\n",
       " <selenium.webdriver.remote.webelement.WebElement (session=\"3b2020b383ed97f7b868fbb25d5582cc\", element=\"7df18ef9-017b-4d7f-a589-8fb854a67cc5\")>,\n",
       " <selenium.webdriver.remote.webelement.WebElement (session=\"3b2020b383ed97f7b868fbb25d5582cc\", element=\"b720edf9-74f2-48a1-8e52-225863d130f7\")>,\n",
       " <selenium.webdriver.remote.webelement.WebElement (session=\"3b2020b383ed97f7b868fbb25d5582cc\", element=\"cdf926ab-d591-4008-8092-da5005a892b7\")>,\n",
       " <selenium.webdriver.remote.webelement.WebElement (session=\"3b2020b383ed97f7b868fbb25d5582cc\", element=\"a8c7af70-cc7e-47cd-8b12-fa98ce60ad66\")>,\n",
       " <selenium.webdriver.remote.webelement.WebElement (session=\"3b2020b383ed97f7b868fbb25d5582cc\", element=\"b142d41c-3f8f-471b-b899-963b8d67951a\")>,\n",
       " <selenium.webdriver.remote.webelement.WebElement (session=\"3b2020b383ed97f7b868fbb25d5582cc\", element=\"9df610b0-80de-45c4-9565-c060cd3ab726\")>,\n",
       " <selenium.webdriver.remote.webelement.WebElement (session=\"3b2020b383ed97f7b868fbb25d5582cc\", element=\"605b5fd6-cc17-4a1a-8a31-a6c0906cd7f4\")>,\n",
       " <selenium.webdriver.remote.webelement.WebElement (session=\"3b2020b383ed97f7b868fbb25d5582cc\", element=\"fc2317f6-bfcb-41e1-957b-3eb39385c465\")>]"
      ]
     },
     "execution_count": 93,
     "metadata": {},
     "output_type": "execute_result"
    }
   ],
   "source": [
    "#finnding price element using selenium driver\n",
    "price_tag=driver.find_elements_by_xpath('//span[@class=\"a-price-whole\"]')\n",
    "price_tag"
   ]
  },
  {
   "cell_type": "code",
   "execution_count": 94,
   "id": "a10f6a22",
   "metadata": {},
   "outputs": [
    {
     "data": {
      "text/plain": [
       "['1,29,990',\n",
       " '1,05,990',\n",
       " '57,310',\n",
       " '90,990',\n",
       " '89,990',\n",
       " '96,990',\n",
       " '86,990',\n",
       " '85,999',\n",
       " '89,990',\n",
       " '86,990']"
      ]
     },
     "execution_count": 94,
     "metadata": {},
     "output_type": "execute_result"
    }
   ],
   "source": [
    "price=[]\n",
    "for i in price_tag:\n",
    "    price.append(i.text)\n",
    "price=price[0:10]\n",
    "price"
   ]
  },
  {
   "cell_type": "code",
   "execution_count": 95,
   "id": "9d66a745",
   "metadata": {},
   "outputs": [],
   "source": [
    "Laptop_Data=pd.DataFrame({})\n",
    "Laptop_Data['Title']=title\n",
    "Laptop_Data['Price']=price"
   ]
  },
  {
   "cell_type": "code",
   "execution_count": 96,
   "id": "abd6ad6e",
   "metadata": {},
   "outputs": [
    {
     "data": {
      "text/html": [
       "<div>\n",
       "<style scoped>\n",
       "    .dataframe tbody tr th:only-of-type {\n",
       "        vertical-align: middle;\n",
       "    }\n",
       "\n",
       "    .dataframe tbody tr th {\n",
       "        vertical-align: top;\n",
       "    }\n",
       "\n",
       "    .dataframe thead th {\n",
       "        text-align: right;\n",
       "    }\n",
       "</style>\n",
       "<table border=\"1\" class=\"dataframe\">\n",
       "  <thead>\n",
       "    <tr style=\"text-align: right;\">\n",
       "      <th></th>\n",
       "      <th>Title</th>\n",
       "      <th>Price</th>\n",
       "    </tr>\n",
       "  </thead>\n",
       "  <tbody>\n",
       "    <tr>\n",
       "      <th>0</th>\n",
       "      <td>Samsung Galaxy Book2 Pro 360 Intel 12th Gen i7...</td>\n",
       "      <td>1,29,990</td>\n",
       "    </tr>\n",
       "    <tr>\n",
       "      <th>1</th>\n",
       "      <td>Samsung Galaxy Book2 360 Intel 12th Gen i7 Evo...</td>\n",
       "      <td>1,05,990</td>\n",
       "    </tr>\n",
       "    <tr>\n",
       "      <th>2</th>\n",
       "      <td>ASUS VivoBook 14 (2021), 14-inch (35.56 cms) F...</td>\n",
       "      <td>57,310</td>\n",
       "    </tr>\n",
       "    <tr>\n",
       "      <th>3</th>\n",
       "      <td>Lenovo ThinkBook 15 Intel 11th Gen Core i7 15....</td>\n",
       "      <td>90,990</td>\n",
       "    </tr>\n",
       "    <tr>\n",
       "      <th>4</th>\n",
       "      <td>HP Pavilion 11th Gen Intel Core i7 Processor 1...</td>\n",
       "      <td>89,990</td>\n",
       "    </tr>\n",
       "    <tr>\n",
       "      <th>5</th>\n",
       "      <td>ASUS TUF Gaming F15 (2021), 15.6-inch (39.62 c...</td>\n",
       "      <td>96,990</td>\n",
       "    </tr>\n",
       "    <tr>\n",
       "      <th>6</th>\n",
       "      <td>HP Pavilion x360 11th Gen Intel Core i7 14 inc...</td>\n",
       "      <td>86,990</td>\n",
       "    </tr>\n",
       "    <tr>\n",
       "      <th>7</th>\n",
       "      <td>LG Gram 14 Intel Evo 11th Gen Core i7 14 inche...</td>\n",
       "      <td>85,999</td>\n",
       "    </tr>\n",
       "    <tr>\n",
       "      <th>8</th>\n",
       "      <td>Lenovo ThinkBook Yoga 14s Intel Core i7 11th G...</td>\n",
       "      <td>89,990</td>\n",
       "    </tr>\n",
       "    <tr>\n",
       "      <th>9</th>\n",
       "      <td>HP Pavilion 14, 11th Gen Intel Core i7-16GB RA...</td>\n",
       "      <td>86,990</td>\n",
       "    </tr>\n",
       "  </tbody>\n",
       "</table>\n",
       "</div>"
      ],
      "text/plain": [
       "                                               Title     Price\n",
       "0  Samsung Galaxy Book2 Pro 360 Intel 12th Gen i7...  1,29,990\n",
       "1  Samsung Galaxy Book2 360 Intel 12th Gen i7 Evo...  1,05,990\n",
       "2  ASUS VivoBook 14 (2021), 14-inch (35.56 cms) F...    57,310\n",
       "3  Lenovo ThinkBook 15 Intel 11th Gen Core i7 15....    90,990\n",
       "4  HP Pavilion 11th Gen Intel Core i7 Processor 1...    89,990\n",
       "5  ASUS TUF Gaming F15 (2021), 15.6-inch (39.62 c...    96,990\n",
       "6  HP Pavilion x360 11th Gen Intel Core i7 14 inc...    86,990\n",
       "7  LG Gram 14 Intel Evo 11th Gen Core i7 14 inche...    85,999\n",
       "8  Lenovo ThinkBook Yoga 14s Intel Core i7 11th G...    89,990\n",
       "9  HP Pavilion 14, 11th Gen Intel Core i7-16GB RA...    86,990"
      ]
     },
     "execution_count": 96,
     "metadata": {},
     "output_type": "execute_result"
    }
   ],
   "source": [
    "Laptop_Data"
   ]
  },
  {
   "cell_type": "markdown",
   "id": "8d0a3f31",
   "metadata": {},
   "source": [
    "Q9: Write a python program to scrape data for first 10 job results for Data Scientist Designation in Noida location. You have to scrape company name, No. of days ago when job was posted, Rating of the company"
   ]
  },
  {
   "cell_type": "code",
   "execution_count": 97,
   "id": "47d738b3",
   "metadata": {},
   "outputs": [],
   "source": [
    "#chrome driver to initiate url and get web elements for the same using selenium\n",
    "driver = webdriver.Chrome(r\"C:\\Users\\admin1\\Downloads\\chromedriver.exe\")\n",
    "driver.get(' https://www.ambitionbox.com/')"
   ]
  },
  {
   "cell_type": "code",
   "execution_count": 98,
   "id": "7abf0ca2",
   "metadata": {},
   "outputs": [],
   "source": [
    "#entering job section using selenium driver\n",
    "enter_job_sec = driver.find_element_by_xpath('/html/body/div[1]/nav/nav/a[6]')\n",
    "enter_job_sec.click()"
   ]
  },
  {
   "cell_type": "code",
   "execution_count": 99,
   "id": "acff6da2",
   "metadata": {},
   "outputs": [],
   "source": [
    "#specifying the url of the webpage to be scrapped\n",
    "url='https://www.ambitionbox.com/jobs'\n",
    "driver.get(url)"
   ]
  },
  {
   "cell_type": "code",
   "execution_count": 100,
   "id": "69e09a85",
   "metadata": {},
   "outputs": [],
   "source": [
    "#entering \"Data Scientist\" in job search bar using selenium driver\n",
    "search_job = driver.find_element_by_xpath(\"/html/body/div/div/div/div[2]/div[1]/div[1]/div/div/div/div/span/input\")\n",
    "search_job.send_keys(\"Data Scientist\")"
   ]
  },
  {
   "cell_type": "code",
   "execution_count": 101,
   "id": "36203304",
   "metadata": {},
   "outputs": [],
   "source": [
    "#clicking submit button using selenium deriver\n",
    "submit_button = driver.find_element_by_xpath('/html/body/div/div/div/div[2]/div[1]/div[1]/div/div/div/button')\n",
    "submit_button.click()"
   ]
  },
  {
   "cell_type": "code",
   "execution_count": 102,
   "id": "140332a2",
   "metadata": {},
   "outputs": [],
   "source": [
    "#clicking Location button using selenium deriver\n",
    "submit_button = driver.find_element_by_xpath('/html/body/div/div/div/div[2]/div[1]/div[2]/div[1]/div/div/div/div[2]')\n",
    "submit_button.click()"
   ]
  },
  {
   "cell_type": "code",
   "execution_count": 103,
   "id": "7957d583",
   "metadata": {},
   "outputs": [],
   "source": [
    "#entering Noida in location search bar using selenium driver\n",
    "search_job = driver.find_element_by_xpath(\"/html/body/div/div/div/div[2]/div[1]/div[2]/div[1]/div/div/div/div[2]/div[2]/div/div[2]/input\")\n",
    "search_job.send_keys(\"Noida\")"
   ]
  },
  {
   "cell_type": "code",
   "execution_count": 104,
   "id": "fcbf74d3",
   "metadata": {},
   "outputs": [],
   "source": [
    "#Select Noida button using selenium deriver\n",
    "select_noida = driver.find_element_by_xpath('/html/body/div/div/div/div[2]/div[1]/div[2]/div[1]/div/div/div/div[2]/div[2]/div/div[3]/div[1]/div[1]/div/label')\n",
    "select_noida.click()"
   ]
  },
  {
   "cell_type": "code",
   "execution_count": 105,
   "id": "340cca04",
   "metadata": {},
   "outputs": [],
   "source": [
    "#specifying the url of the webpage to be scrapped\n",
    "url1='https://www.ambitionbox.com/jobs/search?tag=Data%20Scientist&location=Noida'\n",
    "driver.get(url1)"
   ]
  },
  {
   "cell_type": "code",
   "execution_count": 106,
   "id": "64b28faf",
   "metadata": {},
   "outputs": [
    {
     "data": {
      "text/plain": [
       "[<selenium.webdriver.remote.webelement.WebElement (session=\"c80e5ca9f2adbfc90fc768ef2d3b71c1\", element=\"b5250605-6165-469e-ac53-4cf1ad7d4752\")>,\n",
       " <selenium.webdriver.remote.webelement.WebElement (session=\"c80e5ca9f2adbfc90fc768ef2d3b71c1\", element=\"e39b3152-4fe3-4352-af31-76b1e83200bd\")>,\n",
       " <selenium.webdriver.remote.webelement.WebElement (session=\"c80e5ca9f2adbfc90fc768ef2d3b71c1\", element=\"e4bab3a4-db85-4069-ab05-58e9d2b997d6\")>,\n",
       " <selenium.webdriver.remote.webelement.WebElement (session=\"c80e5ca9f2adbfc90fc768ef2d3b71c1\", element=\"7626f373-868a-414c-a272-44aaa8a23e40\")>,\n",
       " <selenium.webdriver.remote.webelement.WebElement (session=\"c80e5ca9f2adbfc90fc768ef2d3b71c1\", element=\"8d78b9f0-675f-4fb3-a11c-5ad6570ad046\")>,\n",
       " <selenium.webdriver.remote.webelement.WebElement (session=\"c80e5ca9f2adbfc90fc768ef2d3b71c1\", element=\"6b75bc58-ec84-4d2d-a372-ad5d235e1fc7\")>,\n",
       " <selenium.webdriver.remote.webelement.WebElement (session=\"c80e5ca9f2adbfc90fc768ef2d3b71c1\", element=\"dfa43814-60d7-43b0-ac61-2a4a876b8692\")>,\n",
       " <selenium.webdriver.remote.webelement.WebElement (session=\"c80e5ca9f2adbfc90fc768ef2d3b71c1\", element=\"bd565e63-4db7-406e-9f26-043b651159f8\")>,\n",
       " <selenium.webdriver.remote.webelement.WebElement (session=\"c80e5ca9f2adbfc90fc768ef2d3b71c1\", element=\"f1b79a19-6221-4f09-98b1-d4e8b14a0e14\")>,\n",
       " <selenium.webdriver.remote.webelement.WebElement (session=\"c80e5ca9f2adbfc90fc768ef2d3b71c1\", element=\"859a8cb1-2a49-4d9b-9c02-10a422e41168\")>]"
      ]
     },
     "execution_count": 106,
     "metadata": {},
     "output_type": "execute_result"
    }
   ],
   "source": [
    "#finding company_name element using xpath\n",
    "company_name_tags= driver.find_elements_by_xpath('//p[@class=\"company body-medium\"]')\n",
    "company_name_tags"
   ]
  },
  {
   "cell_type": "code",
   "execution_count": 107,
   "id": "13cf22c7",
   "metadata": {},
   "outputs": [
    {
     "data": {
      "text/plain": [
       "['GENPACT India Private Limited',\n",
       " 'GENPACT India Private Limited',\n",
       " 'Tech Mahindra Ltd',\n",
       " 'GENPACT India Private Limited',\n",
       " 'HCL Technologies',\n",
       " 'Bristlecone India Limited',\n",
       " 'Zyoin',\n",
       " 'Newgen Software Technologies Ltd.',\n",
       " 'Pitney Bowes India Pvt Ltd',\n",
       " 'JK Technosoft Ltd']"
      ]
     },
     "execution_count": 107,
     "metadata": {},
     "output_type": "execute_result"
    }
   ],
   "source": [
    "#getting all the available text in the company_name_tags element\n",
    "company_name =[]\n",
    "for i in company_name_tags:\n",
    "    company_name.append(i.text)\n",
    "company_name"
   ]
  },
  {
   "cell_type": "code",
   "execution_count": 108,
   "id": "385f741a",
   "metadata": {},
   "outputs": [
    {
     "data": {
      "text/plain": [
       "[<selenium.webdriver.remote.webelement.WebElement (session=\"c80e5ca9f2adbfc90fc768ef2d3b71c1\", element=\"0fd22e53-c4b6-4df3-9716-f6f212093226\")>,\n",
       " <selenium.webdriver.remote.webelement.WebElement (session=\"c80e5ca9f2adbfc90fc768ef2d3b71c1\", element=\"b9ae60d3-93c5-456a-b792-f22d4c2586b1\")>,\n",
       " <selenium.webdriver.remote.webelement.WebElement (session=\"c80e5ca9f2adbfc90fc768ef2d3b71c1\", element=\"89813ba1-34eb-4f2e-af00-e44c2c963c45\")>,\n",
       " <selenium.webdriver.remote.webelement.WebElement (session=\"c80e5ca9f2adbfc90fc768ef2d3b71c1\", element=\"d27634d6-495d-4e6c-9522-842ba19d7eed\")>,\n",
       " <selenium.webdriver.remote.webelement.WebElement (session=\"c80e5ca9f2adbfc90fc768ef2d3b71c1\", element=\"cc94364f-c6ed-49ae-89d9-0df0fd78822e\")>,\n",
       " <selenium.webdriver.remote.webelement.WebElement (session=\"c80e5ca9f2adbfc90fc768ef2d3b71c1\", element=\"ff85fb31-ad49-4e24-a22f-ed8072956b1b\")>,\n",
       " <selenium.webdriver.remote.webelement.WebElement (session=\"c80e5ca9f2adbfc90fc768ef2d3b71c1\", element=\"b94f2cb0-58e6-4481-a389-0ce95cb60e23\")>,\n",
       " <selenium.webdriver.remote.webelement.WebElement (session=\"c80e5ca9f2adbfc90fc768ef2d3b71c1\", element=\"9f1b0967-ad5f-495c-9f9e-f835e9a52c5e\")>,\n",
       " <selenium.webdriver.remote.webelement.WebElement (session=\"c80e5ca9f2adbfc90fc768ef2d3b71c1\", element=\"8e6be2c2-e53c-4faf-acc5-79e265d836b0\")>,\n",
       " <selenium.webdriver.remote.webelement.WebElement (session=\"c80e5ca9f2adbfc90fc768ef2d3b71c1\", element=\"4c5210f0-0af9-4bdb-a5ee-695f219bebcd\")>,\n",
       " <selenium.webdriver.remote.webelement.WebElement (session=\"c80e5ca9f2adbfc90fc768ef2d3b71c1\", element=\"32cb9c03-a038-4ac9-a5a3-a2554132f358\")>,\n",
       " <selenium.webdriver.remote.webelement.WebElement (session=\"c80e5ca9f2adbfc90fc768ef2d3b71c1\", element=\"d0d5fd84-727d-43be-a3d8-bda4f070b566\")>,\n",
       " <selenium.webdriver.remote.webelement.WebElement (session=\"c80e5ca9f2adbfc90fc768ef2d3b71c1\", element=\"52346fca-8295-4fd3-9400-197a36702773\")>,\n",
       " <selenium.webdriver.remote.webelement.WebElement (session=\"c80e5ca9f2adbfc90fc768ef2d3b71c1\", element=\"de7b5a54-76df-46cc-8bd1-2dab27e11dad\")>,\n",
       " <selenium.webdriver.remote.webelement.WebElement (session=\"c80e5ca9f2adbfc90fc768ef2d3b71c1\", element=\"15d3ce44-7c0e-47f8-b86c-6800b536db82\")>,\n",
       " <selenium.webdriver.remote.webelement.WebElement (session=\"c80e5ca9f2adbfc90fc768ef2d3b71c1\", element=\"c042a04a-af74-478d-8342-06124ed97f84\")>,\n",
       " <selenium.webdriver.remote.webelement.WebElement (session=\"c80e5ca9f2adbfc90fc768ef2d3b71c1\", element=\"96fe0ea3-a093-49a3-add9-0fddb9e7007a\")>,\n",
       " <selenium.webdriver.remote.webelement.WebElement (session=\"c80e5ca9f2adbfc90fc768ef2d3b71c1\", element=\"97f90425-1e6a-4b74-924e-4fbb443c0636\")>,\n",
       " <selenium.webdriver.remote.webelement.WebElement (session=\"c80e5ca9f2adbfc90fc768ef2d3b71c1\", element=\"34568d12-bb59-4f53-a1a4-8a8115936ab6\")>,\n",
       " <selenium.webdriver.remote.webelement.WebElement (session=\"c80e5ca9f2adbfc90fc768ef2d3b71c1\", element=\"0e092f5b-e494-4107-b144-45b0dd5cb5eb\")>]"
      ]
     },
     "execution_count": 108,
     "metadata": {},
     "output_type": "execute_result"
    }
   ],
   "source": [
    "#finding  element using xpath\n",
    "job_posted_tag= driver.find_elements_by_xpath('//span[@class=\"body-small-l\"]')\n",
    "job_posted_tag"
   ]
  },
  {
   "cell_type": "code",
   "execution_count": 109,
   "id": "851edbd7",
   "metadata": {},
   "outputs": [
    {
     "data": {
      "text/plain": [
       "['4d ago',\n",
       " ' ',\n",
       " '9d ago',\n",
       " ' ',\n",
       " '23d ago',\n",
       " ' ',\n",
       " '26d ago',\n",
       " ' ',\n",
       " '30d ago',\n",
       " ' ',\n",
       " '4d ago',\n",
       " ' ',\n",
       " '8d ago',\n",
       " ' ',\n",
       " '10d ago',\n",
       " ' ',\n",
       " '1mon ago',\n",
       " ' ',\n",
       " '19d ago',\n",
       " ' ']"
      ]
     },
     "execution_count": 109,
     "metadata": {},
     "output_type": "execute_result"
    }
   ],
   "source": [
    "#getting all the available text in the job_posted_tag element\n",
    "job_posted=[]\n",
    "for i in job_posted_tag:\n",
    "    job_posted.append(i.text.replace('via naukri.com',' ').replace('via hirist.com',' ').replace(\"' '\",\" \"))\n",
    "job_posted"
   ]
  },
  {
   "cell_type": "code",
   "execution_count": 110,
   "id": "75ac6e48",
   "metadata": {},
   "outputs": [
    {
     "data": {
      "text/plain": [
       "['4d ago',\n",
       " '9d ago',\n",
       " '23d ago',\n",
       " '26d ago',\n",
       " '30d ago',\n",
       " '4d ago',\n",
       " '8d ago',\n",
       " '10d ago',\n",
       " '1mon ago',\n",
       " '19d ago']"
      ]
     },
     "execution_count": 110,
     "metadata": {},
     "output_type": "execute_result"
    }
   ],
   "source": [
    "for i in job_posted:\n",
    "    if i  == ' ':\n",
    "        job_posted.remove(i)\n",
    "jobs_posted=job_posted\n",
    "jobs_posted"
   ]
  },
  {
   "cell_type": "code",
   "execution_count": 111,
   "id": "7d26e832",
   "metadata": {},
   "outputs": [
    {
     "data": {
      "text/plain": [
       "[<selenium.webdriver.remote.webelement.WebElement (session=\"c80e5ca9f2adbfc90fc768ef2d3b71c1\", element=\"4ce53525-64af-474d-beac-87f34af8bf4b\")>,\n",
       " <selenium.webdriver.remote.webelement.WebElement (session=\"c80e5ca9f2adbfc90fc768ef2d3b71c1\", element=\"bbfc605a-0795-4d44-bc34-ebb1a5f65325\")>,\n",
       " <selenium.webdriver.remote.webelement.WebElement (session=\"c80e5ca9f2adbfc90fc768ef2d3b71c1\", element=\"165a1d74-61a6-48eb-a6e9-ed35b0f88bd8\")>,\n",
       " <selenium.webdriver.remote.webelement.WebElement (session=\"c80e5ca9f2adbfc90fc768ef2d3b71c1\", element=\"5ce846c5-ab24-4d90-a932-98efff805389\")>,\n",
       " <selenium.webdriver.remote.webelement.WebElement (session=\"c80e5ca9f2adbfc90fc768ef2d3b71c1\", element=\"6d251819-0d40-45c0-a516-c55236a7cc27\")>,\n",
       " <selenium.webdriver.remote.webelement.WebElement (session=\"c80e5ca9f2adbfc90fc768ef2d3b71c1\", element=\"34936eaa-0d29-4b3f-9d18-a105f46eb965\")>,\n",
       " <selenium.webdriver.remote.webelement.WebElement (session=\"c80e5ca9f2adbfc90fc768ef2d3b71c1\", element=\"4d63f2aa-2a2a-440a-95f3-016d4f26cf2c\")>,\n",
       " <selenium.webdriver.remote.webelement.WebElement (session=\"c80e5ca9f2adbfc90fc768ef2d3b71c1\", element=\"fb4b6e76-632f-450e-abd0-216f23842e8b\")>,\n",
       " <selenium.webdriver.remote.webelement.WebElement (session=\"c80e5ca9f2adbfc90fc768ef2d3b71c1\", element=\"8a6710c1-d82e-4d4c-8a57-cb697b3076fe\")>,\n",
       " <selenium.webdriver.remote.webelement.WebElement (session=\"c80e5ca9f2adbfc90fc768ef2d3b71c1\", element=\"0a2e5920-17f5-4609-bafc-26375795d124\")>,\n",
       " <selenium.webdriver.remote.webelement.WebElement (session=\"c80e5ca9f2adbfc90fc768ef2d3b71c1\", element=\"0884b2ae-68c7-4378-b50e-e5f4306e2583\")>,\n",
       " <selenium.webdriver.remote.webelement.WebElement (session=\"c80e5ca9f2adbfc90fc768ef2d3b71c1\", element=\"64a13afb-6057-4a7d-afc3-f025e3985cfb\")>,\n",
       " <selenium.webdriver.remote.webelement.WebElement (session=\"c80e5ca9f2adbfc90fc768ef2d3b71c1\", element=\"9e02e520-43c8-41d7-8db6-74ff76f3cf69\")>,\n",
       " <selenium.webdriver.remote.webelement.WebElement (session=\"c80e5ca9f2adbfc90fc768ef2d3b71c1\", element=\"68dd8c82-392f-4fa1-898c-66717bbae79e\")>]"
      ]
     },
     "execution_count": 111,
     "metadata": {},
     "output_type": "execute_result"
    }
   ],
   "source": [
    "#finding rating_tags element using xpath\n",
    "rating_tags= driver.find_elements_by_xpath('//div[@class=\"rating-wrapper\"]')\n",
    "rating_tags"
   ]
  },
  {
   "cell_type": "code",
   "execution_count": 112,
   "id": "e72a4cd4",
   "metadata": {},
   "outputs": [
    {
     "data": {
      "text/plain": [
       "['',\n",
       " '',\n",
       " '',\n",
       " '4.0',\n",
       " '4.0',\n",
       " '4.0',\n",
       " '3.7',\n",
       " '4.0',\n",
       " '3.8',\n",
       " '3.9',\n",
       " '4.1',\n",
       " '3.5',\n",
       " '4.3',\n",
       " '3.6']"
      ]
     },
     "execution_count": 112,
     "metadata": {},
     "output_type": "execute_result"
    }
   ],
   "source": [
    "#getting all the available text in the rating_tag element\n",
    "rating=[]\n",
    "for i in rating_tags:\n",
    "    rating.append(i.text.split(',')[0].split('\\n')[0])\n",
    "rating"
   ]
  },
  {
   "cell_type": "code",
   "execution_count": 114,
   "id": "e95aee32",
   "metadata": {},
   "outputs": [
    {
     "data": {
      "text/plain": [
       "'4.0'"
      ]
     },
     "execution_count": 114,
     "metadata": {},
     "output_type": "execute_result"
    }
   ],
   "source": [
    "rating.pop(0)\n",
    "rating.pop(1)"
   ]
  },
  {
   "cell_type": "code",
   "execution_count": 115,
   "id": "fed8d4bb",
   "metadata": {},
   "outputs": [
    {
     "data": {
      "text/plain": [
       "['4.0', '4.0', '3.7', '4.0', '3.8', '3.9', '4.1', '3.5', '4.3', '3.6']"
      ]
     },
     "execution_count": 115,
     "metadata": {},
     "output_type": "execute_result"
    }
   ],
   "source": [
    "ratings=rating\n",
    "ratings"
   ]
  },
  {
   "cell_type": "code",
   "execution_count": 116,
   "id": "2ec612b3",
   "metadata": {},
   "outputs": [
    {
     "name": "stdout",
     "output_type": "stream",
     "text": [
      "10 10 10\n"
     ]
    }
   ],
   "source": [
    "print(len(company_name),len(jobs_posted),len(ratings))"
   ]
  },
  {
   "cell_type": "code",
   "execution_count": 117,
   "id": "20d3f46c",
   "metadata": {},
   "outputs": [
    {
     "data": {
      "text/html": [
       "<div>\n",
       "<style scoped>\n",
       "    .dataframe tbody tr th:only-of-type {\n",
       "        vertical-align: middle;\n",
       "    }\n",
       "\n",
       "    .dataframe tbody tr th {\n",
       "        vertical-align: top;\n",
       "    }\n",
       "\n",
       "    .dataframe thead th {\n",
       "        text-align: right;\n",
       "    }\n",
       "</style>\n",
       "<table border=\"1\" class=\"dataframe\">\n",
       "  <thead>\n",
       "    <tr style=\"text-align: right;\">\n",
       "      <th></th>\n",
       "      <th>Company_name</th>\n",
       "      <th>Job_Posted_No_Of_Days_Ago</th>\n",
       "      <th>Ratings</th>\n",
       "    </tr>\n",
       "  </thead>\n",
       "  <tbody>\n",
       "    <tr>\n",
       "      <th>0</th>\n",
       "      <td>GENPACT India Private Limited</td>\n",
       "      <td>4d ago</td>\n",
       "      <td>4.0</td>\n",
       "    </tr>\n",
       "    <tr>\n",
       "      <th>1</th>\n",
       "      <td>GENPACT India Private Limited</td>\n",
       "      <td>9d ago</td>\n",
       "      <td>4.0</td>\n",
       "    </tr>\n",
       "    <tr>\n",
       "      <th>2</th>\n",
       "      <td>Tech Mahindra Ltd</td>\n",
       "      <td>23d ago</td>\n",
       "      <td>3.7</td>\n",
       "    </tr>\n",
       "    <tr>\n",
       "      <th>3</th>\n",
       "      <td>GENPACT India Private Limited</td>\n",
       "      <td>26d ago</td>\n",
       "      <td>4.0</td>\n",
       "    </tr>\n",
       "    <tr>\n",
       "      <th>4</th>\n",
       "      <td>HCL Technologies</td>\n",
       "      <td>30d ago</td>\n",
       "      <td>3.8</td>\n",
       "    </tr>\n",
       "    <tr>\n",
       "      <th>5</th>\n",
       "      <td>Bristlecone India Limited</td>\n",
       "      <td>4d ago</td>\n",
       "      <td>3.9</td>\n",
       "    </tr>\n",
       "    <tr>\n",
       "      <th>6</th>\n",
       "      <td>Zyoin</td>\n",
       "      <td>8d ago</td>\n",
       "      <td>4.1</td>\n",
       "    </tr>\n",
       "    <tr>\n",
       "      <th>7</th>\n",
       "      <td>Newgen Software Technologies Ltd.</td>\n",
       "      <td>10d ago</td>\n",
       "      <td>3.5</td>\n",
       "    </tr>\n",
       "    <tr>\n",
       "      <th>8</th>\n",
       "      <td>Pitney Bowes India Pvt Ltd</td>\n",
       "      <td>1mon ago</td>\n",
       "      <td>4.3</td>\n",
       "    </tr>\n",
       "    <tr>\n",
       "      <th>9</th>\n",
       "      <td>JK Technosoft Ltd</td>\n",
       "      <td>19d ago</td>\n",
       "      <td>3.6</td>\n",
       "    </tr>\n",
       "  </tbody>\n",
       "</table>\n",
       "</div>"
      ],
      "text/plain": [
       "                        Company_name Job_Posted_No_Of_Days_Ago Ratings\n",
       "0      GENPACT India Private Limited                    4d ago     4.0\n",
       "1      GENPACT India Private Limited                    9d ago     4.0\n",
       "2                  Tech Mahindra Ltd                   23d ago     3.7\n",
       "3      GENPACT India Private Limited                   26d ago     4.0\n",
       "4                   HCL Technologies                   30d ago     3.8\n",
       "5          Bristlecone India Limited                    4d ago     3.9\n",
       "6                              Zyoin                    8d ago     4.1\n",
       "7  Newgen Software Technologies Ltd.                   10d ago     3.5\n",
       "8         Pitney Bowes India Pvt Ltd                  1mon ago     4.3\n",
       "9                  JK Technosoft Ltd                   19d ago     3.6"
      ]
     },
     "execution_count": 117,
     "metadata": {},
     "output_type": "execute_result"
    }
   ],
   "source": [
    "# creating dataframe and assigning lists to columns\n",
    "Data_Specialist_Noida = pd.DataFrame({})\n",
    "Data_Specialist_Noida['Company_name'] = company_name\n",
    "Data_Specialist_Noida['Job_Posted_No_Of_Days_Ago'] = jobs_posted\n",
    "Data_Specialist_Noida['Ratings'] = ratings\n",
    "\n",
    "Data_Specialist_Noida"
   ]
  },
  {
   "cell_type": "markdown",
   "id": "6b8d963c",
   "metadata": {},
   "source": [
    "Q10: Write a python program to scrape the salary data for Data Scientist designation. You have to scrape Company name, Number of salaries, Average salary, Minsalary, Max Salary"
   ]
  },
  {
   "cell_type": "code",
   "execution_count": 154,
   "id": "8e0d2c33",
   "metadata": {},
   "outputs": [],
   "source": [
    "#chrome driver to initiate url and get web elements for the same using selenium\n",
    "driver = webdriver.Chrome(r\"C:\\Users\\admin1\\Downloads\\chromedriver.exe\")\n",
    "driver.get(' https://www.ambitionbox.com/')"
   ]
  },
  {
   "cell_type": "code",
   "execution_count": 155,
   "id": "c952b2ca",
   "metadata": {},
   "outputs": [],
   "source": [
    "#entering salary section using selenium driver\n",
    "enter_salary_sec = driver.find_element_by_xpath('/html/body/div[1]/nav/nav/a[4]')\n",
    "enter_salary_sec.click()"
   ]
  },
  {
   "cell_type": "code",
   "execution_count": 156,
   "id": "3cdc5707",
   "metadata": {},
   "outputs": [],
   "source": [
    "#specifying the url of the webpage to be scrapped\n",
    "url1='https://www.ambitionbox.com/salaries'\n",
    "driver.get(url1)"
   ]
  },
  {
   "cell_type": "code",
   "execution_count": 157,
   "id": "86ef01ca",
   "metadata": {},
   "outputs": [],
   "source": [
    "#entering \"Data Scientist\" in job search bar using selenium driver\n",
    "search_job = driver.find_element_by_xpath(\"/html/body/div/div/div/main/section[1]/div[2]/div[1]/span/input\")\n",
    "search_job.send_keys(\"Data Scientist\")"
   ]
  },
  {
   "cell_type": "code",
   "execution_count": 158,
   "id": "a0cfdaf1",
   "metadata": {},
   "outputs": [],
   "source": [
    "#selecting data scientist using selenium deriver\n",
    "select_button = driver.find_element_by_xpath('//div[@class=\"suggestion_wrap tt-suggestion tt-selectable\"]')\n",
    "select_button.click()"
   ]
  },
  {
   "cell_type": "code",
   "execution_count": 159,
   "id": "119a13c4",
   "metadata": {},
   "outputs": [
    {
     "data": {
      "text/plain": [
       "[<selenium.webdriver.remote.webelement.WebElement (session=\"c59f7bb17285235eb3f54e169760276d\", element=\"ba72ead1-815a-40a3-a6f2-52165b435b55\")>,\n",
       " <selenium.webdriver.remote.webelement.WebElement (session=\"c59f7bb17285235eb3f54e169760276d\", element=\"7d18f1ef-0831-4ffb-bcbf-50de9464e00b\")>,\n",
       " <selenium.webdriver.remote.webelement.WebElement (session=\"c59f7bb17285235eb3f54e169760276d\", element=\"10605ebf-3855-48b9-8257-05bffd4596a0\")>,\n",
       " <selenium.webdriver.remote.webelement.WebElement (session=\"c59f7bb17285235eb3f54e169760276d\", element=\"c86b82af-4b76-485b-a9e8-95d6992799fb\")>,\n",
       " <selenium.webdriver.remote.webelement.WebElement (session=\"c59f7bb17285235eb3f54e169760276d\", element=\"1dd844e8-c677-4d44-bdad-8e01515c5a19\")>,\n",
       " <selenium.webdriver.remote.webelement.WebElement (session=\"c59f7bb17285235eb3f54e169760276d\", element=\"29513df3-dc94-4b4b-ad0d-4a5b49304008\")>,\n",
       " <selenium.webdriver.remote.webelement.WebElement (session=\"c59f7bb17285235eb3f54e169760276d\", element=\"42e8cbfe-18e2-4763-8c83-c0d4acf20825\")>,\n",
       " <selenium.webdriver.remote.webelement.WebElement (session=\"c59f7bb17285235eb3f54e169760276d\", element=\"8c8ea2e3-0ebb-4235-980a-f51cef119c35\")>,\n",
       " <selenium.webdriver.remote.webelement.WebElement (session=\"c59f7bb17285235eb3f54e169760276d\", element=\"0a44e578-aecb-4d5b-8b87-a4b06e079315\")>,\n",
       " <selenium.webdriver.remote.webelement.WebElement (session=\"c59f7bb17285235eb3f54e169760276d\", element=\"c7daecf6-4d70-43d6-93a7-3bbec4a1ba1d\")>]"
      ]
     },
     "execution_count": 159,
     "metadata": {},
     "output_type": "execute_result"
    }
   ],
   "source": [
    "#finding company_name element using xpath\n",
    "company_name_tags= driver.find_elements_by_xpath('//div[@class=\"name\"]//a')\n",
    "company_name_tags"
   ]
  },
  {
   "cell_type": "code",
   "execution_count": 160,
   "id": "c75f9ce5",
   "metadata": {},
   "outputs": [
    {
     "data": {
      "text/plain": [
       "['Walmart',\n",
       " 'Ab Inbev',\n",
       " 'Reliance Jio',\n",
       " 'ZS',\n",
       " 'Optum',\n",
       " 'Fractal Analytics',\n",
       " 'Tiger Analytics',\n",
       " 'UnitedHealth',\n",
       " 'Verizon',\n",
       " 'Ganit Business Solutions']"
      ]
     },
     "execution_count": 160,
     "metadata": {},
     "output_type": "execute_result"
    }
   ],
   "source": [
    "company_name=[]\n",
    "for i in company_name_tags:\n",
    "    company_name.append(i.text)\n",
    "company_name"
   ]
  },
  {
   "cell_type": "code",
   "execution_count": 161,
   "id": "502c53ce",
   "metadata": {},
   "outputs": [
    {
     "data": {
      "text/plain": [
       "[<selenium.webdriver.remote.webelement.WebElement (session=\"c59f7bb17285235eb3f54e169760276d\", element=\"c7bd2862-f8c1-4bd9-8f5b-5c7dfefd1795\")>,\n",
       " <selenium.webdriver.remote.webelement.WebElement (session=\"c59f7bb17285235eb3f54e169760276d\", element=\"1a121d80-3d86-4f50-86cb-890cb7df4f5b\")>,\n",
       " <selenium.webdriver.remote.webelement.WebElement (session=\"c59f7bb17285235eb3f54e169760276d\", element=\"508392a8-2f8f-43cf-b4f0-dcb95c25798c\")>,\n",
       " <selenium.webdriver.remote.webelement.WebElement (session=\"c59f7bb17285235eb3f54e169760276d\", element=\"4a05da67-8f7a-42b7-adcd-f95090d53bdc\")>,\n",
       " <selenium.webdriver.remote.webelement.WebElement (session=\"c59f7bb17285235eb3f54e169760276d\", element=\"35da8c14-425f-426f-9ab1-2ea8b39a6cf9\")>,\n",
       " <selenium.webdriver.remote.webelement.WebElement (session=\"c59f7bb17285235eb3f54e169760276d\", element=\"97d690b2-d196-4992-ba8d-979e783e662b\")>,\n",
       " <selenium.webdriver.remote.webelement.WebElement (session=\"c59f7bb17285235eb3f54e169760276d\", element=\"1659690b-f4bd-46ff-b053-0c68ed4c40cf\")>,\n",
       " <selenium.webdriver.remote.webelement.WebElement (session=\"c59f7bb17285235eb3f54e169760276d\", element=\"8dd1087b-2214-400f-ab18-3d40e1b47e6b\")>,\n",
       " <selenium.webdriver.remote.webelement.WebElement (session=\"c59f7bb17285235eb3f54e169760276d\", element=\"990b4d7e-3577-4ab9-8d46-3163b6500598\")>,\n",
       " <selenium.webdriver.remote.webelement.WebElement (session=\"c59f7bb17285235eb3f54e169760276d\", element=\"cae51f41-ccb9-4088-aa5c-edcb7a9ab0bc\")>]"
      ]
     },
     "execution_count": 161,
     "metadata": {},
     "output_type": "execute_result"
    }
   ],
   "source": [
    "#finding salary element using xpath\n",
    "salary_tags= driver.find_elements_by_xpath('//div[@class=\"name\"]//span')\n",
    "salary_tags"
   ]
  },
  {
   "cell_type": "code",
   "execution_count": 162,
   "id": "9a7b5937",
   "metadata": {},
   "outputs": [
    {
     "data": {
      "text/plain": [
       "['11', '32', '10', '15', '27', '81', '46', '53', '14', '13']"
      ]
     },
     "execution_count": 162,
     "metadata": {},
     "output_type": "execute_result"
    }
   ],
   "source": [
    "total_salary=[]\n",
    "for i in salary_tags:\n",
    "    total_salary.append(i.text.split()[2])\n",
    "total_salary"
   ]
  },
  {
   "cell_type": "code",
   "execution_count": 169,
   "id": "1c3ded2c",
   "metadata": {},
   "outputs": [
    {
     "data": {
      "text/plain": [
       "[<selenium.webdriver.remote.webelement.WebElement (session=\"c59f7bb17285235eb3f54e169760276d\", element=\"69952fb3-b3c8-4746-a0a2-7f616f2a55ab\")>,\n",
       " <selenium.webdriver.remote.webelement.WebElement (session=\"c59f7bb17285235eb3f54e169760276d\", element=\"371e9571-8e29-4c8e-9a07-2da10012b9b1\")>,\n",
       " <selenium.webdriver.remote.webelement.WebElement (session=\"c59f7bb17285235eb3f54e169760276d\", element=\"323cc7d1-6e66-41e6-bc2f-793ae0e748fc\")>,\n",
       " <selenium.webdriver.remote.webelement.WebElement (session=\"c59f7bb17285235eb3f54e169760276d\", element=\"27ef4349-90a8-4a5f-8ff2-bb1ec59a6fe7\")>,\n",
       " <selenium.webdriver.remote.webelement.WebElement (session=\"c59f7bb17285235eb3f54e169760276d\", element=\"a734c930-82d3-42de-8c29-452785373b08\")>,\n",
       " <selenium.webdriver.remote.webelement.WebElement (session=\"c59f7bb17285235eb3f54e169760276d\", element=\"ae63b0cb-1e93-49a6-9a16-c129cb03fdac\")>,\n",
       " <selenium.webdriver.remote.webelement.WebElement (session=\"c59f7bb17285235eb3f54e169760276d\", element=\"66e0300d-9736-4e27-a57d-84e765c6a600\")>,\n",
       " <selenium.webdriver.remote.webelement.WebElement (session=\"c59f7bb17285235eb3f54e169760276d\", element=\"83cc612b-1b90-4a22-b1e9-48f983eb29d2\")>,\n",
       " <selenium.webdriver.remote.webelement.WebElement (session=\"c59f7bb17285235eb3f54e169760276d\", element=\"32fc9a1d-4e17-4235-a245-9d163d876034\")>,\n",
       " <selenium.webdriver.remote.webelement.WebElement (session=\"c59f7bb17285235eb3f54e169760276d\", element=\"de0a89e4-2592-4a22-badf-2f03afaaabfb\")>]"
      ]
     },
     "execution_count": 169,
     "metadata": {},
     "output_type": "execute_result"
    }
   ],
   "source": [
    "#finding avg_salary element using xpath\n",
    "avg_salary_tags= driver.find_elements_by_xpath('//p[@class=\"averageCtc\"]')\n",
    "avg_salary_tags"
   ]
  },
  {
   "cell_type": "code",
   "execution_count": 170,
   "id": "c8fa6a0b",
   "metadata": {},
   "outputs": [
    {
     "data": {
      "text/plain": [
       "['₹ 26.9L',\n",
       " '₹ 24.7L',\n",
       " '₹ 23.7L',\n",
       " '₹ 22.3L',\n",
       " '₹ 21.0L',\n",
       " '₹ 20.3L',\n",
       " '₹ 20.2L',\n",
       " '₹ 19.9L',\n",
       " '₹ 19.8L',\n",
       " '₹ 19.7L']"
      ]
     },
     "execution_count": 170,
     "metadata": {},
     "output_type": "execute_result"
    }
   ],
   "source": [
    "avg_salary=[]\n",
    "for i in avg_salary_tags:\n",
    "    avg_salary.append(i.text)\n",
    "avg_salary"
   ]
  },
  {
   "cell_type": "code",
   "execution_count": 171,
   "id": "25d64d11",
   "metadata": {},
   "outputs": [
    {
     "data": {
      "text/plain": [
       "[<selenium.webdriver.remote.webelement.WebElement (session=\"c59f7bb17285235eb3f54e169760276d\", element=\"56346e48-ba12-42b1-a3bd-7cac37862191\")>,\n",
       " <selenium.webdriver.remote.webelement.WebElement (session=\"c59f7bb17285235eb3f54e169760276d\", element=\"a8cae45d-4368-4769-911b-d2a4ca769939\")>,\n",
       " <selenium.webdriver.remote.webelement.WebElement (session=\"c59f7bb17285235eb3f54e169760276d\", element=\"23d47cca-f745-4018-afb7-25586ca86af0\")>,\n",
       " <selenium.webdriver.remote.webelement.WebElement (session=\"c59f7bb17285235eb3f54e169760276d\", element=\"8f4db5ad-37af-4699-8918-5c1ae762f9fe\")>,\n",
       " <selenium.webdriver.remote.webelement.WebElement (session=\"c59f7bb17285235eb3f54e169760276d\", element=\"0c2e08da-006b-44b3-9c83-999631ef7a91\")>,\n",
       " <selenium.webdriver.remote.webelement.WebElement (session=\"c59f7bb17285235eb3f54e169760276d\", element=\"de504eb9-fff0-4447-b951-eb6e04e87e87\")>,\n",
       " <selenium.webdriver.remote.webelement.WebElement (session=\"c59f7bb17285235eb3f54e169760276d\", element=\"25975096-c9d7-4ecd-8892-f5fc1fd9f79e\")>,\n",
       " <selenium.webdriver.remote.webelement.WebElement (session=\"c59f7bb17285235eb3f54e169760276d\", element=\"3f88aaa9-0bbb-4559-93a3-837ab8f84de0\")>,\n",
       " <selenium.webdriver.remote.webelement.WebElement (session=\"c59f7bb17285235eb3f54e169760276d\", element=\"95937cb5-9d6d-4598-95b5-fe0ab53b47a7\")>,\n",
       " <selenium.webdriver.remote.webelement.WebElement (session=\"c59f7bb17285235eb3f54e169760276d\", element=\"b9304829-ddbd-4c97-b820-7fdbc400827c\")>,\n",
       " <selenium.webdriver.remote.webelement.WebElement (session=\"c59f7bb17285235eb3f54e169760276d\", element=\"f5ce38a5-7302-4ebc-b742-2f125fbeebf3\")>,\n",
       " <selenium.webdriver.remote.webelement.WebElement (session=\"c59f7bb17285235eb3f54e169760276d\", element=\"659302b2-323c-4c32-bc04-6f6a33ea22ab\")>,\n",
       " <selenium.webdriver.remote.webelement.WebElement (session=\"c59f7bb17285235eb3f54e169760276d\", element=\"28ee4dd7-123a-4609-a697-e9e4f3b92d9f\")>,\n",
       " <selenium.webdriver.remote.webelement.WebElement (session=\"c59f7bb17285235eb3f54e169760276d\", element=\"428a7555-e261-45da-9e47-4d39f3065cef\")>,\n",
       " <selenium.webdriver.remote.webelement.WebElement (session=\"c59f7bb17285235eb3f54e169760276d\", element=\"da39cabc-30ee-4464-9bea-ba7113bdb975\")>,\n",
       " <selenium.webdriver.remote.webelement.WebElement (session=\"c59f7bb17285235eb3f54e169760276d\", element=\"7e5c142c-cb07-4659-889f-9e49e892f528\")>,\n",
       " <selenium.webdriver.remote.webelement.WebElement (session=\"c59f7bb17285235eb3f54e169760276d\", element=\"6ead5271-089b-459a-904e-c63edd45a337\")>,\n",
       " <selenium.webdriver.remote.webelement.WebElement (session=\"c59f7bb17285235eb3f54e169760276d\", element=\"da5badef-135c-4081-96c3-4e28d840d187\")>,\n",
       " <selenium.webdriver.remote.webelement.WebElement (session=\"c59f7bb17285235eb3f54e169760276d\", element=\"152bf991-ca36-4756-9cc9-9b5d04b6e19c\")>,\n",
       " <selenium.webdriver.remote.webelement.WebElement (session=\"c59f7bb17285235eb3f54e169760276d\", element=\"9455fbf5-27af-4fe4-88d5-ed14bd3f5a9e\")>]"
      ]
     },
     "execution_count": 171,
     "metadata": {},
     "output_type": "execute_result"
    }
   ],
   "source": [
    "#finding min_salary element using xpath\n",
    "salary_tags= driver.find_elements_by_xpath('//div[@class=\"value body-medium\"]')\n",
    "salary_tags"
   ]
  },
  {
   "cell_type": "code",
   "execution_count": 172,
   "id": "7cb20fcc",
   "metadata": {},
   "outputs": [
    {
     "data": {
      "text/plain": [
       "['₹ 10.4L',\n",
       " '₹ 40.0L',\n",
       " '₹ 10.7L',\n",
       " '₹ 38.0L',\n",
       " '₹ 13.0L',\n",
       " '₹ 45.0L',\n",
       " '₹ 12.0L',\n",
       " '₹ 34.0L',\n",
       " '₹ 12.0L',\n",
       " '₹ 33.0L',\n",
       " '₹ 7.5L',\n",
       " '₹ 31.0L',\n",
       " '₹ 13.0L',\n",
       " '₹ 26.3L',\n",
       " '₹ 11.0L',\n",
       " '₹ 32.5L',\n",
       " '₹ 12.0L',\n",
       " '₹ 30.0L',\n",
       " '₹ 8.0L',\n",
       " '₹ 43.0L']"
      ]
     },
     "execution_count": 172,
     "metadata": {},
     "output_type": "execute_result"
    }
   ],
   "source": [
    "salary=[]\n",
    "for i in salary_tags:\n",
    "    salary.append(i.text)\n",
    "salary"
   ]
  },
  {
   "cell_type": "code",
   "execution_count": 173,
   "id": "f38fad2f",
   "metadata": {},
   "outputs": [
    {
     "data": {
      "text/plain": [
       "['₹ 10.4L',\n",
       " '₹ 10.7L',\n",
       " '₹ 13.0L',\n",
       " '₹ 12.0L',\n",
       " '₹ 12.0L',\n",
       " '₹ 7.5L',\n",
       " '₹ 13.0L',\n",
       " '₹ 11.0L',\n",
       " '₹ 12.0L',\n",
       " '₹ 8.0L']"
      ]
     },
     "execution_count": 173,
     "metadata": {},
     "output_type": "execute_result"
    }
   ],
   "source": [
    "for i in salary:\n",
    "    if i  > '₹ 15.0L':\n",
    "        salary.remove(i)\n",
    "min_salary=salary\n",
    "min_salary"
   ]
  },
  {
   "cell_type": "code",
   "execution_count": 174,
   "id": "da787a83",
   "metadata": {},
   "outputs": [
    {
     "data": {
      "text/plain": [
       "[<selenium.webdriver.remote.webelement.WebElement (session=\"c59f7bb17285235eb3f54e169760276d\", element=\"56346e48-ba12-42b1-a3bd-7cac37862191\")>,\n",
       " <selenium.webdriver.remote.webelement.WebElement (session=\"c59f7bb17285235eb3f54e169760276d\", element=\"a8cae45d-4368-4769-911b-d2a4ca769939\")>,\n",
       " <selenium.webdriver.remote.webelement.WebElement (session=\"c59f7bb17285235eb3f54e169760276d\", element=\"23d47cca-f745-4018-afb7-25586ca86af0\")>,\n",
       " <selenium.webdriver.remote.webelement.WebElement (session=\"c59f7bb17285235eb3f54e169760276d\", element=\"8f4db5ad-37af-4699-8918-5c1ae762f9fe\")>,\n",
       " <selenium.webdriver.remote.webelement.WebElement (session=\"c59f7bb17285235eb3f54e169760276d\", element=\"0c2e08da-006b-44b3-9c83-999631ef7a91\")>,\n",
       " <selenium.webdriver.remote.webelement.WebElement (session=\"c59f7bb17285235eb3f54e169760276d\", element=\"de504eb9-fff0-4447-b951-eb6e04e87e87\")>,\n",
       " <selenium.webdriver.remote.webelement.WebElement (session=\"c59f7bb17285235eb3f54e169760276d\", element=\"25975096-c9d7-4ecd-8892-f5fc1fd9f79e\")>,\n",
       " <selenium.webdriver.remote.webelement.WebElement (session=\"c59f7bb17285235eb3f54e169760276d\", element=\"3f88aaa9-0bbb-4559-93a3-837ab8f84de0\")>,\n",
       " <selenium.webdriver.remote.webelement.WebElement (session=\"c59f7bb17285235eb3f54e169760276d\", element=\"95937cb5-9d6d-4598-95b5-fe0ab53b47a7\")>,\n",
       " <selenium.webdriver.remote.webelement.WebElement (session=\"c59f7bb17285235eb3f54e169760276d\", element=\"b9304829-ddbd-4c97-b820-7fdbc400827c\")>,\n",
       " <selenium.webdriver.remote.webelement.WebElement (session=\"c59f7bb17285235eb3f54e169760276d\", element=\"f5ce38a5-7302-4ebc-b742-2f125fbeebf3\")>,\n",
       " <selenium.webdriver.remote.webelement.WebElement (session=\"c59f7bb17285235eb3f54e169760276d\", element=\"659302b2-323c-4c32-bc04-6f6a33ea22ab\")>,\n",
       " <selenium.webdriver.remote.webelement.WebElement (session=\"c59f7bb17285235eb3f54e169760276d\", element=\"28ee4dd7-123a-4609-a697-e9e4f3b92d9f\")>,\n",
       " <selenium.webdriver.remote.webelement.WebElement (session=\"c59f7bb17285235eb3f54e169760276d\", element=\"428a7555-e261-45da-9e47-4d39f3065cef\")>,\n",
       " <selenium.webdriver.remote.webelement.WebElement (session=\"c59f7bb17285235eb3f54e169760276d\", element=\"da39cabc-30ee-4464-9bea-ba7113bdb975\")>,\n",
       " <selenium.webdriver.remote.webelement.WebElement (session=\"c59f7bb17285235eb3f54e169760276d\", element=\"7e5c142c-cb07-4659-889f-9e49e892f528\")>,\n",
       " <selenium.webdriver.remote.webelement.WebElement (session=\"c59f7bb17285235eb3f54e169760276d\", element=\"6ead5271-089b-459a-904e-c63edd45a337\")>,\n",
       " <selenium.webdriver.remote.webelement.WebElement (session=\"c59f7bb17285235eb3f54e169760276d\", element=\"da5badef-135c-4081-96c3-4e28d840d187\")>,\n",
       " <selenium.webdriver.remote.webelement.WebElement (session=\"c59f7bb17285235eb3f54e169760276d\", element=\"152bf991-ca36-4756-9cc9-9b5d04b6e19c\")>,\n",
       " <selenium.webdriver.remote.webelement.WebElement (session=\"c59f7bb17285235eb3f54e169760276d\", element=\"9455fbf5-27af-4fe4-88d5-ed14bd3f5a9e\")>]"
      ]
     },
     "execution_count": 174,
     "metadata": {},
     "output_type": "execute_result"
    }
   ],
   "source": [
    "#finding max_salary element using xpath\n",
    "salary1_tags= driver.find_elements_by_xpath('//div[@class=\"value body-medium\"]')\n",
    "salary1_tags"
   ]
  },
  {
   "cell_type": "code",
   "execution_count": 175,
   "id": "dc8e9490",
   "metadata": {},
   "outputs": [
    {
     "data": {
      "text/plain": [
       "['₹ 10.4L',\n",
       " '₹ 40.0L',\n",
       " '₹ 10.7L',\n",
       " '₹ 38.0L',\n",
       " '₹ 13.0L',\n",
       " '₹ 45.0L',\n",
       " '₹ 12.0L',\n",
       " '₹ 34.0L',\n",
       " '₹ 12.0L',\n",
       " '₹ 33.0L',\n",
       " '₹ 7.5L',\n",
       " '₹ 31.0L',\n",
       " '₹ 13.0L',\n",
       " '₹ 26.3L',\n",
       " '₹ 11.0L',\n",
       " '₹ 32.5L',\n",
       " '₹ 12.0L',\n",
       " '₹ 30.0L',\n",
       " '₹ 8.0L',\n",
       " '₹ 43.0L']"
      ]
     },
     "execution_count": 175,
     "metadata": {},
     "output_type": "execute_result"
    }
   ],
   "source": [
    "salary1=[]\n",
    "for i in salary1_tags:\n",
    "    salary1.append(i.text)\n",
    "salary1"
   ]
  },
  {
   "cell_type": "code",
   "execution_count": 180,
   "id": "1a0c59af",
   "metadata": {},
   "outputs": [
    {
     "data": {
      "text/plain": [
       "['₹ 40.0L',\n",
       " '₹ 38.0L',\n",
       " '₹ 45.0L',\n",
       " '₹ 34.0L',\n",
       " '₹ 33.0L',\n",
       " '₹ 26.3L',\n",
       " '₹ 32.5L',\n",
       " '₹ 30.0L',\n",
       " '₹ 8.0L',\n",
       " '₹ 43.0L']"
      ]
     },
     "execution_count": 180,
     "metadata": {},
     "output_type": "execute_result"
    }
   ],
   "source": [
    "for i in salary1:\n",
    "    if i  < '₹ 20.0L':\n",
    "        salary1.remove(i)\n",
    "max_salary1=salary1\n",
    "max_salary1.pop(5)\n",
    "max_salary1"
   ]
  },
  {
   "cell_type": "code",
   "execution_count": 177,
   "id": "c62910d6",
   "metadata": {},
   "outputs": [
    {
     "data": {
      "text/plain": [
       "[<selenium.webdriver.remote.webelement.WebElement (session=\"c59f7bb17285235eb3f54e169760276d\", element=\"4d4ba009-c231-4ddd-b7cb-7271502f8d9e\")>,\n",
       " <selenium.webdriver.remote.webelement.WebElement (session=\"c59f7bb17285235eb3f54e169760276d\", element=\"0ecfe79f-d7b0-4442-8ead-8b1cfc8602b4\")>,\n",
       " <selenium.webdriver.remote.webelement.WebElement (session=\"c59f7bb17285235eb3f54e169760276d\", element=\"dab67fdb-4517-4caf-8682-679ed4015bc8\")>,\n",
       " <selenium.webdriver.remote.webelement.WebElement (session=\"c59f7bb17285235eb3f54e169760276d\", element=\"9ab11d01-48cd-4456-b257-a2539fbf1d7d\")>,\n",
       " <selenium.webdriver.remote.webelement.WebElement (session=\"c59f7bb17285235eb3f54e169760276d\", element=\"51805f1e-1176-4d5a-a60f-4127c8408e6a\")>,\n",
       " <selenium.webdriver.remote.webelement.WebElement (session=\"c59f7bb17285235eb3f54e169760276d\", element=\"c71dd083-6a4e-4e9b-b442-21c5889c09b1\")>,\n",
       " <selenium.webdriver.remote.webelement.WebElement (session=\"c59f7bb17285235eb3f54e169760276d\", element=\"789089e6-19df-48de-a106-dd910cf26e6f\")>,\n",
       " <selenium.webdriver.remote.webelement.WebElement (session=\"c59f7bb17285235eb3f54e169760276d\", element=\"421d0385-d48f-4a71-a165-e71a199acb54\")>,\n",
       " <selenium.webdriver.remote.webelement.WebElement (session=\"c59f7bb17285235eb3f54e169760276d\", element=\"986f7d30-8c34-4735-9fd8-97314a2deacb\")>,\n",
       " <selenium.webdriver.remote.webelement.WebElement (session=\"c59f7bb17285235eb3f54e169760276d\", element=\"6620c6b2-ec2f-412a-a12f-636142f94da2\")>]"
      ]
     },
     "execution_count": 177,
     "metadata": {},
     "output_type": "execute_result"
    }
   ],
   "source": [
    "#finding Experience element using xpath\n",
    "exp_tags= driver.find_elements_by_xpath('//div[@class=\"salaries sbold-list-header\"]')\n",
    "exp_tags"
   ]
  },
  {
   "cell_type": "code",
   "execution_count": 178,
   "id": "179c4b5f",
   "metadata": {},
   "outputs": [
    {
     "data": {
      "text/plain": [
       "['1 yr exp',\n",
       " '3 yrs exp',\n",
       " '1-4 yrs exp',\n",
       " '2 yrs exp',\n",
       " '2-4 yrs exp',\n",
       " '1-4 yrs exp',\n",
       " '2-4 yrs exp',\n",
       " '1-4 yrs exp',\n",
       " '1-2 yrs exp',\n",
       " '1-4 yrs exp']"
      ]
     },
     "execution_count": 178,
     "metadata": {},
     "output_type": "execute_result"
    }
   ],
   "source": [
    "exp_required=[]\n",
    "for i in exp_tags:\n",
    "    exp_required.append(i.text.split('\\n')[2])\n",
    "exp_required"
   ]
  },
  {
   "cell_type": "code",
   "execution_count": 181,
   "id": "4247bf72",
   "metadata": {},
   "outputs": [
    {
     "name": "stdout",
     "output_type": "stream",
     "text": [
      "10 10 10 10 10 10\n"
     ]
    }
   ],
   "source": [
    "print(len(company_name),len(total_salary),len(min_salary),len(max_salary1),len(avg_salary),len(exp_required))"
   ]
  },
  {
   "cell_type": "code",
   "execution_count": 182,
   "id": "3d684da1",
   "metadata": {},
   "outputs": [
    {
     "data": {
      "text/html": [
       "<div>\n",
       "<style scoped>\n",
       "    .dataframe tbody tr th:only-of-type {\n",
       "        vertical-align: middle;\n",
       "    }\n",
       "\n",
       "    .dataframe tbody tr th {\n",
       "        vertical-align: top;\n",
       "    }\n",
       "\n",
       "    .dataframe thead th {\n",
       "        text-align: right;\n",
       "    }\n",
       "</style>\n",
       "<table border=\"1\" class=\"dataframe\">\n",
       "  <thead>\n",
       "    <tr style=\"text-align: right;\">\n",
       "      <th></th>\n",
       "      <th>Company_Name</th>\n",
       "      <th>Total_Salary</th>\n",
       "      <th>Min_Salary</th>\n",
       "      <th>Max_Salary</th>\n",
       "      <th>Avg_Salary</th>\n",
       "      <th>Exp_Required</th>\n",
       "    </tr>\n",
       "  </thead>\n",
       "  <tbody>\n",
       "    <tr>\n",
       "      <th>0</th>\n",
       "      <td>Walmart</td>\n",
       "      <td>11</td>\n",
       "      <td>₹ 10.4L</td>\n",
       "      <td>₹ 40.0L</td>\n",
       "      <td>₹ 26.9L</td>\n",
       "      <td>1 yr exp</td>\n",
       "    </tr>\n",
       "    <tr>\n",
       "      <th>1</th>\n",
       "      <td>Ab Inbev</td>\n",
       "      <td>32</td>\n",
       "      <td>₹ 10.7L</td>\n",
       "      <td>₹ 38.0L</td>\n",
       "      <td>₹ 24.7L</td>\n",
       "      <td>3 yrs exp</td>\n",
       "    </tr>\n",
       "    <tr>\n",
       "      <th>2</th>\n",
       "      <td>Reliance Jio</td>\n",
       "      <td>10</td>\n",
       "      <td>₹ 13.0L</td>\n",
       "      <td>₹ 45.0L</td>\n",
       "      <td>₹ 23.7L</td>\n",
       "      <td>1-4 yrs exp</td>\n",
       "    </tr>\n",
       "    <tr>\n",
       "      <th>3</th>\n",
       "      <td>ZS</td>\n",
       "      <td>15</td>\n",
       "      <td>₹ 12.0L</td>\n",
       "      <td>₹ 34.0L</td>\n",
       "      <td>₹ 22.3L</td>\n",
       "      <td>2 yrs exp</td>\n",
       "    </tr>\n",
       "    <tr>\n",
       "      <th>4</th>\n",
       "      <td>Optum</td>\n",
       "      <td>27</td>\n",
       "      <td>₹ 12.0L</td>\n",
       "      <td>₹ 33.0L</td>\n",
       "      <td>₹ 21.0L</td>\n",
       "      <td>2-4 yrs exp</td>\n",
       "    </tr>\n",
       "    <tr>\n",
       "      <th>5</th>\n",
       "      <td>Fractal Analytics</td>\n",
       "      <td>81</td>\n",
       "      <td>₹ 7.5L</td>\n",
       "      <td>₹ 26.3L</td>\n",
       "      <td>₹ 20.3L</td>\n",
       "      <td>1-4 yrs exp</td>\n",
       "    </tr>\n",
       "    <tr>\n",
       "      <th>6</th>\n",
       "      <td>Tiger Analytics</td>\n",
       "      <td>46</td>\n",
       "      <td>₹ 13.0L</td>\n",
       "      <td>₹ 32.5L</td>\n",
       "      <td>₹ 20.2L</td>\n",
       "      <td>2-4 yrs exp</td>\n",
       "    </tr>\n",
       "    <tr>\n",
       "      <th>7</th>\n",
       "      <td>UnitedHealth</td>\n",
       "      <td>53</td>\n",
       "      <td>₹ 11.0L</td>\n",
       "      <td>₹ 30.0L</td>\n",
       "      <td>₹ 19.9L</td>\n",
       "      <td>1-4 yrs exp</td>\n",
       "    </tr>\n",
       "    <tr>\n",
       "      <th>8</th>\n",
       "      <td>Verizon</td>\n",
       "      <td>14</td>\n",
       "      <td>₹ 12.0L</td>\n",
       "      <td>₹ 8.0L</td>\n",
       "      <td>₹ 19.8L</td>\n",
       "      <td>1-2 yrs exp</td>\n",
       "    </tr>\n",
       "    <tr>\n",
       "      <th>9</th>\n",
       "      <td>Ganit Business Solutions</td>\n",
       "      <td>13</td>\n",
       "      <td>₹ 8.0L</td>\n",
       "      <td>₹ 43.0L</td>\n",
       "      <td>₹ 19.7L</td>\n",
       "      <td>1-4 yrs exp</td>\n",
       "    </tr>\n",
       "  </tbody>\n",
       "</table>\n",
       "</div>"
      ],
      "text/plain": [
       "               Company_Name Total_Salary Min_Salary Max_Salary Avg_Salary  \\\n",
       "0                   Walmart           11    ₹ 10.4L    ₹ 40.0L    ₹ 26.9L   \n",
       "1                  Ab Inbev           32    ₹ 10.7L    ₹ 38.0L    ₹ 24.7L   \n",
       "2              Reliance Jio           10    ₹ 13.0L    ₹ 45.0L    ₹ 23.7L   \n",
       "3                        ZS           15    ₹ 12.0L    ₹ 34.0L    ₹ 22.3L   \n",
       "4                     Optum           27    ₹ 12.0L    ₹ 33.0L    ₹ 21.0L   \n",
       "5         Fractal Analytics           81     ₹ 7.5L    ₹ 26.3L    ₹ 20.3L   \n",
       "6           Tiger Analytics           46    ₹ 13.0L    ₹ 32.5L    ₹ 20.2L   \n",
       "7              UnitedHealth           53    ₹ 11.0L    ₹ 30.0L    ₹ 19.9L   \n",
       "8                   Verizon           14    ₹ 12.0L     ₹ 8.0L    ₹ 19.8L   \n",
       "9  Ganit Business Solutions           13     ₹ 8.0L    ₹ 43.0L    ₹ 19.7L   \n",
       "\n",
       "  Exp_Required  \n",
       "0     1 yr exp  \n",
       "1    3 yrs exp  \n",
       "2  1-4 yrs exp  \n",
       "3    2 yrs exp  \n",
       "4  2-4 yrs exp  \n",
       "5  1-4 yrs exp  \n",
       "6  2-4 yrs exp  \n",
       "7  1-4 yrs exp  \n",
       "8  1-2 yrs exp  \n",
       "9  1-4 yrs exp  "
      ]
     },
     "execution_count": 182,
     "metadata": {},
     "output_type": "execute_result"
    }
   ],
   "source": [
    "# creating dataframe and assigning lists to columns\n",
    "Data_Specialist_Salary = pd.DataFrame({})\n",
    "Data_Specialist_Salary['Company_Name'] = company_name\n",
    "Data_Specialist_Salary['Total_Salary'] = total_salary\n",
    "Data_Specialist_Salary['Min_Salary'] = min_salary\n",
    "Data_Specialist_Salary['Max_Salary'] = max_salary1\n",
    "Data_Specialist_Salary['Avg_Salary'] = avg_salary\n",
    "Data_Specialist_Salary['Exp_Required'] = exp_required\n",
    "\n",
    "Data_Specialist_Salary"
   ]
  }
 ],
 "metadata": {
  "kernelspec": {
   "display_name": "Python 3",
   "language": "python",
   "name": "python3"
  },
  "language_info": {
   "codemirror_mode": {
    "name": "ipython",
    "version": 3
   },
   "file_extension": ".py",
   "mimetype": "text/x-python",
   "name": "python",
   "nbconvert_exporter": "python",
   "pygments_lexer": "ipython3",
   "version": "3.8.8"
  }
 },
 "nbformat": 4,
 "nbformat_minor": 5
}
